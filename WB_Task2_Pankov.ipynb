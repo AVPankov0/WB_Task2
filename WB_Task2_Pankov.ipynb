{
 "cells": [
  {
   "cell_type": "code",
   "execution_count": 1,
   "id": "38d9a06f",
   "metadata": {},
   "outputs": [],
   "source": [
    "import numpy as np\n",
    "import pandas as pd\n",
    "import seaborn as sns\n",
    "import nltk\n",
    "import pickle\n",
    "from gensim.models import Word2Vec\n",
    "from gensim.models import doc2vec\n",
    "from collections import Counter\n",
    "from nltk.corpus import stopwords\n",
    "from nltk.util import ngrams\n",
    "from nltk.stem.snowball import SnowballStemmer\n",
    "from string import punctuation\n",
    "from sklearn.metrics import confusion_matrix, precision_score, recall_score\n",
    "from sklearn.feature_extraction.text import TfidfVectorizer\n",
    "from sklearn.linear_model import LogisticRegression\n",
    "from sklearn.model_selection import cross_val_score, KFold, train_test_split\n",
    "from sklearn.experimental import enable_halving_search_cv\n",
    "from sklearn.model_selection import HalvingGridSearchCV"
   ]
  },
  {
   "cell_type": "code",
   "execution_count": 2,
   "id": "063c9134",
   "metadata": {},
   "outputs": [],
   "source": [
    "def count(text):\n",
    "    return len(text.split())\n",
    "def delta_score(i, k):\n",
    "    return abs(i - k)\n",
    "def average_word_length(sentence):\n",
    "    words = sentence.split()\n",
    "    return sum(len(word) for word in words) / len(words)\n",
    "def feature_minus(f1, f2):\n",
    "    return f1 - f2\n",
    "def feature_multiply(f1, f2):\n",
    "    return f1 * f2\n",
    "def feature_divide(f1, f2):\n",
    "    if f2==0:\n",
    "        return f1\n",
    "    else:\n",
    "        return f1 / f2\n",
    "def feature_plus(f1, f2):\n",
    "    return f1 + f2"
   ]
  },
  {
   "cell_type": "code",
   "execution_count": 3,
   "id": "27aae821",
   "metadata": {},
   "outputs": [],
   "source": [
    "swords = stopwords.words('russian')"
   ]
  },
  {
   "cell_type": "code",
   "execution_count": 4,
   "id": "22d8ce31",
   "metadata": {},
   "outputs": [],
   "source": [
    "stem = SnowballStemmer('russian')"
   ]
  },
  {
   "cell_type": "code",
   "execution_count": 5,
   "id": "c759e6f1",
   "metadata": {},
   "outputs": [],
   "source": [
    "df = pd.read_csv('./wb_school_task_2.csv.gzip', compression='gzip')"
   ]
  },
  {
   "cell_type": "code",
   "execution_count": 6,
   "id": "d072c896",
   "metadata": {
    "scrolled": false
   },
   "outputs": [
    {
     "data": {
      "text/html": [
       "<div>\n",
       "<style scoped>\n",
       "    .dataframe tbody tr th:only-of-type {\n",
       "        vertical-align: middle;\n",
       "    }\n",
       "\n",
       "    .dataframe tbody tr th {\n",
       "        vertical-align: top;\n",
       "    }\n",
       "\n",
       "    .dataframe thead th {\n",
       "        text-align: right;\n",
       "    }\n",
       "</style>\n",
       "<table border=\"1\" class=\"dataframe\">\n",
       "  <thead>\n",
       "    <tr style=\"text-align: right;\">\n",
       "      <th></th>\n",
       "      <th>id1</th>\n",
       "      <th>id2</th>\n",
       "      <th>id3</th>\n",
       "      <th>text</th>\n",
       "      <th>f1</th>\n",
       "      <th>f2</th>\n",
       "      <th>f3</th>\n",
       "      <th>f4</th>\n",
       "      <th>f5</th>\n",
       "      <th>f6</th>\n",
       "      <th>f7</th>\n",
       "      <th>f8</th>\n",
       "      <th>label</th>\n",
       "    </tr>\n",
       "  </thead>\n",
       "  <tbody>\n",
       "    <tr>\n",
       "      <th>0</th>\n",
       "      <td>7596126584852021591</td>\n",
       "      <td>173777575861152844</td>\n",
       "      <td>18254136755182295358</td>\n",
       "      <td>Хотела купить на замену старых,по итогу эти  у...</td>\n",
       "      <td>1</td>\n",
       "      <td>1</td>\n",
       "      <td>1.0</td>\n",
       "      <td>11</td>\n",
       "      <td>13</td>\n",
       "      <td>4.272727</td>\n",
       "      <td>18</td>\n",
       "      <td>36</td>\n",
       "      <td>0</td>\n",
       "    </tr>\n",
       "    <tr>\n",
       "      <th>1</th>\n",
       "      <td>5327406586753254371</td>\n",
       "      <td>14366783259208998381</td>\n",
       "      <td>2324030737335224220</td>\n",
       "      <td>Запах по сравнению с обычным DOVE никакой. Оно...</td>\n",
       "      <td>10</td>\n",
       "      <td>6</td>\n",
       "      <td>2.7</td>\n",
       "      <td>46</td>\n",
       "      <td>4</td>\n",
       "      <td>4.434783</td>\n",
       "      <td>90</td>\n",
       "      <td>109</td>\n",
       "      <td>1</td>\n",
       "    </tr>\n",
       "    <tr>\n",
       "      <th>2</th>\n",
       "      <td>2636757786779776109</td>\n",
       "      <td>16985421652518589249</td>\n",
       "      <td>4904562693381133981</td>\n",
       "      <td>Кабель подошёл, хорошо работает.</td>\n",
       "      <td>4</td>\n",
       "      <td>4</td>\n",
       "      <td>4.0</td>\n",
       "      <td>14</td>\n",
       "      <td>0</td>\n",
       "      <td>4.500000</td>\n",
       "      <td>4</td>\n",
       "      <td>6</td>\n",
       "      <td>0</td>\n",
       "    </tr>\n",
       "    <tr>\n",
       "      <th>3</th>\n",
       "      <td>15432976385014516263</td>\n",
       "      <td>2629180387521298831</td>\n",
       "      <td>13541353053200353836</td>\n",
       "      <td>Восторг! Очень приятный аромат, держится долго...</td>\n",
       "      <td>6</td>\n",
       "      <td>6</td>\n",
       "      <td>5.0</td>\n",
       "      <td>374</td>\n",
       "      <td>30</td>\n",
       "      <td>4.772727</td>\n",
       "      <td>14</td>\n",
       "      <td>15</td>\n",
       "      <td>1</td>\n",
       "    </tr>\n",
       "    <tr>\n",
       "      <th>4</th>\n",
       "      <td>11933982800034911890</td>\n",
       "      <td>14531191561111600318</td>\n",
       "      <td>9121890650636487522</td>\n",
       "      <td>Визуально все хорошо. Не пробовали. Купили в п...</td>\n",
       "      <td>19</td>\n",
       "      <td>18</td>\n",
       "      <td>5.0</td>\n",
       "      <td>6</td>\n",
       "      <td>4</td>\n",
       "      <td>5.000000</td>\n",
       "      <td>26</td>\n",
       "      <td>33</td>\n",
       "      <td>0</td>\n",
       "    </tr>\n",
       "  </tbody>\n",
       "</table>\n",
       "</div>"
      ],
      "text/plain": [
       "                    id1                   id2                   id3  \\\n",
       "0   7596126584852021591    173777575861152844  18254136755182295358   \n",
       "1   5327406586753254371  14366783259208998381   2324030737335224220   \n",
       "2   2636757786779776109  16985421652518589249   4904562693381133981   \n",
       "3  15432976385014516263   2629180387521298831  13541353053200353836   \n",
       "4  11933982800034911890  14531191561111600318   9121890650636487522   \n",
       "\n",
       "                                                text  f1  f2   f3   f4  f5  \\\n",
       "0  Хотела купить на замену старых,по итогу эти  у...   1   1  1.0   11  13   \n",
       "1  Запах по сравнению с обычным DOVE никакой. Оно...  10   6  2.7   46   4   \n",
       "2                   Кабель подошёл, хорошо работает.   4   4  4.0   14   0   \n",
       "3  Восторг! Очень приятный аромат, держится долго...   6   6  5.0  374  30   \n",
       "4  Визуально все хорошо. Не пробовали. Купили в п...  19  18  5.0    6   4   \n",
       "\n",
       "         f6  f7   f8  label  \n",
       "0  4.272727  18   36      0  \n",
       "1  4.434783  90  109      1  \n",
       "2  4.500000   4    6      0  \n",
       "3  4.772727  14   15      1  \n",
       "4  5.000000  26   33      0  "
      ]
     },
     "execution_count": 6,
     "metadata": {},
     "output_type": "execute_result"
    }
   ],
   "source": [
    "df.head()"
   ]
  },
  {
   "cell_type": "code",
   "execution_count": 7,
   "id": "f81b74c1",
   "metadata": {},
   "outputs": [],
   "source": [
    "df['w_count'] = df.text.apply(count)\n",
    "df['d_score'] = df.apply(lambda x: delta_score(x['f3'], x['f6']), axis=1)\n",
    "df['av_w_len'] = df.text.apply(average_word_length)\n",
    "for i in range(1, 9):\n",
    "    for k in range(1, 9):\n",
    "        if i == k:\n",
    "            pass\n",
    "        else:\n",
    "            df['fmin{}'.format(str(i)+str(k))]=df.apply(lambda x: feature_minus(x['f{}'.format(int(i))], x['f{}'.format(int(k))]), axis=1)\n",
    "            df['fplus{}'.format(str(i)+str(k))]=df.apply(lambda x: feature_plus(x['f{}'.format(int(i))], x['f{}'.format(int(k))]), axis=1)\n",
    "            df['fmult{}'.format(str(i)+str(k))]=df.apply(lambda x: feature_multiply(x['f{}'.format(int(i))], x['f{}'.format(int(k))]), axis=1)\n",
    "            df['fdiv{}'.format(str(i)+str(k))]=df.apply(lambda x: feature_divide(x['f{}'.format(int(i))], x['f{}'.format(int(k))]), axis=1)"
   ]
  },
  {
   "cell_type": "code",
   "execution_count": 8,
   "id": "65c23544",
   "metadata": {},
   "outputs": [],
   "source": [
    "text = df.text"
   ]
  },
  {
   "cell_type": "code",
   "execution_count": 9,
   "id": "73fc4ed5",
   "metadata": {},
   "outputs": [
    {
     "data": {
      "text/plain": [
       "'Хотела купить на замену старых,по итогу эти  ужаснотупые ,не удобные ,рвут кутикулу ,а не режут.'"
      ]
     },
     "execution_count": 9,
     "metadata": {},
     "output_type": "execute_result"
    }
   ],
   "source": [
    "text[0]"
   ]
  },
  {
   "cell_type": "markdown",
   "id": "acfb5624",
   "metadata": {},
   "source": [
    "# Первичная обработка"
   ]
  },
  {
   "cell_type": "code",
   "execution_count": 10,
   "id": "e3dba3c8",
   "metadata": {},
   "outputs": [],
   "source": [
    "tokenized_sw_p = pd.Series([nltk.word_tokenize(text[i], language='russian') for i in range(0, len(text))])"
   ]
  },
  {
   "cell_type": "code",
   "execution_count": 11,
   "id": "3dc32f73",
   "metadata": {},
   "outputs": [
    {
     "data": {
      "text/plain": [
       "0    [Хотела, купить, на, замену, старых, ,, по, ит...\n",
       "1    [Запах, по, сравнению, с, обычным, DOVE, никак...\n",
       "2            [Кабель, подошёл, ,, хорошо, работает, .]\n",
       "3    [Восторг, !, Очень, приятный, аромат, ,, держи...\n",
       "4    [Визуально, все, хорошо, ., Не, пробовали, ., ...\n",
       "dtype: object"
      ]
     },
     "execution_count": 11,
     "metadata": {},
     "output_type": "execute_result"
    }
   ],
   "source": [
    "tokenized_sw_p.head()"
   ]
  },
  {
   "cell_type": "code",
   "execution_count": 12,
   "id": "dda23995",
   "metadata": {},
   "outputs": [],
   "source": [
    "stemmed = []\n",
    "for i in range(0, len(tokenized_sw_p)):\n",
    "    stemmed.append([stem.stem(token) for token in tokenized_sw_p[i] if token not in swords and token not in punctuation])\n",
    "stemmed = pd.Series(stemmed)"
   ]
  },
  {
   "cell_type": "code",
   "execution_count": 13,
   "id": "65c40dab",
   "metadata": {},
   "outputs": [],
   "source": [
    "del tokenized_sw_p\n",
    "del text"
   ]
  },
  {
   "cell_type": "code",
   "execution_count": 14,
   "id": "5c1011d6",
   "metadata": {},
   "outputs": [],
   "source": [
    "for i in range(0, len(stemmed)):\n",
    "    stemmed[i] = \" \".join(stemmed[i])"
   ]
  },
  {
   "cell_type": "code",
   "execution_count": 15,
   "id": "7557927d",
   "metadata": {},
   "outputs": [],
   "source": [
    "stemmed_tok = pd.Series([nltk.word_tokenize(stemmed[i], language='russian') for i in range(0, len(stemmed))])"
   ]
  },
  {
   "cell_type": "code",
   "execution_count": 16,
   "id": "60f97af5",
   "metadata": {},
   "outputs": [
    {
     "data": {
      "text/plain": [
       "1"
      ]
     },
     "execution_count": 16,
     "metadata": {},
     "output_type": "execute_result"
    }
   ],
   "source": [
    "df.label[1]"
   ]
  },
  {
   "cell_type": "code",
   "execution_count": 17,
   "id": "0ac1a1ed",
   "metadata": {},
   "outputs": [],
   "source": [
    "stemmed_tag=[]\n",
    "for i in range(0, len(stemmed_tok)):\n",
    "    stemmed_tag.append(doc2vec.TaggedDocument(stemmed_tok[i], [i]))"
   ]
  },
  {
   "cell_type": "code",
   "execution_count": 18,
   "id": "a2286478",
   "metadata": {},
   "outputs": [],
   "source": [
    "wvec = Word2Vec(vector_size=100, min_count=1, workers = -1)"
   ]
  },
  {
   "cell_type": "code",
   "execution_count": 19,
   "id": "67431cbf",
   "metadata": {},
   "outputs": [],
   "source": [
    "wvec.build_vocab(stemmed_tok)"
   ]
  },
  {
   "cell_type": "code",
   "execution_count": 20,
   "id": "8af65139",
   "metadata": {},
   "outputs": [
    {
     "data": {
      "text/plain": [
       "(0, 0)"
      ]
     },
     "execution_count": 20,
     "metadata": {},
     "output_type": "execute_result"
    }
   ],
   "source": [
    "wvec.train(stemmed_tok, total_examples=wvec.corpus_count, epochs=30)"
   ]
  },
  {
   "cell_type": "code",
   "execution_count": 21,
   "id": "d01ff38c",
   "metadata": {},
   "outputs": [],
   "source": [
    "docvec = doc2vec.Doc2Vec(vector_size=100, min_count=1, workers = -1)"
   ]
  },
  {
   "cell_type": "code",
   "execution_count": 22,
   "id": "62369447",
   "metadata": {},
   "outputs": [],
   "source": [
    "docvec.build_vocab(stemmed_tag)"
   ]
  },
  {
   "cell_type": "code",
   "execution_count": 23,
   "id": "23fe6b37",
   "metadata": {},
   "outputs": [],
   "source": [
    "docvec.train(stemmed_tag, total_examples=docvec.corpus_count, epochs=30)"
   ]
  },
  {
   "cell_type": "code",
   "execution_count": 24,
   "id": "60cf5a40",
   "metadata": {},
   "outputs": [],
   "source": [
    "av=[]\n",
    "for i in range(0, len(stemmed_tok)):\n",
    "    l = np.array([wvec.wv[tok] for tok in stemmed_tok[i]])\n",
    "    av.append((np.average(a=l,  axis = 1, weights=docvec[i])))\n",
    "av = pd.Series(av) "
   ]
  },
  {
   "cell_type": "code",
   "execution_count": 25,
   "id": "7051eebe",
   "metadata": {},
   "outputs": [
    {
     "data": {
      "text/plain": [
       "0       [0.006501248, -0.036276843, -0.007388494, -0.0...\n",
       "1       [-0.0074324375, -0.00013321558, 0.0023792938, ...\n",
       "2                 [-0.39994472, -0.10498576, -0.05326255]\n",
       "3       [0.008655487, -0.005591501, -0.0022221394, 0.0...\n",
       "4       [0.026074508, 0.00541414, -0.034570817, 0.0017...\n",
       "                              ...                        \n",
       "3118    [0.0014307552, -0.0033318643, -0.0070807342, -...\n",
       "3119    [0.010798217, -0.022032978, 0.026537852, 0.014...\n",
       "3120    [0.01548819, -0.0035458382, -0.004728016, 0.00...\n",
       "3121    [0.010622692, 0.2379645, 0.075829595, 0.073439...\n",
       "3122    [-0.05496994, 0.06809626, 0.09177352, -0.06670...\n",
       "Length: 3123, dtype: object"
      ]
     },
     "execution_count": 25,
     "metadata": {},
     "output_type": "execute_result"
    }
   ],
   "source": [
    "av"
   ]
  },
  {
   "cell_type": "code",
   "execution_count": 26,
   "id": "a25bab66",
   "metadata": {},
   "outputs": [],
   "source": [
    "X = [[]]*len(stemmed_tok)\n",
    "for i in range(0, len(stemmed_tok)):\n",
    "    X[i]= np.append(X[i], av[i].min())\n",
    "    X[i]= np.append(X[i], av[i].max())"
   ]
  },
  {
   "cell_type": "code",
   "execution_count": 27,
   "id": "52b794be",
   "metadata": {},
   "outputs": [
    {
     "data": {
      "text/plain": [
       "array([-0.03627684,  0.02866629])"
      ]
     },
     "execution_count": 27,
     "metadata": {},
     "output_type": "execute_result"
    }
   ],
   "source": [
    "X[0]"
   ]
  },
  {
   "cell_type": "code",
   "execution_count": 28,
   "id": "af9f86a2",
   "metadata": {},
   "outputs": [],
   "source": [
    "del av"
   ]
  },
  {
   "cell_type": "code",
   "execution_count": 29,
   "id": "4d102a9b",
   "metadata": {},
   "outputs": [],
   "source": [
    "y = df.label"
   ]
  },
  {
   "cell_type": "code",
   "execution_count": 30,
   "id": "b15c8747",
   "metadata": {},
   "outputs": [],
   "source": [
    "X_train, X_test, y_train, y_test = train_test_split(X, y, test_size=0.2, random_state=42)\n",
    "X_test, X_val, y_test, y_val = train_test_split(X_test, y_test, test_size=0.2, random_state=42)"
   ]
  },
  {
   "cell_type": "code",
   "execution_count": 31,
   "id": "804046b3",
   "metadata": {},
   "outputs": [
    {
     "data": {
      "text/plain": [
       "<seaborn.axisgrid.FacetGrid at 0x1de81dad330>"
      ]
     },
     "execution_count": 31,
     "metadata": {},
     "output_type": "execute_result"
    },
    {
     "data": {
      "image/png": "[encoded data removed]",
      "text/plain": [
       "<Figure size 500x500 with 1 Axes>"
      ]
     },
     "metadata": {},
     "output_type": "display_data"
    },
    {
     "data": {
      "image/png": "[encoded data removed]",
      "text/plain": [
       "<Figure size 500x500 with 1 Axes>"
      ]
     },
     "metadata": {},
     "output_type": "display_data"
    },
    {
     "data": {
      "image/png": "[encoded data removed]",
      "text/plain": [
       "<Figure size 500x500 with 1 Axes>"
      ]
     },
     "metadata": {},
     "output_type": "display_data"
    }
   ],
   "source": [
    "sns.displot(y_val)\n",
    "sns.displot(y_test)\n",
    "sns.displot(y_train)"
   ]
  },
  {
   "cell_type": "code",
   "execution_count": 32,
   "id": "5807846a",
   "metadata": {},
   "outputs": [],
   "source": [
    "clf = LogisticRegression()"
   ]
  },
  {
   "cell_type": "code",
   "execution_count": 33,
   "id": "6df7a5c7",
   "metadata": {},
   "outputs": [
    {
     "data": {
      "text/html": [
       "<style>#sk-container-id-1 {color: black;background-color: white;}#sk-container-id-1 pre{padding: 0;}#sk-container-id-1 div.sk-toggleable {background-color: white;}#sk-container-id-1 label.sk-toggleable__label {cursor: pointer;display: block;width: 100%;margin-bottom: 0;padding: 0.3em;box-sizing: border-box;text-align: center;}#sk-container-id-1 label.sk-toggleable__label-arrow:before {content: \"▸\";float: left;margin-right: 0.25em;color: #696969;}#sk-container-id-1 label.sk-toggleable__label-arrow:hover:before {color: black;}#sk-container-id-1 div.sk-estimator:hover label.sk-toggleable__label-arrow:before {color: black;}#sk-container-id-1 div.sk-toggleable__content {max-height: 0;max-width: 0;overflow: hidden;text-align: left;background-color: #f0f8ff;}#sk-container-id-1 div.sk-toggleable__content pre {margin: 0.2em;color: black;border-radius: 0.25em;background-color: #f0f8ff;}#sk-container-id-1 input.sk-toggleable__control:checked~div.sk-toggleable__content {max-height: 200px;max-width: 100%;overflow: auto;}#sk-container-id-1 input.sk-toggleable__control:checked~label.sk-toggleable__label-arrow:before {content: \"▾\";}#sk-container-id-1 div.sk-estimator input.sk-toggleable__control:checked~label.sk-toggleable__label {background-color: #d4ebff;}#sk-container-id-1 div.sk-label input.sk-toggleable__control:checked~label.sk-toggleable__label {background-color: #d4ebff;}#sk-container-id-1 input.sk-hidden--visually {border: 0;clip: rect(1px 1px 1px 1px);clip: rect(1px, 1px, 1px, 1px);height: 1px;margin: -1px;overflow: hidden;padding: 0;position: absolute;width: 1px;}#sk-container-id-1 div.sk-estimator {font-family: monospace;background-color: #f0f8ff;border: 1px dotted black;border-radius: 0.25em;box-sizing: border-box;margin-bottom: 0.5em;}#sk-container-id-1 div.sk-estimator:hover {background-color: #d4ebff;}#sk-container-id-1 div.sk-parallel-item::after {content: \"\";width: 100%;border-bottom: 1px solid gray;flex-grow: 1;}#sk-container-id-1 div.sk-label:hover label.sk-toggleable__label {background-color: #d4ebff;}#sk-container-id-1 div.sk-serial::before {content: \"\";position: absolute;border-left: 1px solid gray;box-sizing: border-box;top: 0;bottom: 0;left: 50%;z-index: 0;}#sk-container-id-1 div.sk-serial {display: flex;flex-direction: column;align-items: center;background-color: white;padding-right: 0.2em;padding-left: 0.2em;position: relative;}#sk-container-id-1 div.sk-item {position: relative;z-index: 1;}#sk-container-id-1 div.sk-parallel {display: flex;align-items: stretch;justify-content: center;background-color: white;position: relative;}#sk-container-id-1 div.sk-item::before, #sk-container-id-1 div.sk-parallel-item::before {content: \"\";position: absolute;border-left: 1px solid gray;box-sizing: border-box;top: 0;bottom: 0;left: 50%;z-index: -1;}#sk-container-id-1 div.sk-parallel-item {display: flex;flex-direction: column;z-index: 1;position: relative;background-color: white;}#sk-container-id-1 div.sk-parallel-item:first-child::after {align-self: flex-end;width: 50%;}#sk-container-id-1 div.sk-parallel-item:last-child::after {align-self: flex-start;width: 50%;}#sk-container-id-1 div.sk-parallel-item:only-child::after {width: 0;}#sk-container-id-1 div.sk-dashed-wrapped {border: 1px dashed gray;margin: 0 0.4em 0.5em 0.4em;box-sizing: border-box;padding-bottom: 0.4em;background-color: white;}#sk-container-id-1 div.sk-label label {font-family: monospace;font-weight: bold;display: inline-block;line-height: 1.2em;}#sk-container-id-1 div.sk-label-container {text-align: center;}#sk-container-id-1 div.sk-container {/* jupyter's `normalize.less` sets `[hidden] { display: none; }` but bootstrap.min.css set `[hidden] { display: none !important; }` so we also need the `!important` here to be able to override the default hidden behavior on the sphinx rendered scikit-learn.org. See: https://github.com/scikit-learn/scikit-learn/issues/21755 */display: inline-block !important;position: relative;}#sk-container-id-1 div.sk-text-repr-fallback {display: none;}</style><div id=\"sk-container-id-1\" class=\"sk-top-container\"><div class=\"sk-text-repr-fallback\"><pre>LogisticRegression()</pre><b>In a Jupyter environment, please rerun this cell to show the HTML representation or trust the notebook. <br />On GitHub, the HTML representation is unable to render, please try loading this page with nbviewer.org.</b></div><div class=\"sk-container\" hidden><div class=\"sk-item\"><div class=\"sk-estimator sk-toggleable\"><input class=\"sk-toggleable__control sk-hidden--visually\" id=\"sk-estimator-id-1\" type=\"checkbox\" checked><label for=\"sk-estimator-id-1\" class=\"sk-toggleable__label sk-toggleable__label-arrow\">LogisticRegression</label><div class=\"sk-toggleable__content\"><pre>LogisticRegression()</pre></div></div></div></div></div>"
      ],
      "text/plain": [
       "LogisticRegression()"
      ]
     },
     "execution_count": 33,
     "metadata": {},
     "output_type": "execute_result"
    }
   ],
   "source": [
    "clf.fit(X_train, y_train)"
   ]
  },
  {
   "cell_type": "code",
   "execution_count": 34,
   "id": "7df3a082",
   "metadata": {},
   "outputs": [],
   "source": [
    "y_pred = clf.predict(X_test)"
   ]
  },
  {
   "cell_type": "code",
   "execution_count": 35,
   "id": "8226d88f",
   "metadata": {},
   "outputs": [],
   "source": [
    "cf_mx = confusion_matrix(y_test, y_pred)"
   ]
  },
  {
   "cell_type": "code",
   "execution_count": 36,
   "id": "658d914a",
   "metadata": {},
   "outputs": [
    {
     "data": {
      "text/plain": [
       "<Axes: >"
      ]
     },
     "execution_count": 36,
     "metadata": {},
     "output_type": "execute_result"
    },
    {
     "data": {
      "image/png": "[encoded data removed]",
      "text/plain": [
       "<Figure size 640x480 with 2 Axes>"
      ]
     },
     "metadata": {},
     "output_type": "display_data"
    }
   ],
   "source": [
    "sns.heatmap(pd.DataFrame(cf_mx), annot=True)"
   ]
  },
  {
   "cell_type": "code",
   "execution_count": 37,
   "id": "d637db58",
   "metadata": {},
   "outputs": [],
   "source": [
    "X=[]\n",
    "for i in range(0, len(stemmed_tok)):\n",
    "    X.append(docvec[i])"
   ]
  },
  {
   "cell_type": "code",
   "execution_count": 38,
   "id": "70eb4476",
   "metadata": {},
   "outputs": [],
   "source": [
    "X_train, X_test, y_train, y_test = train_test_split(X, y, test_size=0.2, random_state=42)\n",
    "X_test, X_val, y_test, y_val = train_test_split(X_test, y_test, test_size=0.2, random_state=42)"
   ]
  },
  {
   "cell_type": "code",
   "execution_count": 39,
   "id": "19586757",
   "metadata": {},
   "outputs": [],
   "source": [
    "clf_d = LogisticRegression()"
   ]
  },
  {
   "cell_type": "code",
   "execution_count": 40,
   "id": "f259ffba",
   "metadata": {},
   "outputs": [
    {
     "data": {
      "text/html": [
       "<style>#sk-container-id-2 {color: black;background-color: white;}#sk-container-id-2 pre{padding: 0;}#sk-container-id-2 div.sk-toggleable {background-color: white;}#sk-container-id-2 label.sk-toggleable__label {cursor: pointer;display: block;width: 100%;margin-bottom: 0;padding: 0.3em;box-sizing: border-box;text-align: center;}#sk-container-id-2 label.sk-toggleable__label-arrow:before {content: \"▸\";float: left;margin-right: 0.25em;color: #696969;}#sk-container-id-2 label.sk-toggleable__label-arrow:hover:before {color: black;}#sk-container-id-2 div.sk-estimator:hover label.sk-toggleable__label-arrow:before {color: black;}#sk-container-id-2 div.sk-toggleable__content {max-height: 0;max-width: 0;overflow: hidden;text-align: left;background-color: #f0f8ff;}#sk-container-id-2 div.sk-toggleable__content pre {margin: 0.2em;color: black;border-radius: 0.25em;background-color: #f0f8ff;}#sk-container-id-2 input.sk-toggleable__control:checked~div.sk-toggleable__content {max-height: 200px;max-width: 100%;overflow: auto;}#sk-container-id-2 input.sk-toggleable__control:checked~label.sk-toggleable__label-arrow:before {content: \"▾\";}#sk-container-id-2 div.sk-estimator input.sk-toggleable__control:checked~label.sk-toggleable__label {background-color: #d4ebff;}#sk-container-id-2 div.sk-label input.sk-toggleable__control:checked~label.sk-toggleable__label {background-color: #d4ebff;}#sk-container-id-2 input.sk-hidden--visually {border: 0;clip: rect(1px 1px 1px 1px);clip: rect(1px, 1px, 1px, 1px);height: 1px;margin: -1px;overflow: hidden;padding: 0;position: absolute;width: 1px;}#sk-container-id-2 div.sk-estimator {font-family: monospace;background-color: #f0f8ff;border: 1px dotted black;border-radius: 0.25em;box-sizing: border-box;margin-bottom: 0.5em;}#sk-container-id-2 div.sk-estimator:hover {background-color: #d4ebff;}#sk-container-id-2 div.sk-parallel-item::after {content: \"\";width: 100%;border-bottom: 1px solid gray;flex-grow: 1;}#sk-container-id-2 div.sk-label:hover label.sk-toggleable__label {background-color: #d4ebff;}#sk-container-id-2 div.sk-serial::before {content: \"\";position: absolute;border-left: 1px solid gray;box-sizing: border-box;top: 0;bottom: 0;left: 50%;z-index: 0;}#sk-container-id-2 div.sk-serial {display: flex;flex-direction: column;align-items: center;background-color: white;padding-right: 0.2em;padding-left: 0.2em;position: relative;}#sk-container-id-2 div.sk-item {position: relative;z-index: 1;}#sk-container-id-2 div.sk-parallel {display: flex;align-items: stretch;justify-content: center;background-color: white;position: relative;}#sk-container-id-2 div.sk-item::before, #sk-container-id-2 div.sk-parallel-item::before {content: \"\";position: absolute;border-left: 1px solid gray;box-sizing: border-box;top: 0;bottom: 0;left: 50%;z-index: -1;}#sk-container-id-2 div.sk-parallel-item {display: flex;flex-direction: column;z-index: 1;position: relative;background-color: white;}#sk-container-id-2 div.sk-parallel-item:first-child::after {align-self: flex-end;width: 50%;}#sk-container-id-2 div.sk-parallel-item:last-child::after {align-self: flex-start;width: 50%;}#sk-container-id-2 div.sk-parallel-item:only-child::after {width: 0;}#sk-container-id-2 div.sk-dashed-wrapped {border: 1px dashed gray;margin: 0 0.4em 0.5em 0.4em;box-sizing: border-box;padding-bottom: 0.4em;background-color: white;}#sk-container-id-2 div.sk-label label {font-family: monospace;font-weight: bold;display: inline-block;line-height: 1.2em;}#sk-container-id-2 div.sk-label-container {text-align: center;}#sk-container-id-2 div.sk-container {/* jupyter's `normalize.less` sets `[hidden] { display: none; }` but bootstrap.min.css set `[hidden] { display: none !important; }` so we also need the `!important` here to be able to override the default hidden behavior on the sphinx rendered scikit-learn.org. See: https://github.com/scikit-learn/scikit-learn/issues/21755 */display: inline-block !important;position: relative;}#sk-container-id-2 div.sk-text-repr-fallback {display: none;}</style><div id=\"sk-container-id-2\" class=\"sk-top-container\"><div class=\"sk-text-repr-fallback\"><pre>LogisticRegression()</pre><b>In a Jupyter environment, please rerun this cell to show the HTML representation or trust the notebook. <br />On GitHub, the HTML representation is unable to render, please try loading this page with nbviewer.org.</b></div><div class=\"sk-container\" hidden><div class=\"sk-item\"><div class=\"sk-estimator sk-toggleable\"><input class=\"sk-toggleable__control sk-hidden--visually\" id=\"sk-estimator-id-2\" type=\"checkbox\" checked><label for=\"sk-estimator-id-2\" class=\"sk-toggleable__label sk-toggleable__label-arrow\">LogisticRegression</label><div class=\"sk-toggleable__content\"><pre>LogisticRegression()</pre></div></div></div></div></div>"
      ],
      "text/plain": [
       "LogisticRegression()"
      ]
     },
     "execution_count": 40,
     "metadata": {},
     "output_type": "execute_result"
    }
   ],
   "source": [
    "clf_d.fit(X_train, y_train)"
   ]
  },
  {
   "cell_type": "code",
   "execution_count": 41,
   "id": "920688c4",
   "metadata": {},
   "outputs": [],
   "source": [
    "y_pred = clf_d.predict(X_test)"
   ]
  },
  {
   "cell_type": "code",
   "execution_count": 42,
   "id": "e7816c20",
   "metadata": {},
   "outputs": [],
   "source": [
    "cf_mx_d = confusion_matrix(y_test, y_pred)"
   ]
  },
  {
   "cell_type": "code",
   "execution_count": 43,
   "id": "67c5d8b7",
   "metadata": {},
   "outputs": [
    {
     "data": {
      "text/plain": [
       "<Axes: >"
      ]
     },
     "execution_count": 43,
     "metadata": {},
     "output_type": "execute_result"
    },
    {
     "data": {
      "image/png": "[encoded data removed]",
      "text/plain": [
       "<Figure size 640x480 with 2 Axes>"
      ]
     },
     "metadata": {},
     "output_type": "display_data"
    }
   ],
   "source": [
    "sns.heatmap(pd.DataFrame(cf_mx_d), annot=True)"
   ]
  },
  {
   "cell_type": "code",
   "execution_count": 44,
   "id": "141879ae",
   "metadata": {},
   "outputs": [],
   "source": [
    "X=df.drop(['id1', 'id2', 'id3', 'text', 'label'], axis=1)"
   ]
  },
  {
   "cell_type": "code",
   "execution_count": 45,
   "id": "b503bf74",
   "metadata": {},
   "outputs": [
    {
     "data": {
      "text/plain": [
       "(3123, 235)"
      ]
     },
     "execution_count": 45,
     "metadata": {},
     "output_type": "execute_result"
    }
   ],
   "source": [
    "X.shape"
   ]
  },
  {
   "cell_type": "code",
   "execution_count": 46,
   "id": "dcba800f",
   "metadata": {},
   "outputs": [
    {
     "data": {
      "text/html": [
       "<div>\n",
       "<style scoped>\n",
       "    .dataframe tbody tr th:only-of-type {\n",
       "        vertical-align: middle;\n",
       "    }\n",
       "\n",
       "    .dataframe tbody tr th {\n",
       "        vertical-align: top;\n",
       "    }\n",
       "\n",
       "    .dataframe thead th {\n",
       "        text-align: right;\n",
       "    }\n",
       "</style>\n",
       "<table border=\"1\" class=\"dataframe\">\n",
       "  <thead>\n",
       "    <tr style=\"text-align: right;\">\n",
       "      <th></th>\n",
       "      <th>f1</th>\n",
       "      <th>f2</th>\n",
       "      <th>f3</th>\n",
       "      <th>f4</th>\n",
       "      <th>f5</th>\n",
       "      <th>f6</th>\n",
       "      <th>f7</th>\n",
       "      <th>f8</th>\n",
       "      <th>w_count</th>\n",
       "      <th>d_score</th>\n",
       "      <th>...</th>\n",
       "      <th>fmult85</th>\n",
       "      <th>fdiv85</th>\n",
       "      <th>fmin86</th>\n",
       "      <th>fplus86</th>\n",
       "      <th>fmult86</th>\n",
       "      <th>fdiv86</th>\n",
       "      <th>fmin87</th>\n",
       "      <th>fplus87</th>\n",
       "      <th>fmult87</th>\n",
       "      <th>fdiv87</th>\n",
       "    </tr>\n",
       "  </thead>\n",
       "  <tbody>\n",
       "    <tr>\n",
       "      <th>0</th>\n",
       "      <td>1</td>\n",
       "      <td>1</td>\n",
       "      <td>1.0</td>\n",
       "      <td>11</td>\n",
       "      <td>13</td>\n",
       "      <td>4.272727</td>\n",
       "      <td>18</td>\n",
       "      <td>36</td>\n",
       "      <td>15</td>\n",
       "      <td>3.272727</td>\n",
       "      <td>...</td>\n",
       "      <td>468</td>\n",
       "      <td>2.769231</td>\n",
       "      <td>31.727273</td>\n",
       "      <td>40.272727</td>\n",
       "      <td>153.818182</td>\n",
       "      <td>8.425532</td>\n",
       "      <td>18</td>\n",
       "      <td>54</td>\n",
       "      <td>648</td>\n",
       "      <td>2.000000</td>\n",
       "    </tr>\n",
       "    <tr>\n",
       "      <th>1</th>\n",
       "      <td>10</td>\n",
       "      <td>6</td>\n",
       "      <td>2.7</td>\n",
       "      <td>46</td>\n",
       "      <td>4</td>\n",
       "      <td>4.434783</td>\n",
       "      <td>90</td>\n",
       "      <td>109</td>\n",
       "      <td>15</td>\n",
       "      <td>1.734783</td>\n",
       "      <td>...</td>\n",
       "      <td>436</td>\n",
       "      <td>27.250000</td>\n",
       "      <td>104.565217</td>\n",
       "      <td>113.434783</td>\n",
       "      <td>483.391304</td>\n",
       "      <td>24.578431</td>\n",
       "      <td>19</td>\n",
       "      <td>199</td>\n",
       "      <td>9810</td>\n",
       "      <td>1.211111</td>\n",
       "    </tr>\n",
       "    <tr>\n",
       "      <th>2</th>\n",
       "      <td>4</td>\n",
       "      <td>4</td>\n",
       "      <td>4.0</td>\n",
       "      <td>14</td>\n",
       "      <td>0</td>\n",
       "      <td>4.500000</td>\n",
       "      <td>4</td>\n",
       "      <td>6</td>\n",
       "      <td>4</td>\n",
       "      <td>0.500000</td>\n",
       "      <td>...</td>\n",
       "      <td>0</td>\n",
       "      <td>6.000000</td>\n",
       "      <td>1.500000</td>\n",
       "      <td>10.500000</td>\n",
       "      <td>27.000000</td>\n",
       "      <td>1.333333</td>\n",
       "      <td>2</td>\n",
       "      <td>10</td>\n",
       "      <td>24</td>\n",
       "      <td>1.500000</td>\n",
       "    </tr>\n",
       "    <tr>\n",
       "      <th>3</th>\n",
       "      <td>6</td>\n",
       "      <td>6</td>\n",
       "      <td>5.0</td>\n",
       "      <td>374</td>\n",
       "      <td>30</td>\n",
       "      <td>4.772727</td>\n",
       "      <td>14</td>\n",
       "      <td>15</td>\n",
       "      <td>11</td>\n",
       "      <td>0.227273</td>\n",
       "      <td>...</td>\n",
       "      <td>450</td>\n",
       "      <td>0.500000</td>\n",
       "      <td>10.227273</td>\n",
       "      <td>19.772727</td>\n",
       "      <td>71.590909</td>\n",
       "      <td>3.142857</td>\n",
       "      <td>1</td>\n",
       "      <td>29</td>\n",
       "      <td>210</td>\n",
       "      <td>1.071429</td>\n",
       "    </tr>\n",
       "    <tr>\n",
       "      <th>4</th>\n",
       "      <td>19</td>\n",
       "      <td>18</td>\n",
       "      <td>5.0</td>\n",
       "      <td>6</td>\n",
       "      <td>4</td>\n",
       "      <td>5.000000</td>\n",
       "      <td>26</td>\n",
       "      <td>33</td>\n",
       "      <td>8</td>\n",
       "      <td>0.000000</td>\n",
       "      <td>...</td>\n",
       "      <td>132</td>\n",
       "      <td>8.250000</td>\n",
       "      <td>28.000000</td>\n",
       "      <td>38.000000</td>\n",
       "      <td>165.000000</td>\n",
       "      <td>6.600000</td>\n",
       "      <td>7</td>\n",
       "      <td>59</td>\n",
       "      <td>858</td>\n",
       "      <td>1.269231</td>\n",
       "    </tr>\n",
       "  </tbody>\n",
       "</table>\n",
       "<p>5 rows × 235 columns</p>\n",
       "</div>"
      ],
      "text/plain": [
       "   f1  f2   f3   f4  f5        f6  f7   f8  w_count   d_score  ...  fmult85  \\\n",
       "0   1   1  1.0   11  13  4.272727  18   36       15  3.272727  ...      468   \n",
       "1  10   6  2.7   46   4  4.434783  90  109       15  1.734783  ...      436   \n",
       "2   4   4  4.0   14   0  4.500000   4    6        4  0.500000  ...        0   \n",
       "3   6   6  5.0  374  30  4.772727  14   15       11  0.227273  ...      450   \n",
       "4  19  18  5.0    6   4  5.000000  26   33        8  0.000000  ...      132   \n",
       "\n",
       "      fdiv85      fmin86     fplus86     fmult86     fdiv86  fmin87  fplus87  \\\n",
       "0   2.769231   31.727273   40.272727  153.818182   8.425532      18       54   \n",
       "1  27.250000  104.565217  113.434783  483.391304  24.578431      19      199   \n",
       "2   6.000000    1.500000   10.500000   27.000000   1.333333       2       10   \n",
       "3   0.500000   10.227273   19.772727   71.590909   3.142857       1       29   \n",
       "4   8.250000   28.000000   38.000000  165.000000   6.600000       7       59   \n",
       "\n",
       "   fmult87    fdiv87  \n",
       "0      648  2.000000  \n",
       "1     9810  1.211111  \n",
       "2       24  1.500000  \n",
       "3      210  1.071429  \n",
       "4      858  1.269231  \n",
       "\n",
       "[5 rows x 235 columns]"
      ]
     },
     "execution_count": 46,
     "metadata": {},
     "output_type": "execute_result"
    }
   ],
   "source": [
    "X.head()"
   ]
  },
  {
   "cell_type": "code",
   "execution_count": 47,
   "id": "9585ff00",
   "metadata": {},
   "outputs": [],
   "source": [
    "X_train, X_test, y_train, y_test = train_test_split(X, y, test_size=0.2, random_state=42)\n",
    "X_test, X_val, y_test, y_val = train_test_split(X_test, y_test, test_size=0.2, random_state=42)"
   ]
  },
  {
   "cell_type": "code",
   "execution_count": 48,
   "id": "78d220c7",
   "metadata": {},
   "outputs": [],
   "source": [
    "clf_s = pickle.load(open('LogReg.sav', 'rb'))"
   ]
  },
  {
   "cell_type": "code",
   "execution_count": 77,
   "id": "379b01ee",
   "metadata": {},
   "outputs": [
    {
     "data": {
      "text/html": [
       "<style>#sk-container-id-3 {color: black;background-color: white;}#sk-container-id-3 pre{padding: 0;}#sk-container-id-3 div.sk-toggleable {background-color: white;}#sk-container-id-3 label.sk-toggleable__label {cursor: pointer;display: block;width: 100%;margin-bottom: 0;padding: 0.3em;box-sizing: border-box;text-align: center;}#sk-container-id-3 label.sk-toggleable__label-arrow:before {content: \"▸\";float: left;margin-right: 0.25em;color: #696969;}#sk-container-id-3 label.sk-toggleable__label-arrow:hover:before {color: black;}#sk-container-id-3 div.sk-estimator:hover label.sk-toggleable__label-arrow:before {color: black;}#sk-container-id-3 div.sk-toggleable__content {max-height: 0;max-width: 0;overflow: hidden;text-align: left;background-color: #f0f8ff;}#sk-container-id-3 div.sk-toggleable__content pre {margin: 0.2em;color: black;border-radius: 0.25em;background-color: #f0f8ff;}#sk-container-id-3 input.sk-toggleable__control:checked~div.sk-toggleable__content {max-height: 200px;max-width: 100%;overflow: auto;}#sk-container-id-3 input.sk-toggleable__control:checked~label.sk-toggleable__label-arrow:before {content: \"▾\";}#sk-container-id-3 div.sk-estimator input.sk-toggleable__control:checked~label.sk-toggleable__label {background-color: #d4ebff;}#sk-container-id-3 div.sk-label input.sk-toggleable__control:checked~label.sk-toggleable__label {background-color: #d4ebff;}#sk-container-id-3 input.sk-hidden--visually {border: 0;clip: rect(1px 1px 1px 1px);clip: rect(1px, 1px, 1px, 1px);height: 1px;margin: -1px;overflow: hidden;padding: 0;position: absolute;width: 1px;}#sk-container-id-3 div.sk-estimator {font-family: monospace;background-color: #f0f8ff;border: 1px dotted black;border-radius: 0.25em;box-sizing: border-box;margin-bottom: 0.5em;}#sk-container-id-3 div.sk-estimator:hover {background-color: #d4ebff;}#sk-container-id-3 div.sk-parallel-item::after {content: \"\";width: 100%;border-bottom: 1px solid gray;flex-grow: 1;}#sk-container-id-3 div.sk-label:hover label.sk-toggleable__label {background-color: #d4ebff;}#sk-container-id-3 div.sk-serial::before {content: \"\";position: absolute;border-left: 1px solid gray;box-sizing: border-box;top: 0;bottom: 0;left: 50%;z-index: 0;}#sk-container-id-3 div.sk-serial {display: flex;flex-direction: column;align-items: center;background-color: white;padding-right: 0.2em;padding-left: 0.2em;position: relative;}#sk-container-id-3 div.sk-item {position: relative;z-index: 1;}#sk-container-id-3 div.sk-parallel {display: flex;align-items: stretch;justify-content: center;background-color: white;position: relative;}#sk-container-id-3 div.sk-item::before, #sk-container-id-3 div.sk-parallel-item::before {content: \"\";position: absolute;border-left: 1px solid gray;box-sizing: border-box;top: 0;bottom: 0;left: 50%;z-index: -1;}#sk-container-id-3 div.sk-parallel-item {display: flex;flex-direction: column;z-index: 1;position: relative;background-color: white;}#sk-container-id-3 div.sk-parallel-item:first-child::after {align-self: flex-end;width: 50%;}#sk-container-id-3 div.sk-parallel-item:last-child::after {align-self: flex-start;width: 50%;}#sk-container-id-3 div.sk-parallel-item:only-child::after {width: 0;}#sk-container-id-3 div.sk-dashed-wrapped {border: 1px dashed gray;margin: 0 0.4em 0.5em 0.4em;box-sizing: border-box;padding-bottom: 0.4em;background-color: white;}#sk-container-id-3 div.sk-label label {font-family: monospace;font-weight: bold;display: inline-block;line-height: 1.2em;}#sk-container-id-3 div.sk-label-container {text-align: center;}#sk-container-id-3 div.sk-container {/* jupyter's `normalize.less` sets `[hidden] { display: none; }` but bootstrap.min.css set `[hidden] { display: none !important; }` so we also need the `!important` here to be able to override the default hidden behavior on the sphinx rendered scikit-learn.org. See: https://github.com/scikit-learn/scikit-learn/issues/21755 */display: inline-block !important;position: relative;}#sk-container-id-3 div.sk-text-repr-fallback {display: none;}</style><div id=\"sk-container-id-3\" class=\"sk-top-container\"><div class=\"sk-text-repr-fallback\"><pre>LogisticRegression(C=29.763514416313132, max_iter=5000, solver=&#x27;liblinear&#x27;)</pre><b>In a Jupyter environment, please rerun this cell to show the HTML representation or trust the notebook. <br />On GitHub, the HTML representation is unable to render, please try loading this page with nbviewer.org.</b></div><div class=\"sk-container\" hidden><div class=\"sk-item\"><div class=\"sk-estimator sk-toggleable\"><input class=\"sk-toggleable__control sk-hidden--visually\" id=\"sk-estimator-id-3\" type=\"checkbox\" checked><label for=\"sk-estimator-id-3\" class=\"sk-toggleable__label sk-toggleable__label-arrow\">LogisticRegression</label><div class=\"sk-toggleable__content\"><pre>LogisticRegression(C=29.763514416313132, max_iter=5000, solver=&#x27;liblinear&#x27;)</pre></div></div></div></div></div>"
      ],
      "text/plain": [
       "LogisticRegression(C=29.763514416313132, max_iter=5000, solver='liblinear')"
      ]
     },
     "execution_count": 77,
     "metadata": {},
     "output_type": "execute_result"
    }
   ],
   "source": [
    "clf_s"
   ]
  },
  {
   "cell_type": "code",
   "execution_count": 49,
   "id": "b0888cc1",
   "metadata": {},
   "outputs": [],
   "source": [
    "y_pred = clf_s.predict(X_test)"
   ]
  },
  {
   "cell_type": "markdown",
   "id": "2479955e",
   "metadata": {},
   "source": [
    "y_pred = clf_s.predict(X_test)"
   ]
  },
  {
   "cell_type": "code",
   "execution_count": 50,
   "id": "6ce8e939",
   "metadata": {},
   "outputs": [],
   "source": [
    "cf_mx_s = confusion_matrix(y_test, y_pred)"
   ]
  },
  {
   "cell_type": "code",
   "execution_count": 51,
   "id": "f8e36b24",
   "metadata": {},
   "outputs": [
    {
     "data": {
      "text/plain": [
       "0.7346938775510204"
      ]
     },
     "execution_count": 51,
     "metadata": {},
     "output_type": "execute_result"
    }
   ],
   "source": [
    "precision_score(y_test, y_pred)"
   ]
  },
  {
   "cell_type": "code",
   "execution_count": 53,
   "id": "92dd5d38",
   "metadata": {},
   "outputs": [
    {
     "data": {
      "text/plain": [
       "<Axes: >"
      ]
     },
     "execution_count": 53,
     "metadata": {},
     "output_type": "execute_result"
    },
    {
     "data": {
      "image/png": "[encoded data removed]",
      "text/plain": [
       "<Figure size 640x480 with 2 Axes>"
      ]
     },
     "metadata": {},
     "output_type": "display_data"
    }
   ],
   "source": [
    "sns.heatmap(pd.DataFrame(cf_mx_s), annot=True)"
   ]
  },
  {
   "cell_type": "code",
   "execution_count": 56,
   "id": "97c27802",
   "metadata": {},
   "outputs": [],
   "source": [
    "feat_imp = pd.DataFrame({'Feature': X.columns, 'Importance': np.abs(clf_s.coef_[0])})"
   ]
  },
  {
   "cell_type": "code",
   "execution_count": 62,
   "id": "0480404a",
   "metadata": {},
   "outputs": [],
   "source": [
    "feat_imp.sort_values(by='Importance', inplace=True, ascending=False)"
   ]
  },
  {
   "cell_type": "code",
   "execution_count": 63,
   "id": "8954ded9",
   "metadata": {},
   "outputs": [
    {
     "data": {
      "text/html": [
       "<div>\n",
       "<style scoped>\n",
       "    .dataframe tbody tr th:only-of-type {\n",
       "        vertical-align: middle;\n",
       "    }\n",
       "\n",
       "    .dataframe tbody tr th {\n",
       "        vertical-align: top;\n",
       "    }\n",
       "\n",
       "    .dataframe thead th {\n",
       "        text-align: right;\n",
       "    }\n",
       "</style>\n",
       "<table border=\"1\" class=\"dataframe\">\n",
       "  <thead>\n",
       "    <tr style=\"text-align: right;\">\n",
       "      <th></th>\n",
       "      <th>Feature</th>\n",
       "      <th>Importance</th>\n",
       "    </tr>\n",
       "  </thead>\n",
       "  <tbody>\n",
       "    <tr>\n",
       "      <th>214</th>\n",
       "      <td>fdiv82</td>\n",
       "      <td>0.038446</td>\n",
       "    </tr>\n",
       "    <tr>\n",
       "      <th>182</th>\n",
       "      <td>fdiv71</td>\n",
       "      <td>0.031525</td>\n",
       "    </tr>\n",
       "    <tr>\n",
       "      <th>210</th>\n",
       "      <td>fdiv81</td>\n",
       "      <td>0.031048</td>\n",
       "    </tr>\n",
       "    <tr>\n",
       "      <th>234</th>\n",
       "      <td>fdiv87</td>\n",
       "      <td>0.021335</td>\n",
       "    </tr>\n",
       "    <tr>\n",
       "      <th>154</th>\n",
       "      <td>fdiv61</td>\n",
       "      <td>0.014381</td>\n",
       "    </tr>\n",
       "    <tr>\n",
       "      <th>26</th>\n",
       "      <td>fdiv15</td>\n",
       "      <td>0.012063</td>\n",
       "    </tr>\n",
       "    <tr>\n",
       "      <th>134</th>\n",
       "      <td>fdiv53</td>\n",
       "      <td>0.010295</td>\n",
       "    </tr>\n",
       "    <tr>\n",
       "      <th>70</th>\n",
       "      <td>fdiv31</td>\n",
       "      <td>0.010245</td>\n",
       "    </tr>\n",
       "    <tr>\n",
       "      <th>14</th>\n",
       "      <td>fdiv12</td>\n",
       "      <td>0.009920</td>\n",
       "    </tr>\n",
       "    <tr>\n",
       "      <th>218</th>\n",
       "      <td>fdiv83</td>\n",
       "      <td>0.009061</td>\n",
       "    </tr>\n",
       "  </tbody>\n",
       "</table>\n",
       "</div>"
      ],
      "text/plain": [
       "    Feature  Importance\n",
       "214  fdiv82    0.038446\n",
       "182  fdiv71    0.031525\n",
       "210  fdiv81    0.031048\n",
       "234  fdiv87    0.021335\n",
       "154  fdiv61    0.014381\n",
       "26   fdiv15    0.012063\n",
       "134  fdiv53    0.010295\n",
       "70   fdiv31    0.010245\n",
       "14   fdiv12    0.009920\n",
       "218  fdiv83    0.009061"
      ]
     },
     "execution_count": 63,
     "metadata": {},
     "output_type": "execute_result"
    }
   ],
   "source": [
    "feat_imp.head(10)"
   ]
  },
  {
   "cell_type": "code",
   "execution_count": 76,
   "id": "a3b0d45b",
   "metadata": {},
   "outputs": [
    {
     "data": {
      "text/plain": [
       "<Axes: xlabel='Importance', ylabel='Feature'>"
      ]
     },
     "execution_count": 76,
     "metadata": {},
     "output_type": "execute_result"
    },
    {
     "data": {
      "image/png": "[encoded data removed]",
      "text/plain": [
       "<Figure size 1500x2000 with 1 Axes>"
      ]
     },
     "metadata": {},
     "output_type": "display_data"
    }
   ],
   "source": [
    "sns.set(rc={\"figure.figsize\":(15, 20)})\n",
    "sns.barplot(y=feat_imp.head(50).Feature, x=feat_imp.head(50).Importance)"
   ]
  },
  {
   "cell_type": "code",
   "execution_count": null,
   "id": "5f5085fd",
   "metadata": {},
   "outputs": [],
   "source": []
  }
 ],
 "metadata": {
  "kernelspec": {
   "display_name": "Python 3 (ipykernel)",
   "language": "python",
   "name": "python3"
  },
  "language_info": {
   "codemirror_mode": {
    "name": "ipython",
    "version": 3
   },
   "file_extension": ".py",
   "mimetype": "text/x-python",
   "name": "python",
   "nbconvert_exporter": "python",
   "pygments_lexer": "ipython3",
   "version": "3.10.9"
  }
 },
 "nbformat": 4,
 "nbformat_minor": 5
}
