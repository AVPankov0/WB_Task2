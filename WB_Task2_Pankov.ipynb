{
 "cells": [
  {
   "cell_type": "code",
   "execution_count": 1,
   "id": "38d9a06f",
   "metadata": {},
   "outputs": [],
   "source": [
    "import numpy as np\n",
    "import pandas as pd\n",
    "import nltk\n",
    "from nltk.corpus import stopwords\n",
    "from nltk.stem.snowball import SnowballStemmer\n",
    "from string import punctuation"
   ]
  },
  {
   "cell_type": "code",
   "execution_count": 2,
   "id": "27aae821",
   "metadata": {},
   "outputs": [],
   "source": [
    "swords = stopwords.words('russian')"
   ]
  },
  {
   "cell_type": "code",
   "execution_count": 3,
   "id": "22d8ce31",
   "metadata": {},
   "outputs": [],
   "source": [
    "stem = SnowballStemmer('russian')"
   ]
  },
  {
   "cell_type": "code",
   "execution_count": 4,
   "id": "c759e6f1",
   "metadata": {},
   "outputs": [],
   "source": [
    "df = pd.read_csv('./wb_school_task_2.csv.gzip', compression='gzip')"
   ]
  },
  {
   "cell_type": "code",
   "execution_count": 5,
   "id": "d072c896",
   "metadata": {},
   "outputs": [
    {
     "data": {
      "text/html": [
       "<div>\n",
       "<style scoped>\n",
       "    .dataframe tbody tr th:only-of-type {\n",
       "        vertical-align: middle;\n",
       "    }\n",
       "\n",
       "    .dataframe tbody tr th {\n",
       "        vertical-align: top;\n",
       "    }\n",
       "\n",
       "    .dataframe thead th {\n",
       "        text-align: right;\n",
       "    }\n",
       "</style>\n",
       "<table border=\"1\" class=\"dataframe\">\n",
       "  <thead>\n",
       "    <tr style=\"text-align: right;\">\n",
       "      <th></th>\n",
       "      <th>id1</th>\n",
       "      <th>id2</th>\n",
       "      <th>id3</th>\n",
       "      <th>text</th>\n",
       "      <th>f1</th>\n",
       "      <th>f2</th>\n",
       "      <th>f3</th>\n",
       "      <th>f4</th>\n",
       "      <th>f5</th>\n",
       "      <th>f6</th>\n",
       "      <th>f7</th>\n",
       "      <th>f8</th>\n",
       "      <th>label</th>\n",
       "    </tr>\n",
       "  </thead>\n",
       "  <tbody>\n",
       "    <tr>\n",
       "      <th>0</th>\n",
       "      <td>7596126584852021591</td>\n",
       "      <td>173777575861152844</td>\n",
       "      <td>18254136755182295358</td>\n",
       "      <td>Хотела купить на замену старых,по итогу эти  у...</td>\n",
       "      <td>1</td>\n",
       "      <td>1</td>\n",
       "      <td>1.000000</td>\n",
       "      <td>11</td>\n",
       "      <td>13</td>\n",
       "      <td>4.272727</td>\n",
       "      <td>18</td>\n",
       "      <td>36</td>\n",
       "      <td>0</td>\n",
       "    </tr>\n",
       "    <tr>\n",
       "      <th>1</th>\n",
       "      <td>5327406586753254371</td>\n",
       "      <td>14366783259208998381</td>\n",
       "      <td>2324030737335224220</td>\n",
       "      <td>Запах по сравнению с обычным DOVE никакой. Оно...</td>\n",
       "      <td>10</td>\n",
       "      <td>6</td>\n",
       "      <td>2.700000</td>\n",
       "      <td>46</td>\n",
       "      <td>4</td>\n",
       "      <td>4.434783</td>\n",
       "      <td>90</td>\n",
       "      <td>109</td>\n",
       "      <td>1</td>\n",
       "    </tr>\n",
       "    <tr>\n",
       "      <th>2</th>\n",
       "      <td>2636757786779776109</td>\n",
       "      <td>16985421652518589249</td>\n",
       "      <td>4904562693381133981</td>\n",
       "      <td>Кабель подошёл, хорошо работает.</td>\n",
       "      <td>4</td>\n",
       "      <td>4</td>\n",
       "      <td>4.000000</td>\n",
       "      <td>14</td>\n",
       "      <td>0</td>\n",
       "      <td>4.500000</td>\n",
       "      <td>4</td>\n",
       "      <td>6</td>\n",
       "      <td>0</td>\n",
       "    </tr>\n",
       "    <tr>\n",
       "      <th>3</th>\n",
       "      <td>15432976385014516263</td>\n",
       "      <td>2629180387521298831</td>\n",
       "      <td>13541353053200353836</td>\n",
       "      <td>Восторг! Очень приятный аромат, держится долго...</td>\n",
       "      <td>6</td>\n",
       "      <td>6</td>\n",
       "      <td>5.000000</td>\n",
       "      <td>374</td>\n",
       "      <td>30</td>\n",
       "      <td>4.772727</td>\n",
       "      <td>14</td>\n",
       "      <td>15</td>\n",
       "      <td>1</td>\n",
       "    </tr>\n",
       "    <tr>\n",
       "      <th>4</th>\n",
       "      <td>11933982800034911890</td>\n",
       "      <td>14531191561111600318</td>\n",
       "      <td>9121890650636487522</td>\n",
       "      <td>Визуально все хорошо. Не пробовали. Купили в п...</td>\n",
       "      <td>19</td>\n",
       "      <td>18</td>\n",
       "      <td>5.000000</td>\n",
       "      <td>6</td>\n",
       "      <td>4</td>\n",
       "      <td>5.000000</td>\n",
       "      <td>26</td>\n",
       "      <td>33</td>\n",
       "      <td>0</td>\n",
       "    </tr>\n",
       "    <tr>\n",
       "      <th>...</th>\n",
       "      <td>...</td>\n",
       "      <td>...</td>\n",
       "      <td>...</td>\n",
       "      <td>...</td>\n",
       "      <td>...</td>\n",
       "      <td>...</td>\n",
       "      <td>...</td>\n",
       "      <td>...</td>\n",
       "      <td>...</td>\n",
       "      <td>...</td>\n",
       "      <td>...</td>\n",
       "      <td>...</td>\n",
       "      <td>...</td>\n",
       "    </tr>\n",
       "    <tr>\n",
       "      <th>3118</th>\n",
       "      <td>764513678578182418</td>\n",
       "      <td>15635360211325277203</td>\n",
       "      <td>6836784353719029392</td>\n",
       "      <td>Стекло не плохое,но есть один минус на техно с...</td>\n",
       "      <td>2</td>\n",
       "      <td>2</td>\n",
       "      <td>3.000000</td>\n",
       "      <td>19</td>\n",
       "      <td>1</td>\n",
       "      <td>4.263158</td>\n",
       "      <td>9</td>\n",
       "      <td>9</td>\n",
       "      <td>0</td>\n",
       "    </tr>\n",
       "    <tr>\n",
       "      <th>3119</th>\n",
       "      <td>6838893897482150395</td>\n",
       "      <td>13016265854619171030</td>\n",
       "      <td>12090430373311552618</td>\n",
       "      <td>Всё пришло запаковано, ничего не сломано. Лучш...</td>\n",
       "      <td>8</td>\n",
       "      <td>8</td>\n",
       "      <td>4.375000</td>\n",
       "      <td>131</td>\n",
       "      <td>83</td>\n",
       "      <td>4.183206</td>\n",
       "      <td>18</td>\n",
       "      <td>18</td>\n",
       "      <td>0</td>\n",
       "    </tr>\n",
       "    <tr>\n",
       "      <th>3120</th>\n",
       "      <td>3080528623596565085</td>\n",
       "      <td>17787644417937804433</td>\n",
       "      <td>18003133089489520237</td>\n",
       "      <td>Мне нравятся 👍🏻 я очень аллергичная, посоветов...</td>\n",
       "      <td>13</td>\n",
       "      <td>12</td>\n",
       "      <td>5.000000</td>\n",
       "      <td>145</td>\n",
       "      <td>2</td>\n",
       "      <td>4.944828</td>\n",
       "      <td>12</td>\n",
       "      <td>14</td>\n",
       "      <td>0</td>\n",
       "    </tr>\n",
       "    <tr>\n",
       "      <th>3121</th>\n",
       "      <td>13059704988549832630</td>\n",
       "      <td>997055248102065549</td>\n",
       "      <td>12214993272083833542</td>\n",
       "      <td>Спасибо,  целая пришла. Хорошо упаковано</td>\n",
       "      <td>3</td>\n",
       "      <td>3</td>\n",
       "      <td>5.000000</td>\n",
       "      <td>205</td>\n",
       "      <td>19</td>\n",
       "      <td>4.648780</td>\n",
       "      <td>103</td>\n",
       "      <td>155</td>\n",
       "      <td>0</td>\n",
       "    </tr>\n",
       "    <tr>\n",
       "      <th>3122</th>\n",
       "      <td>11429810966213467017</td>\n",
       "      <td>1380541878847684914</td>\n",
       "      <td>11716132433518331197</td>\n",
       "      <td>Бур нормальный, но выбрал другую модель</td>\n",
       "      <td>42</td>\n",
       "      <td>29</td>\n",
       "      <td>4.809524</td>\n",
       "      <td>61</td>\n",
       "      <td>17</td>\n",
       "      <td>4.655738</td>\n",
       "      <td>54</td>\n",
       "      <td>101</td>\n",
       "      <td>0</td>\n",
       "    </tr>\n",
       "  </tbody>\n",
       "</table>\n",
       "<p>3123 rows × 13 columns</p>\n",
       "</div>"
      ],
      "text/plain": [
       "                       id1                   id2                   id3  \\\n",
       "0      7596126584852021591    173777575861152844  18254136755182295358   \n",
       "1      5327406586753254371  14366783259208998381   2324030737335224220   \n",
       "2      2636757786779776109  16985421652518589249   4904562693381133981   \n",
       "3     15432976385014516263   2629180387521298831  13541353053200353836   \n",
       "4     11933982800034911890  14531191561111600318   9121890650636487522   \n",
       "...                    ...                   ...                   ...   \n",
       "3118    764513678578182418  15635360211325277203   6836784353719029392   \n",
       "3119   6838893897482150395  13016265854619171030  12090430373311552618   \n",
       "3120   3080528623596565085  17787644417937804433  18003133089489520237   \n",
       "3121  13059704988549832630    997055248102065549  12214993272083833542   \n",
       "3122  11429810966213467017   1380541878847684914  11716132433518331197   \n",
       "\n",
       "                                                   text  f1  f2        f3  \\\n",
       "0     Хотела купить на замену старых,по итогу эти  у...   1   1  1.000000   \n",
       "1     Запах по сравнению с обычным DOVE никакой. Оно...  10   6  2.700000   \n",
       "2                      Кабель подошёл, хорошо работает.   4   4  4.000000   \n",
       "3     Восторг! Очень приятный аромат, держится долго...   6   6  5.000000   \n",
       "4     Визуально все хорошо. Не пробовали. Купили в п...  19  18  5.000000   \n",
       "...                                                 ...  ..  ..       ...   \n",
       "3118  Стекло не плохое,но есть один минус на техно с...   2   2  3.000000   \n",
       "3119  Всё пришло запаковано, ничего не сломано. Лучш...   8   8  4.375000   \n",
       "3120  Мне нравятся 👍🏻 я очень аллергичная, посоветов...  13  12  5.000000   \n",
       "3121           Спасибо,  целая пришла. Хорошо упаковано   3   3  5.000000   \n",
       "3122            Бур нормальный, но выбрал другую модель  42  29  4.809524   \n",
       "\n",
       "       f4  f5        f6   f7   f8  label  \n",
       "0      11  13  4.272727   18   36      0  \n",
       "1      46   4  4.434783   90  109      1  \n",
       "2      14   0  4.500000    4    6      0  \n",
       "3     374  30  4.772727   14   15      1  \n",
       "4       6   4  5.000000   26   33      0  \n",
       "...   ...  ..       ...  ...  ...    ...  \n",
       "3118   19   1  4.263158    9    9      0  \n",
       "3119  131  83  4.183206   18   18      0  \n",
       "3120  145   2  4.944828   12   14      0  \n",
       "3121  205  19  4.648780  103  155      0  \n",
       "3122   61  17  4.655738   54  101      0  \n",
       "\n",
       "[3123 rows x 13 columns]"
      ]
     },
     "execution_count": 5,
     "metadata": {},
     "output_type": "execute_result"
    }
   ],
   "source": [
    "df"
   ]
  },
  {
   "cell_type": "code",
   "execution_count": 6,
   "id": "65c23544",
   "metadata": {},
   "outputs": [],
   "source": [
    "text = df.text"
   ]
  },
  {
   "cell_type": "code",
   "execution_count": 11,
   "id": "73fc4ed5",
   "metadata": {},
   "outputs": [
    {
     "data": {
      "text/plain": [
       "'Хотела купить на замену старых,по итогу эти  ужаснотупые ,не удобные ,рвут кутикулу ,а не режут.'"
      ]
     },
     "execution_count": 11,
     "metadata": {},
     "output_type": "execute_result"
    }
   ],
   "source": [
    "text[0]"
   ]
  },
  {
   "cell_type": "markdown",
   "id": "acfb5624",
   "metadata": {},
   "source": [
    "# Первичная обработка"
   ]
  },
  {
   "cell_type": "code",
   "execution_count": 7,
   "id": "e3dba3c8",
   "metadata": {},
   "outputs": [],
   "source": [
    "tokenized_sw_p = pd.Series([nltk.word_tokenize(text[i], language='russian') for i in range(0, len(text))])"
   ]
  },
  {
   "cell_type": "code",
   "execution_count": 8,
   "id": "3dc32f73",
   "metadata": {},
   "outputs": [
    {
     "data": {
      "text/plain": [
       "0    [Хотела, купить, на, замену, старых, ,, по, ит...\n",
       "1    [Запах, по, сравнению, с, обычным, DOVE, никак...\n",
       "2            [Кабель, подошёл, ,, хорошо, работает, .]\n",
       "3    [Восторг, !, Очень, приятный, аромат, ,, держи...\n",
       "4    [Визуально, все, хорошо, ., Не, пробовали, ., ...\n",
       "dtype: object"
      ]
     },
     "execution_count": 8,
     "metadata": {},
     "output_type": "execute_result"
    }
   ],
   "source": [
    "tokenized_sw_p.head()"
   ]
  },
  {
   "cell_type": "code",
   "execution_count": 9,
   "id": "dda23995",
   "metadata": {},
   "outputs": [],
   "source": [
    "stemmed = []\n",
    "for i in range(0, len(tokenized_sw_p)):\n",
    "    stemmed.append([stem.stem(token) for token in tokenized_sw_p[i] if token not in swords and token not in punctuation])\n",
    "stemmed = pd.Series(stemmed)"
   ]
  },
  {
   "cell_type": "code",
   "execution_count": 10,
   "id": "270ad3f1",
   "metadata": {},
   "outputs": [
    {
     "data": {
      "text/plain": [
       "0    [хотел, куп, замен, стар, итог, ужаснотуп, удо...\n",
       "1    [зап, сравнен, обычн, DOVE, никак, он, парфюми...\n",
       "2                             [кабел, подошел, работа]\n",
       "3    [восторг, очен, приятн, аромат, держ, долг, оч...\n",
       "4                [визуальн, не, пробова, куп, подарок]\n",
       "dtype: object"
      ]
     },
     "execution_count": 10,
     "metadata": {},
     "output_type": "execute_result"
    }
   ],
   "source": [
    "stemmed.head()"
   ]
  },
  {
   "cell_type": "markdown",
   "id": "cfe95023",
   "metadata": {},
   "source": [
    "# Мешок слов"
   ]
  },
  {
   "cell_type": "code",
   "execution_count": null,
   "id": "5c1011d6",
   "metadata": {},
   "outputs": [],
   "source": []
  }
 ],
 "metadata": {
  "kernelspec": {
   "display_name": "Python 3 (ipykernel)",
   "language": "python",
   "name": "python3"
  },
  "language_info": {
   "codemirror_mode": {
    "name": "ipython",
    "version": 3
   },
   "file_extension": ".py",
   "mimetype": "text/x-python",
   "name": "python",
   "nbconvert_exporter": "python",
   "pygments_lexer": "ipython3",
   "version": "3.10.9"
  }
 },
 "nbformat": 4,
 "nbformat_minor": 5
}
