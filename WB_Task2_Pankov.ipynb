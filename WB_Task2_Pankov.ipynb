{
 "cells": [
  {
   "cell_type": "code",
   "execution_count": 43,
   "id": "38d9a06f",
   "metadata": {},
   "outputs": [],
   "source": [
    "import numpy as np\n",
    "import pandas as pd\n",
    "import seaborn as sns\n",
    "import nltk\n",
    "from collections import Counter\n",
    "from nltk.corpus import stopwords\n",
    "from nltk.util import ngrams\n",
    "from nltk.stem.snowball import SnowballStemmer\n",
    "from string import punctuation\n",
    "from sklearn.feature_extraction.text import TfidfVectorizer\n",
    "from sklearn.tree import DecisionTreeClassifier\n",
    "from sklearn.model_selection import cross_val_score, KFold"
   ]
  },
  {
   "cell_type": "code",
   "execution_count": 2,
   "id": "063c9134",
   "metadata": {},
   "outputs": [],
   "source": [
    "def count(text):\n",
    "    return len(text.split())\n",
    "def high_score(i):\n",
    "    if i>3:\n",
    "        return 1\n",
    "    else: return 0"
   ]
  },
  {
   "cell_type": "code",
   "execution_count": 3,
   "id": "27aae821",
   "metadata": {},
   "outputs": [],
   "source": [
    "swords = stopwords.words('russian')"
   ]
  },
  {
   "cell_type": "code",
   "execution_count": 4,
   "id": "22d8ce31",
   "metadata": {},
   "outputs": [],
   "source": [
    "stem = SnowballStemmer('russian')"
   ]
  },
  {
   "cell_type": "code",
   "execution_count": 5,
   "id": "c759e6f1",
   "metadata": {},
   "outputs": [],
   "source": [
    "df = pd.read_csv('./wb_school_task_2.csv.gzip', compression='gzip')"
   ]
  },
  {
   "cell_type": "code",
   "execution_count": 6,
   "id": "d072c896",
   "metadata": {},
   "outputs": [
    {
     "data": {
      "text/html": [
       "<div>\n",
       "<style scoped>\n",
       "    .dataframe tbody tr th:only-of-type {\n",
       "        vertical-align: middle;\n",
       "    }\n",
       "\n",
       "    .dataframe tbody tr th {\n",
       "        vertical-align: top;\n",
       "    }\n",
       "\n",
       "    .dataframe thead th {\n",
       "        text-align: right;\n",
       "    }\n",
       "</style>\n",
       "<table border=\"1\" class=\"dataframe\">\n",
       "  <thead>\n",
       "    <tr style=\"text-align: right;\">\n",
       "      <th></th>\n",
       "      <th>id1</th>\n",
       "      <th>id2</th>\n",
       "      <th>id3</th>\n",
       "      <th>text</th>\n",
       "      <th>f1</th>\n",
       "      <th>f2</th>\n",
       "      <th>f3</th>\n",
       "      <th>f4</th>\n",
       "      <th>f5</th>\n",
       "      <th>f6</th>\n",
       "      <th>f7</th>\n",
       "      <th>f8</th>\n",
       "      <th>label</th>\n",
       "    </tr>\n",
       "  </thead>\n",
       "  <tbody>\n",
       "    <tr>\n",
       "      <th>0</th>\n",
       "      <td>7596126584852021591</td>\n",
       "      <td>173777575861152844</td>\n",
       "      <td>18254136755182295358</td>\n",
       "      <td>Хотела купить на замену старых,по итогу эти  у...</td>\n",
       "      <td>1</td>\n",
       "      <td>1</td>\n",
       "      <td>1.0</td>\n",
       "      <td>11</td>\n",
       "      <td>13</td>\n",
       "      <td>4.272727</td>\n",
       "      <td>18</td>\n",
       "      <td>36</td>\n",
       "      <td>0</td>\n",
       "    </tr>\n",
       "    <tr>\n",
       "      <th>1</th>\n",
       "      <td>5327406586753254371</td>\n",
       "      <td>14366783259208998381</td>\n",
       "      <td>2324030737335224220</td>\n",
       "      <td>Запах по сравнению с обычным DOVE никакой. Оно...</td>\n",
       "      <td>10</td>\n",
       "      <td>6</td>\n",
       "      <td>2.7</td>\n",
       "      <td>46</td>\n",
       "      <td>4</td>\n",
       "      <td>4.434783</td>\n",
       "      <td>90</td>\n",
       "      <td>109</td>\n",
       "      <td>1</td>\n",
       "    </tr>\n",
       "    <tr>\n",
       "      <th>2</th>\n",
       "      <td>2636757786779776109</td>\n",
       "      <td>16985421652518589249</td>\n",
       "      <td>4904562693381133981</td>\n",
       "      <td>Кабель подошёл, хорошо работает.</td>\n",
       "      <td>4</td>\n",
       "      <td>4</td>\n",
       "      <td>4.0</td>\n",
       "      <td>14</td>\n",
       "      <td>0</td>\n",
       "      <td>4.500000</td>\n",
       "      <td>4</td>\n",
       "      <td>6</td>\n",
       "      <td>0</td>\n",
       "    </tr>\n",
       "    <tr>\n",
       "      <th>3</th>\n",
       "      <td>15432976385014516263</td>\n",
       "      <td>2629180387521298831</td>\n",
       "      <td>13541353053200353836</td>\n",
       "      <td>Восторг! Очень приятный аромат, держится долго...</td>\n",
       "      <td>6</td>\n",
       "      <td>6</td>\n",
       "      <td>5.0</td>\n",
       "      <td>374</td>\n",
       "      <td>30</td>\n",
       "      <td>4.772727</td>\n",
       "      <td>14</td>\n",
       "      <td>15</td>\n",
       "      <td>1</td>\n",
       "    </tr>\n",
       "    <tr>\n",
       "      <th>4</th>\n",
       "      <td>11933982800034911890</td>\n",
       "      <td>14531191561111600318</td>\n",
       "      <td>9121890650636487522</td>\n",
       "      <td>Визуально все хорошо. Не пробовали. Купили в п...</td>\n",
       "      <td>19</td>\n",
       "      <td>18</td>\n",
       "      <td>5.0</td>\n",
       "      <td>6</td>\n",
       "      <td>4</td>\n",
       "      <td>5.000000</td>\n",
       "      <td>26</td>\n",
       "      <td>33</td>\n",
       "      <td>0</td>\n",
       "    </tr>\n",
       "  </tbody>\n",
       "</table>\n",
       "</div>"
      ],
      "text/plain": [
       "                    id1                   id2                   id3  \\\n",
       "0   7596126584852021591    173777575861152844  18254136755182295358   \n",
       "1   5327406586753254371  14366783259208998381   2324030737335224220   \n",
       "2   2636757786779776109  16985421652518589249   4904562693381133981   \n",
       "3  15432976385014516263   2629180387521298831  13541353053200353836   \n",
       "4  11933982800034911890  14531191561111600318   9121890650636487522   \n",
       "\n",
       "                                                text  f1  f2   f3   f4  f5  \\\n",
       "0  Хотела купить на замену старых,по итогу эти  у...   1   1  1.0   11  13   \n",
       "1  Запах по сравнению с обычным DOVE никакой. Оно...  10   6  2.7   46   4   \n",
       "2                   Кабель подошёл, хорошо работает.   4   4  4.0   14   0   \n",
       "3  Восторг! Очень приятный аромат, держится долго...   6   6  5.0  374  30   \n",
       "4  Визуально все хорошо. Не пробовали. Купили в п...  19  18  5.0    6   4   \n",
       "\n",
       "         f6  f7   f8  label  \n",
       "0  4.272727  18   36      0  \n",
       "1  4.434783  90  109      1  \n",
       "2  4.500000   4    6      0  \n",
       "3  4.772727  14   15      1  \n",
       "4  5.000000  26   33      0  "
      ]
     },
     "execution_count": 6,
     "metadata": {},
     "output_type": "execute_result"
    }
   ],
   "source": [
    "df.head()"
   ]
  },
  {
   "cell_type": "code",
   "execution_count": 7,
   "id": "d363f3ca",
   "metadata": {},
   "outputs": [],
   "source": [
    "df['w_count'] = df.text.apply(count)\n",
    "df['h_score'] = df.f3.apply(high_score)"
   ]
  },
  {
   "cell_type": "code",
   "execution_count": 8,
   "id": "c3a82b4a",
   "metadata": {},
   "outputs": [
    {
     "data": {
      "text/html": [
       "<div>\n",
       "<style scoped>\n",
       "    .dataframe tbody tr th:only-of-type {\n",
       "        vertical-align: middle;\n",
       "    }\n",
       "\n",
       "    .dataframe tbody tr th {\n",
       "        vertical-align: top;\n",
       "    }\n",
       "\n",
       "    .dataframe thead th {\n",
       "        text-align: right;\n",
       "    }\n",
       "</style>\n",
       "<table border=\"1\" class=\"dataframe\">\n",
       "  <thead>\n",
       "    <tr style=\"text-align: right;\">\n",
       "      <th></th>\n",
       "      <th>id1</th>\n",
       "      <th>id2</th>\n",
       "      <th>id3</th>\n",
       "      <th>text</th>\n",
       "      <th>f1</th>\n",
       "      <th>f2</th>\n",
       "      <th>f3</th>\n",
       "      <th>f4</th>\n",
       "      <th>f5</th>\n",
       "      <th>f6</th>\n",
       "      <th>f7</th>\n",
       "      <th>f8</th>\n",
       "      <th>label</th>\n",
       "      <th>w_count</th>\n",
       "      <th>h_score</th>\n",
       "    </tr>\n",
       "  </thead>\n",
       "  <tbody>\n",
       "    <tr>\n",
       "      <th>0</th>\n",
       "      <td>7596126584852021591</td>\n",
       "      <td>173777575861152844</td>\n",
       "      <td>18254136755182295358</td>\n",
       "      <td>Хотела купить на замену старых,по итогу эти  у...</td>\n",
       "      <td>1</td>\n",
       "      <td>1</td>\n",
       "      <td>1.0</td>\n",
       "      <td>11</td>\n",
       "      <td>13</td>\n",
       "      <td>4.272727</td>\n",
       "      <td>18</td>\n",
       "      <td>36</td>\n",
       "      <td>0</td>\n",
       "      <td>15</td>\n",
       "      <td>0</td>\n",
       "    </tr>\n",
       "    <tr>\n",
       "      <th>1</th>\n",
       "      <td>5327406586753254371</td>\n",
       "      <td>14366783259208998381</td>\n",
       "      <td>2324030737335224220</td>\n",
       "      <td>Запах по сравнению с обычным DOVE никакой. Оно...</td>\n",
       "      <td>10</td>\n",
       "      <td>6</td>\n",
       "      <td>2.7</td>\n",
       "      <td>46</td>\n",
       "      <td>4</td>\n",
       "      <td>4.434783</td>\n",
       "      <td>90</td>\n",
       "      <td>109</td>\n",
       "      <td>1</td>\n",
       "      <td>15</td>\n",
       "      <td>0</td>\n",
       "    </tr>\n",
       "    <tr>\n",
       "      <th>2</th>\n",
       "      <td>2636757786779776109</td>\n",
       "      <td>16985421652518589249</td>\n",
       "      <td>4904562693381133981</td>\n",
       "      <td>Кабель подошёл, хорошо работает.</td>\n",
       "      <td>4</td>\n",
       "      <td>4</td>\n",
       "      <td>4.0</td>\n",
       "      <td>14</td>\n",
       "      <td>0</td>\n",
       "      <td>4.500000</td>\n",
       "      <td>4</td>\n",
       "      <td>6</td>\n",
       "      <td>0</td>\n",
       "      <td>4</td>\n",
       "      <td>1</td>\n",
       "    </tr>\n",
       "    <tr>\n",
       "      <th>3</th>\n",
       "      <td>15432976385014516263</td>\n",
       "      <td>2629180387521298831</td>\n",
       "      <td>13541353053200353836</td>\n",
       "      <td>Восторг! Очень приятный аромат, держится долго...</td>\n",
       "      <td>6</td>\n",
       "      <td>6</td>\n",
       "      <td>5.0</td>\n",
       "      <td>374</td>\n",
       "      <td>30</td>\n",
       "      <td>4.772727</td>\n",
       "      <td>14</td>\n",
       "      <td>15</td>\n",
       "      <td>1</td>\n",
       "      <td>11</td>\n",
       "      <td>1</td>\n",
       "    </tr>\n",
       "    <tr>\n",
       "      <th>4</th>\n",
       "      <td>11933982800034911890</td>\n",
       "      <td>14531191561111600318</td>\n",
       "      <td>9121890650636487522</td>\n",
       "      <td>Визуально все хорошо. Не пробовали. Купили в п...</td>\n",
       "      <td>19</td>\n",
       "      <td>18</td>\n",
       "      <td>5.0</td>\n",
       "      <td>6</td>\n",
       "      <td>4</td>\n",
       "      <td>5.000000</td>\n",
       "      <td>26</td>\n",
       "      <td>33</td>\n",
       "      <td>0</td>\n",
       "      <td>8</td>\n",
       "      <td>1</td>\n",
       "    </tr>\n",
       "  </tbody>\n",
       "</table>\n",
       "</div>"
      ],
      "text/plain": [
       "                    id1                   id2                   id3  \\\n",
       "0   7596126584852021591    173777575861152844  18254136755182295358   \n",
       "1   5327406586753254371  14366783259208998381   2324030737335224220   \n",
       "2   2636757786779776109  16985421652518589249   4904562693381133981   \n",
       "3  15432976385014516263   2629180387521298831  13541353053200353836   \n",
       "4  11933982800034911890  14531191561111600318   9121890650636487522   \n",
       "\n",
       "                                                text  f1  f2   f3   f4  f5  \\\n",
       "0  Хотела купить на замену старых,по итогу эти  у...   1   1  1.0   11  13   \n",
       "1  Запах по сравнению с обычным DOVE никакой. Оно...  10   6  2.7   46   4   \n",
       "2                   Кабель подошёл, хорошо работает.   4   4  4.0   14   0   \n",
       "3  Восторг! Очень приятный аромат, держится долго...   6   6  5.0  374  30   \n",
       "4  Визуально все хорошо. Не пробовали. Купили в п...  19  18  5.0    6   4   \n",
       "\n",
       "         f6  f7   f8  label  w_count  h_score  \n",
       "0  4.272727  18   36      0       15        0  \n",
       "1  4.434783  90  109      1       15        0  \n",
       "2  4.500000   4    6      0        4        1  \n",
       "3  4.772727  14   15      1       11        1  \n",
       "4  5.000000  26   33      0        8        1  "
      ]
     },
     "execution_count": 8,
     "metadata": {},
     "output_type": "execute_result"
    }
   ],
   "source": [
    "df.head()"
   ]
  },
  {
   "cell_type": "code",
   "execution_count": 9,
   "id": "03660e02",
   "metadata": {},
   "outputs": [
    {
     "name": "stdout",
     "output_type": "stream",
     "text": [
      "-0.1594446928731956\n",
      "-0.13470031922346318\n",
      "0.10625062932826536\n",
      "0.8282539894133428\n",
      "0.8444491542527469\n",
      "0.5753447931269051\n",
      "0.4647755085596614\n"
     ]
    }
   ],
   "source": [
    "print(df.w_count.corr(df.f3))\n",
    "print(df.w_count.corr(df.f6))\n",
    "print(df.w_count.corr(df.label))\n",
    "print(df.f1.corr(df.f2))\n",
    "print(df.f4.corr(df.f5))\n",
    "print(df.f7.corr(df.f8))\n",
    "print(df.f3.corr(df.f6))"
   ]
  },
  {
   "cell_type": "code",
   "execution_count": 10,
   "id": "d119e899",
   "metadata": {},
   "outputs": [
    {
     "data": {
      "text/plain": [
       "<seaborn.axisgrid.FacetGrid at 0x1ae4beff190>"
      ]
     },
     "execution_count": 10,
     "metadata": {},
     "output_type": "execute_result"
    },
    {
     "data": {
      "image/png": "[encoded data removed]",
      "text/plain": [
       "<Figure size 500x500 with 1 Axes>"
      ]
     },
     "metadata": {},
     "output_type": "display_data"
    }
   ],
   "source": [
    "sns.displot(df.w_count)"
   ]
  },
  {
   "cell_type": "code",
   "execution_count": 11,
   "id": "73f6006b",
   "metadata": {
    "scrolled": false
   },
   "outputs": [
    {
     "data": {
      "text/plain": [
       "<seaborn.axisgrid.FacetGrid at 0x1ae4d93f1c0>"
      ]
     },
     "execution_count": 11,
     "metadata": {},
     "output_type": "execute_result"
    },
    {
     "data": {
      "image/png": "[encoded data removed]",
      "text/plain": [
       "<Figure size 500x500 with 1 Axes>"
      ]
     },
     "metadata": {},
     "output_type": "display_data"
    },
    {
     "data": {
      "image/png": "[encoded data removed]",
      "text/plain": [
       "<Figure size 500x500 with 1 Axes>"
      ]
     },
     "metadata": {},
     "output_type": "display_data"
    }
   ],
   "source": [
    "sns.displot(df, y='w_count', x='label')\n",
    "sns.displot(df, y='w_count', x='h_score')"
   ]
  },
  {
   "cell_type": "code",
   "execution_count": 12,
   "id": "90f2bfcf",
   "metadata": {},
   "outputs": [
    {
     "data": {
      "text/plain": [
       "<seaborn.axisgrid.FacetGrid at 0x1ae4eea9c30>"
      ]
     },
     "execution_count": 12,
     "metadata": {},
     "output_type": "execute_result"
    },
    {
     "data": {
      "image/png": "[encoded data removed]",
      "text/plain": [
       "<Figure size 500x500 with 1 Axes>"
      ]
     },
     "metadata": {},
     "output_type": "display_data"
    },
    {
     "data": {
      "image/png": "[encoded data removed]",
      "text/plain": [
       "<Figure size 500x500 with 1 Axes>"
      ]
     },
     "metadata": {},
     "output_type": "display_data"
    },
    {
     "data": {
      "image/png": "[encoded data removed]",
      "text/plain": [
       "<Figure size 500x500 with 1 Axes>"
      ]
     },
     "metadata": {},
     "output_type": "display_data"
    },
    {
     "data": {
      "image/png": "[encoded data removed]",
      "text/plain": [
       "<Figure size 500x500 with 1 Axes>"
      ]
     },
     "metadata": {},
     "output_type": "display_data"
    },
    {
     "data": {
      "image/png": "[encoded data removed]",
      "text/plain": [
       "<Figure size 500x500 with 1 Axes>"
      ]
     },
     "metadata": {},
     "output_type": "display_data"
    },
    {
     "data": {
      "image/png": "[encoded data removed]",
      "text/plain": [
       "<Figure size 500x500 with 1 Axes>"
      ]
     },
     "metadata": {},
     "output_type": "display_data"
    },
    {
     "data": {
      "image/png": "[encoded data removed]",
      "text/plain": [
       "<Figure size 500x500 with 1 Axes>"
      ]
     },
     "metadata": {},
     "output_type": "display_data"
    }
   ],
   "source": [
    "sns.displot(df, x='f1', y='f2')\n",
    "sns.displot(df, x='f1', y='f3')\n",
    "sns.displot(df, x='f1', y='f4')\n",
    "sns.displot(df, x='f1', y='f5')\n",
    "sns.displot(df, x='f1', y='f6')\n",
    "sns.displot(df, x='f1', y='f7')\n",
    "sns.displot(df, x='f1', y='f8')"
   ]
  },
  {
   "cell_type": "code",
   "execution_count": 13,
   "id": "d058e4c1",
   "metadata": {},
   "outputs": [
    {
     "data": {
      "text/html": [
       "<div>\n",
       "<style scoped>\n",
       "    .dataframe tbody tr th:only-of-type {\n",
       "        vertical-align: middle;\n",
       "    }\n",
       "\n",
       "    .dataframe tbody tr th {\n",
       "        vertical-align: top;\n",
       "    }\n",
       "\n",
       "    .dataframe thead th {\n",
       "        text-align: right;\n",
       "    }\n",
       "</style>\n",
       "<table border=\"1\" class=\"dataframe\">\n",
       "  <thead>\n",
       "    <tr style=\"text-align: right;\">\n",
       "      <th></th>\n",
       "      <th>id1</th>\n",
       "      <th>id2</th>\n",
       "      <th>id3</th>\n",
       "      <th>text</th>\n",
       "      <th>f1</th>\n",
       "      <th>f2</th>\n",
       "      <th>f3</th>\n",
       "      <th>f4</th>\n",
       "      <th>f5</th>\n",
       "      <th>f6</th>\n",
       "      <th>f7</th>\n",
       "      <th>f8</th>\n",
       "      <th>label</th>\n",
       "      <th>w_count</th>\n",
       "      <th>h_score</th>\n",
       "    </tr>\n",
       "  </thead>\n",
       "  <tbody>\n",
       "    <tr>\n",
       "      <th>57</th>\n",
       "      <td>8169272926386961611</td>\n",
       "      <td>18040562023416977861</td>\n",
       "      <td>16940831933287161398</td>\n",
       "      <td>Шикарная сумка! Еще и с инструментом! Взяла ба...</td>\n",
       "      <td>638</td>\n",
       "      <td>550</td>\n",
       "      <td>4.711599</td>\n",
       "      <td>5</td>\n",
       "      <td>1</td>\n",
       "      <td>5.0</td>\n",
       "      <td>731</td>\n",
       "      <td>2137</td>\n",
       "      <td>1</td>\n",
       "      <td>13</td>\n",
       "      <td>1</td>\n",
       "    </tr>\n",
       "    <tr>\n",
       "      <th>93</th>\n",
       "      <td>283707312858959120</td>\n",
       "      <td>13175786626800344327</td>\n",
       "      <td>16089087977100319143</td>\n",
       "      <td>Толстый флис ,фирма ТВОЁ. Широкие, большимерят.</td>\n",
       "      <td>530</td>\n",
       "      <td>23</td>\n",
       "      <td>4.349057</td>\n",
       "      <td>1</td>\n",
       "      <td>0</td>\n",
       "      <td>5.0</td>\n",
       "      <td>873</td>\n",
       "      <td>2123</td>\n",
       "      <td>1</td>\n",
       "      <td>6</td>\n",
       "      <td>1</td>\n",
       "    </tr>\n",
       "    <tr>\n",
       "      <th>283</th>\n",
       "      <td>283707312858959120</td>\n",
       "      <td>18337712866225462969</td>\n",
       "      <td>3260081402716394163</td>\n",
       "      <td>Натуральная кожа,на узкую ногу.</td>\n",
       "      <td>530</td>\n",
       "      <td>23</td>\n",
       "      <td>4.349057</td>\n",
       "      <td>1</td>\n",
       "      <td>0</td>\n",
       "      <td>5.0</td>\n",
       "      <td>873</td>\n",
       "      <td>2123</td>\n",
       "      <td>1</td>\n",
       "      <td>4</td>\n",
       "      <td>1</td>\n",
       "    </tr>\n",
       "    <tr>\n",
       "      <th>985</th>\n",
       "      <td>283707312858959120</td>\n",
       "      <td>11556255111361080256</td>\n",
       "      <td>3033520687525129327</td>\n",
       "      <td>Обычный кошелек. Пришел в обычном полиэтиленов...</td>\n",
       "      <td>530</td>\n",
       "      <td>23</td>\n",
       "      <td>4.349057</td>\n",
       "      <td>1</td>\n",
       "      <td>0</td>\n",
       "      <td>5.0</td>\n",
       "      <td>873</td>\n",
       "      <td>2123</td>\n",
       "      <td>1</td>\n",
       "      <td>12</td>\n",
       "      <td>1</td>\n",
       "    </tr>\n",
       "  </tbody>\n",
       "</table>\n",
       "</div>"
      ],
      "text/plain": [
       "                     id1                   id2                   id3  \\\n",
       "57   8169272926386961611  18040562023416977861  16940831933287161398   \n",
       "93    283707312858959120  13175786626800344327  16089087977100319143   \n",
       "283   283707312858959120  18337712866225462969   3260081402716394163   \n",
       "985   283707312858959120  11556255111361080256   3033520687525129327   \n",
       "\n",
       "                                                  text   f1   f2        f3  \\\n",
       "57   Шикарная сумка! Еще и с инструментом! Взяла ба...  638  550  4.711599   \n",
       "93     Толстый флис ,фирма ТВОЁ. Широкие, большимерят.  530   23  4.349057   \n",
       "283                    Натуральная кожа,на узкую ногу.  530   23  4.349057   \n",
       "985  Обычный кошелек. Пришел в обычном полиэтиленов...  530   23  4.349057   \n",
       "\n",
       "     f4  f5   f6   f7    f8  label  w_count  h_score  \n",
       "57    5   1  5.0  731  2137      1       13        1  \n",
       "93    1   0  5.0  873  2123      1        6        1  \n",
       "283   1   0  5.0  873  2123      1        4        1  \n",
       "985   1   0  5.0  873  2123      1       12        1  "
      ]
     },
     "execution_count": 13,
     "metadata": {},
     "output_type": "execute_result"
    }
   ],
   "source": [
    "df.loc[df['f1'] > 500]"
   ]
  },
  {
   "cell_type": "code",
   "execution_count": 14,
   "id": "16277d77",
   "metadata": {},
   "outputs": [
    {
     "data": {
      "text/plain": [
       "<seaborn.axisgrid.FacetGrid at 0x1ae4da07700>"
      ]
     },
     "execution_count": 14,
     "metadata": {},
     "output_type": "execute_result"
    },
    {
     "data": {
      "image/png": "[encoded data removed]",
      "text/plain": [
       "<Figure size 500x500 with 1 Axes>"
      ]
     },
     "metadata": {},
     "output_type": "display_data"
    }
   ],
   "source": [
    "sns.displot(df, y='h_score', x='label')"
   ]
  },
  {
   "cell_type": "code",
   "execution_count": 15,
   "id": "10110cf4",
   "metadata": {},
   "outputs": [
    {
     "data": {
      "text/plain": [
       "Int64Index([  46,   73,  368,  413,  564,  596,  612,  629,  630,  631,\n",
       "            ...\n",
       "            2992, 2993, 3000, 3022, 3046, 3049, 3054, 3083, 3085, 3101],\n",
       "           dtype='int64', length=117)"
      ]
     },
     "execution_count": 15,
     "metadata": {},
     "output_type": "execute_result"
    }
   ],
   "source": [
    "df[df.duplicated(subset = ['id2'])].index"
   ]
  },
  {
   "cell_type": "code",
   "execution_count": 16,
   "id": "7a6b42c3",
   "metadata": {},
   "outputs": [
    {
     "data": {
      "text/html": [
       "<div>\n",
       "<style scoped>\n",
       "    .dataframe tbody tr th:only-of-type {\n",
       "        vertical-align: middle;\n",
       "    }\n",
       "\n",
       "    .dataframe tbody tr th {\n",
       "        vertical-align: top;\n",
       "    }\n",
       "\n",
       "    .dataframe thead th {\n",
       "        text-align: right;\n",
       "    }\n",
       "</style>\n",
       "<table border=\"1\" class=\"dataframe\">\n",
       "  <thead>\n",
       "    <tr style=\"text-align: right;\">\n",
       "      <th></th>\n",
       "      <th>id1</th>\n",
       "      <th>id2</th>\n",
       "      <th>id3</th>\n",
       "      <th>text</th>\n",
       "      <th>f1</th>\n",
       "      <th>f2</th>\n",
       "      <th>f3</th>\n",
       "      <th>f4</th>\n",
       "      <th>f5</th>\n",
       "      <th>f6</th>\n",
       "      <th>f7</th>\n",
       "      <th>f8</th>\n",
       "      <th>label</th>\n",
       "      <th>w_count</th>\n",
       "      <th>h_score</th>\n",
       "    </tr>\n",
       "  </thead>\n",
       "  <tbody>\n",
       "    <tr>\n",
       "      <th>756</th>\n",
       "      <td>1076575605779048698</td>\n",
       "      <td>3345344880097563888</td>\n",
       "      <td>14918306419713499452</td>\n",
       "      <td>Заказала 02 оттенок, фотографии приложу) Значи...</td>\n",
       "      <td>8</td>\n",
       "      <td>8</td>\n",
       "      <td>4.750000</td>\n",
       "      <td>20419</td>\n",
       "      <td>4690</td>\n",
       "      <td>4.67878</td>\n",
       "      <td>74</td>\n",
       "      <td>108</td>\n",
       "      <td>0</td>\n",
       "      <td>20</td>\n",
       "      <td>1</td>\n",
       "    </tr>\n",
       "    <tr>\n",
       "      <th>757</th>\n",
       "      <td>13687420362999564220</td>\n",
       "      <td>3345344880097563888</td>\n",
       "      <td>14918306419713499452</td>\n",
       "      <td>консилер хороший советую!</td>\n",
       "      <td>6</td>\n",
       "      <td>6</td>\n",
       "      <td>3.333333</td>\n",
       "      <td>20419</td>\n",
       "      <td>4690</td>\n",
       "      <td>4.67878</td>\n",
       "      <td>6</td>\n",
       "      <td>6</td>\n",
       "      <td>0</td>\n",
       "      <td>3</td>\n",
       "      <td>1</td>\n",
       "    </tr>\n",
       "    <tr>\n",
       "      <th>1723</th>\n",
       "      <td>13823627268069149155</td>\n",
       "      <td>3345344880097563888</td>\n",
       "      <td>14918306419713499452</td>\n",
       "      <td>цвет не подошёл</td>\n",
       "      <td>1</td>\n",
       "      <td>1</td>\n",
       "      <td>4.000000</td>\n",
       "      <td>20419</td>\n",
       "      <td>4690</td>\n",
       "      <td>4.67878</td>\n",
       "      <td>12</td>\n",
       "      <td>17</td>\n",
       "      <td>0</td>\n",
       "      <td>3</td>\n",
       "      <td>1</td>\n",
       "    </tr>\n",
       "    <tr>\n",
       "      <th>3085</th>\n",
       "      <td>17564680862523094259</td>\n",
       "      <td>3345344880097563888</td>\n",
       "      <td>14918306419713499452</td>\n",
       "      <td>огонь!!!!!</td>\n",
       "      <td>7</td>\n",
       "      <td>7</td>\n",
       "      <td>4.857143</td>\n",
       "      <td>20419</td>\n",
       "      <td>4690</td>\n",
       "      <td>4.67878</td>\n",
       "      <td>24</td>\n",
       "      <td>24</td>\n",
       "      <td>0</td>\n",
       "      <td>1</td>\n",
       "      <td>1</td>\n",
       "    </tr>\n",
       "  </tbody>\n",
       "</table>\n",
       "</div>"
      ],
      "text/plain": [
       "                       id1                  id2                   id3  \\\n",
       "756    1076575605779048698  3345344880097563888  14918306419713499452   \n",
       "757   13687420362999564220  3345344880097563888  14918306419713499452   \n",
       "1723  13823627268069149155  3345344880097563888  14918306419713499452   \n",
       "3085  17564680862523094259  3345344880097563888  14918306419713499452   \n",
       "\n",
       "                                                   text  f1  f2        f3  \\\n",
       "756   Заказала 02 оттенок, фотографии приложу) Значи...   8   8  4.750000   \n",
       "757                           консилер хороший советую!   6   6  3.333333   \n",
       "1723                                    цвет не подошёл   1   1  4.000000   \n",
       "3085                                         огонь!!!!!   7   7  4.857143   \n",
       "\n",
       "         f4    f5       f6  f7   f8  label  w_count  h_score  \n",
       "756   20419  4690  4.67878  74  108      0       20        1  \n",
       "757   20419  4690  4.67878   6    6      0        3        1  \n",
       "1723  20419  4690  4.67878  12   17      0        3        1  \n",
       "3085  20419  4690  4.67878  24   24      0        1        1  "
      ]
     },
     "execution_count": 16,
     "metadata": {},
     "output_type": "execute_result"
    }
   ],
   "source": [
    "df.loc[df['id2'] == df.id2[3085]].head()"
   ]
  },
  {
   "cell_type": "markdown",
   "id": "dbf80416",
   "metadata": {},
   "source": [
    "id2 - id товара"
   ]
  },
  {
   "cell_type": "code",
   "execution_count": 17,
   "id": "713ebe45",
   "metadata": {},
   "outputs": [
    {
     "data": {
      "text/plain": [
       "Int64Index([  26,   43,   46,   47,   48,   49,   50,   54,   62,   68,\n",
       "            ...\n",
       "            3110, 3111, 3112, 3113, 3116, 3117, 3118, 3119, 3120, 3121],\n",
       "           dtype='int64', length=2145)"
      ]
     },
     "execution_count": 17,
     "metadata": {},
     "output_type": "execute_result"
    }
   ],
   "source": [
    "df[df.duplicated(subset = ['id3'])].index"
   ]
  },
  {
   "cell_type": "code",
   "execution_count": 18,
   "id": "49deda0e",
   "metadata": {},
   "outputs": [
    {
     "data": {
      "text/html": [
       "<div>\n",
       "<style scoped>\n",
       "    .dataframe tbody tr th:only-of-type {\n",
       "        vertical-align: middle;\n",
       "    }\n",
       "\n",
       "    .dataframe tbody tr th {\n",
       "        vertical-align: top;\n",
       "    }\n",
       "\n",
       "    .dataframe thead th {\n",
       "        text-align: right;\n",
       "    }\n",
       "</style>\n",
       "<table border=\"1\" class=\"dataframe\">\n",
       "  <thead>\n",
       "    <tr style=\"text-align: right;\">\n",
       "      <th></th>\n",
       "      <th>id1</th>\n",
       "      <th>id2</th>\n",
       "      <th>id3</th>\n",
       "      <th>text</th>\n",
       "      <th>f1</th>\n",
       "      <th>f2</th>\n",
       "      <th>f3</th>\n",
       "      <th>f4</th>\n",
       "      <th>f5</th>\n",
       "      <th>f6</th>\n",
       "      <th>f7</th>\n",
       "      <th>f8</th>\n",
       "      <th>label</th>\n",
       "      <th>w_count</th>\n",
       "      <th>h_score</th>\n",
       "    </tr>\n",
       "  </thead>\n",
       "  <tbody>\n",
       "    <tr>\n",
       "      <th>3</th>\n",
       "      <td>15432976385014516263</td>\n",
       "      <td>2629180387521298831</td>\n",
       "      <td>13541353053200353836</td>\n",
       "      <td>Восторг! Очень приятный аромат, держится долго...</td>\n",
       "      <td>6</td>\n",
       "      <td>6</td>\n",
       "      <td>5.000000</td>\n",
       "      <td>374</td>\n",
       "      <td>30</td>\n",
       "      <td>4.772727</td>\n",
       "      <td>14</td>\n",
       "      <td>15</td>\n",
       "      <td>1</td>\n",
       "      <td>11</td>\n",
       "      <td>1</td>\n",
       "    </tr>\n",
       "    <tr>\n",
       "      <th>26</th>\n",
       "      <td>7274621338731644697</td>\n",
       "      <td>3340034334621716454</td>\n",
       "      <td>13541353053200353836</td>\n",
       "      <td>Давно мечтала  купить духи Может быть, и осуще...</td>\n",
       "      <td>10</td>\n",
       "      <td>10</td>\n",
       "      <td>5.000000</td>\n",
       "      <td>205</td>\n",
       "      <td>23</td>\n",
       "      <td>3.570732</td>\n",
       "      <td>22</td>\n",
       "      <td>41</td>\n",
       "      <td>0</td>\n",
       "      <td>12</td>\n",
       "      <td>1</td>\n",
       "    </tr>\n",
       "    <tr>\n",
       "      <th>449</th>\n",
       "      <td>14961753110682845321</td>\n",
       "      <td>1750141881488684864</td>\n",
       "      <td>13541353053200353836</td>\n",
       "      <td>Спасибо большое за духи. Африканский бал это п...</td>\n",
       "      <td>2</td>\n",
       "      <td>1</td>\n",
       "      <td>5.000000</td>\n",
       "      <td>200</td>\n",
       "      <td>71</td>\n",
       "      <td>4.680000</td>\n",
       "      <td>2</td>\n",
       "      <td>3</td>\n",
       "      <td>1</td>\n",
       "      <td>30</td>\n",
       "      <td>1</td>\n",
       "    </tr>\n",
       "    <tr>\n",
       "      <th>484</th>\n",
       "      <td>5797421081196931967</td>\n",
       "      <td>15046622569461799340</td>\n",
       "      <td>13541353053200353836</td>\n",
       "      <td>Всё отлично. Пришёл полностью запечатанным. За...</td>\n",
       "      <td>9</td>\n",
       "      <td>6</td>\n",
       "      <td>5.000000</td>\n",
       "      <td>203</td>\n",
       "      <td>35</td>\n",
       "      <td>4.768473</td>\n",
       "      <td>10</td>\n",
       "      <td>14</td>\n",
       "      <td>1</td>\n",
       "      <td>7</td>\n",
       "      <td>1</td>\n",
       "    </tr>\n",
       "    <tr>\n",
       "      <th>697</th>\n",
       "      <td>1768770341539716364</td>\n",
       "      <td>2430568197847501334</td>\n",
       "      <td>13541353053200353836</td>\n",
       "      <td>Парфюм очень качественные. Порадовал себя. Боя...</td>\n",
       "      <td>12</td>\n",
       "      <td>5</td>\n",
       "      <td>4.666667</td>\n",
       "      <td>2</td>\n",
       "      <td>0</td>\n",
       "      <td>5.000000</td>\n",
       "      <td>6</td>\n",
       "      <td>17</td>\n",
       "      <td>1</td>\n",
       "      <td>13</td>\n",
       "      <td>1</td>\n",
       "    </tr>\n",
       "  </tbody>\n",
       "</table>\n",
       "</div>"
      ],
      "text/plain": [
       "                      id1                   id2                   id3  \\\n",
       "3    15432976385014516263   2629180387521298831  13541353053200353836   \n",
       "26    7274621338731644697   3340034334621716454  13541353053200353836   \n",
       "449  14961753110682845321   1750141881488684864  13541353053200353836   \n",
       "484   5797421081196931967  15046622569461799340  13541353053200353836   \n",
       "697   1768770341539716364   2430568197847501334  13541353053200353836   \n",
       "\n",
       "                                                  text  f1  f2        f3   f4  \\\n",
       "3    Восторг! Очень приятный аромат, держится долго...   6   6  5.000000  374   \n",
       "26   Давно мечтала  купить духи Может быть, и осуще...  10  10  5.000000  205   \n",
       "449  Спасибо большое за духи. Африканский бал это п...   2   1  5.000000  200   \n",
       "484  Всё отлично. Пришёл полностью запечатанным. За...   9   6  5.000000  203   \n",
       "697  Парфюм очень качественные. Порадовал себя. Боя...  12   5  4.666667    2   \n",
       "\n",
       "     f5        f6  f7  f8  label  w_count  h_score  \n",
       "3    30  4.772727  14  15      1       11        1  \n",
       "26   23  3.570732  22  41      0       12        1  \n",
       "449  71  4.680000   2   3      1       30        1  \n",
       "484  35  4.768473  10  14      1        7        1  \n",
       "697   0  5.000000   6  17      1       13        1  "
      ]
     },
     "execution_count": 18,
     "metadata": {},
     "output_type": "execute_result"
    }
   ],
   "source": [
    "df.loc[df['id3'] == df.id3[26]].head()"
   ]
  },
  {
   "cell_type": "code",
   "execution_count": 19,
   "id": "426f65ab",
   "metadata": {
    "scrolled": false
   },
   "outputs": [
    {
     "data": {
      "text/plain": [
       "Int64Index([  46,   70,   75,   79,  145,  160,  184,  199,  221,  230,  233,\n",
       "             239,  251,  268,  269,  278,  283,  327,  343,  349,  402,  433,\n",
       "             438,  448,  542,  818,  927,  985, 1062, 1157, 1514, 1529, 1533,\n",
       "            1534, 1572, 1739, 1744, 1781, 1822, 1836, 1939, 1940, 1964, 2007,\n",
       "            2085, 2150, 2185, 2244, 2245, 2247, 2347, 2399, 2450, 2489, 2540,\n",
       "            2554, 2556, 2557, 2561, 2611, 2614, 2633, 2652, 2732, 2746, 2755,\n",
       "            2770, 2790, 2831, 2837, 2854, 3014, 3020, 3090],\n",
       "           dtype='int64')"
      ]
     },
     "execution_count": 19,
     "metadata": {},
     "output_type": "execute_result"
    }
   ],
   "source": [
    "df[df.duplicated(subset = ['id1'])].index"
   ]
  },
  {
   "cell_type": "code",
   "execution_count": 20,
   "id": "c62c5466",
   "metadata": {
    "scrolled": false
   },
   "outputs": [
    {
     "data": {
      "text/html": [
       "<div>\n",
       "<style scoped>\n",
       "    .dataframe tbody tr th:only-of-type {\n",
       "        vertical-align: middle;\n",
       "    }\n",
       "\n",
       "    .dataframe tbody tr th {\n",
       "        vertical-align: top;\n",
       "    }\n",
       "\n",
       "    .dataframe thead th {\n",
       "        text-align: right;\n",
       "    }\n",
       "</style>\n",
       "<table border=\"1\" class=\"dataframe\">\n",
       "  <thead>\n",
       "    <tr style=\"text-align: right;\">\n",
       "      <th></th>\n",
       "      <th>id1</th>\n",
       "      <th>id2</th>\n",
       "      <th>id3</th>\n",
       "      <th>text</th>\n",
       "      <th>f1</th>\n",
       "      <th>f2</th>\n",
       "      <th>f3</th>\n",
       "      <th>f4</th>\n",
       "      <th>f5</th>\n",
       "      <th>f6</th>\n",
       "      <th>f7</th>\n",
       "      <th>f8</th>\n",
       "      <th>label</th>\n",
       "      <th>w_count</th>\n",
       "      <th>h_score</th>\n",
       "    </tr>\n",
       "  </thead>\n",
       "  <tbody>\n",
       "    <tr>\n",
       "      <th>41</th>\n",
       "      <td>5002269436549863957</td>\n",
       "      <td>8537018422111626685</td>\n",
       "      <td>2452047199270097551</td>\n",
       "      <td>Сзади шнуровка , внутри мех и внешне выглядит ...</td>\n",
       "      <td>40</td>\n",
       "      <td>2</td>\n",
       "      <td>5.0</td>\n",
       "      <td>4</td>\n",
       "      <td>6</td>\n",
       "      <td>4.500000</td>\n",
       "      <td>13</td>\n",
       "      <td>43</td>\n",
       "      <td>1</td>\n",
       "      <td>14</td>\n",
       "      <td>1</td>\n",
       "    </tr>\n",
       "    <tr>\n",
       "      <th>75</th>\n",
       "      <td>5002269436549863957</td>\n",
       "      <td>13669343433924914553</td>\n",
       "      <td>2452047199270097551</td>\n",
       "      <td>Мне подошли размер в размер. Бежевые ,смотрятс...</td>\n",
       "      <td>40</td>\n",
       "      <td>2</td>\n",
       "      <td>5.0</td>\n",
       "      <td>6</td>\n",
       "      <td>9</td>\n",
       "      <td>3.666667</td>\n",
       "      <td>13</td>\n",
       "      <td>43</td>\n",
       "      <td>1</td>\n",
       "      <td>11</td>\n",
       "      <td>1</td>\n",
       "    </tr>\n",
       "    <tr>\n",
       "      <th>79</th>\n",
       "      <td>5002269436549863957</td>\n",
       "      <td>11253309069675330304</td>\n",
       "      <td>2452047199270097551</td>\n",
       "      <td>Мне подошли размер в размер. Легко надела . Уд...</td>\n",
       "      <td>40</td>\n",
       "      <td>2</td>\n",
       "      <td>5.0</td>\n",
       "      <td>8</td>\n",
       "      <td>9</td>\n",
       "      <td>4.250000</td>\n",
       "      <td>13</td>\n",
       "      <td>43</td>\n",
       "      <td>1</td>\n",
       "      <td>12</td>\n",
       "      <td>1</td>\n",
       "    </tr>\n",
       "    <tr>\n",
       "      <th>145</th>\n",
       "      <td>5002269436549863957</td>\n",
       "      <td>12540256564528009708</td>\n",
       "      <td>2452047199270097551</td>\n",
       "      <td>Хороши на холодную слякотную погоду. Смотрятся...</td>\n",
       "      <td>40</td>\n",
       "      <td>2</td>\n",
       "      <td>5.0</td>\n",
       "      <td>4</td>\n",
       "      <td>5</td>\n",
       "      <td>4.250000</td>\n",
       "      <td>13</td>\n",
       "      <td>43</td>\n",
       "      <td>0</td>\n",
       "      <td>18</td>\n",
       "      <td>1</td>\n",
       "    </tr>\n",
       "    <tr>\n",
       "      <th>233</th>\n",
       "      <td>5002269436549863957</td>\n",
       "      <td>4707051732118680101</td>\n",
       "      <td>2452047199270097551</td>\n",
       "      <td>Вот такие классные ботиночки из натуральной за...</td>\n",
       "      <td>40</td>\n",
       "      <td>2</td>\n",
       "      <td>5.0</td>\n",
       "      <td>8</td>\n",
       "      <td>6</td>\n",
       "      <td>4.875000</td>\n",
       "      <td>13</td>\n",
       "      <td>43</td>\n",
       "      <td>1</td>\n",
       "      <td>16</td>\n",
       "      <td>1</td>\n",
       "    </tr>\n",
       "    <tr>\n",
       "      <th>327</th>\n",
       "      <td>5002269436549863957</td>\n",
       "      <td>17163190472521893796</td>\n",
       "      <td>7715615707067664181</td>\n",
       "      <td>Понравились- качество достойное! Мне подошли н...</td>\n",
       "      <td>40</td>\n",
       "      <td>2</td>\n",
       "      <td>5.0</td>\n",
       "      <td>8</td>\n",
       "      <td>6</td>\n",
       "      <td>4.500000</td>\n",
       "      <td>13</td>\n",
       "      <td>43</td>\n",
       "      <td>1</td>\n",
       "      <td>8</td>\n",
       "      <td>1</td>\n",
       "    </tr>\n",
       "    <tr>\n",
       "      <th>438</th>\n",
       "      <td>5002269436549863957</td>\n",
       "      <td>7184918404601862719</td>\n",
       "      <td>11037372112584364428</td>\n",
       "      <td>Размер в размер плотно сели, но натуральная ко...</td>\n",
       "      <td>40</td>\n",
       "      <td>2</td>\n",
       "      <td>5.0</td>\n",
       "      <td>5</td>\n",
       "      <td>6</td>\n",
       "      <td>4.800000</td>\n",
       "      <td>13</td>\n",
       "      <td>43</td>\n",
       "      <td>0</td>\n",
       "      <td>15</td>\n",
       "      <td>1</td>\n",
       "    </tr>\n",
       "    <tr>\n",
       "      <th>542</th>\n",
       "      <td>5002269436549863957</td>\n",
       "      <td>2918697925375352353</td>\n",
       "      <td>2452047199270097551</td>\n",
       "      <td>Меня привлекло ,то как сделана подошва, можно ...</td>\n",
       "      <td>40</td>\n",
       "      <td>2</td>\n",
       "      <td>5.0</td>\n",
       "      <td>19</td>\n",
       "      <td>17</td>\n",
       "      <td>4.368421</td>\n",
       "      <td>13</td>\n",
       "      <td>43</td>\n",
       "      <td>0</td>\n",
       "      <td>31</td>\n",
       "      <td>1</td>\n",
       "    </tr>\n",
       "    <tr>\n",
       "      <th>818</th>\n",
       "      <td>5002269436549863957</td>\n",
       "      <td>7793738754320529137</td>\n",
       "      <td>815378434367114826</td>\n",
       "      <td>Сумка сыну понравилась! Качество хорошее. Брак...</td>\n",
       "      <td>40</td>\n",
       "      <td>2</td>\n",
       "      <td>5.0</td>\n",
       "      <td>2</td>\n",
       "      <td>2</td>\n",
       "      <td>5.000000</td>\n",
       "      <td>13</td>\n",
       "      <td>43</td>\n",
       "      <td>1</td>\n",
       "      <td>8</td>\n",
       "      <td>1</td>\n",
       "    </tr>\n",
       "    <tr>\n",
       "      <th>1062</th>\n",
       "      <td>5002269436549863957</td>\n",
       "      <td>8779533373574352561</td>\n",
       "      <td>2452047199270097551</td>\n",
       "      <td>Хорошие ботинки,удобные,смотрятся брутально. Н...</td>\n",
       "      <td>40</td>\n",
       "      <td>2</td>\n",
       "      <td>5.0</td>\n",
       "      <td>16</td>\n",
       "      <td>14</td>\n",
       "      <td>4.875000</td>\n",
       "      <td>13</td>\n",
       "      <td>43</td>\n",
       "      <td>1</td>\n",
       "      <td>6</td>\n",
       "      <td>1</td>\n",
       "    </tr>\n",
       "    <tr>\n",
       "      <th>1572</th>\n",
       "      <td>5002269436549863957</td>\n",
       "      <td>10564289729077721264</td>\n",
       "      <td>11037372112584364428</td>\n",
       "      <td>Мне подошли идеально. Я в восторге от дизайна ...</td>\n",
       "      <td>40</td>\n",
       "      <td>2</td>\n",
       "      <td>5.0</td>\n",
       "      <td>9</td>\n",
       "      <td>8</td>\n",
       "      <td>4.666667</td>\n",
       "      <td>13</td>\n",
       "      <td>43</td>\n",
       "      <td>1</td>\n",
       "      <td>11</td>\n",
       "      <td>1</td>\n",
       "    </tr>\n",
       "    <tr>\n",
       "      <th>2347</th>\n",
       "      <td>5002269436549863957</td>\n",
       "      <td>585395059329451331</td>\n",
       "      <td>12486654989081933384</td>\n",
       "      <td>Подошли идеально,на ногах смотрятся  прекрасно...</td>\n",
       "      <td>40</td>\n",
       "      <td>2</td>\n",
       "      <td>5.0</td>\n",
       "      <td>2</td>\n",
       "      <td>3</td>\n",
       "      <td>4.000000</td>\n",
       "      <td>13</td>\n",
       "      <td>43</td>\n",
       "      <td>0</td>\n",
       "      <td>7</td>\n",
       "      <td>1</td>\n",
       "    </tr>\n",
       "    <tr>\n",
       "      <th>2554</th>\n",
       "      <td>5002269436549863957</td>\n",
       "      <td>570408289656093317</td>\n",
       "      <td>147494687329013625</td>\n",
       "      <td>Очень качественно сшит. Нет изъянов. Хороший р...</td>\n",
       "      <td>40</td>\n",
       "      <td>2</td>\n",
       "      <td>5.0</td>\n",
       "      <td>9</td>\n",
       "      <td>16</td>\n",
       "      <td>4.555556</td>\n",
       "      <td>13</td>\n",
       "      <td>43</td>\n",
       "      <td>1</td>\n",
       "      <td>10</td>\n",
       "      <td>1</td>\n",
       "    </tr>\n",
       "    <tr>\n",
       "      <th>2557</th>\n",
       "      <td>5002269436549863957</td>\n",
       "      <td>6787750779881154682</td>\n",
       "      <td>2452047199270097551</td>\n",
       "      <td>Подошли по размеру и по всем моим желаниям. Вн...</td>\n",
       "      <td>40</td>\n",
       "      <td>2</td>\n",
       "      <td>5.0</td>\n",
       "      <td>15</td>\n",
       "      <td>13</td>\n",
       "      <td>4.733333</td>\n",
       "      <td>13</td>\n",
       "      <td>43</td>\n",
       "      <td>1</td>\n",
       "      <td>17</td>\n",
       "      <td>1</td>\n",
       "    </tr>\n",
       "    <tr>\n",
       "      <th>2561</th>\n",
       "      <td>5002269436549863957</td>\n",
       "      <td>17937099785350255220</td>\n",
       "      <td>12486654989081933384</td>\n",
       "      <td>Отлично смотрятся.  Идеально подошли, нога каж...</td>\n",
       "      <td>40</td>\n",
       "      <td>2</td>\n",
       "      <td>5.0</td>\n",
       "      <td>3</td>\n",
       "      <td>2</td>\n",
       "      <td>4.000000</td>\n",
       "      <td>13</td>\n",
       "      <td>43</td>\n",
       "      <td>1</td>\n",
       "      <td>12</td>\n",
       "      <td>1</td>\n",
       "    </tr>\n",
       "  </tbody>\n",
       "</table>\n",
       "</div>"
      ],
      "text/plain": [
       "                      id1                   id2                   id3  \\\n",
       "41    5002269436549863957   8537018422111626685   2452047199270097551   \n",
       "75    5002269436549863957  13669343433924914553   2452047199270097551   \n",
       "79    5002269436549863957  11253309069675330304   2452047199270097551   \n",
       "145   5002269436549863957  12540256564528009708   2452047199270097551   \n",
       "233   5002269436549863957   4707051732118680101   2452047199270097551   \n",
       "327   5002269436549863957  17163190472521893796   7715615707067664181   \n",
       "438   5002269436549863957   7184918404601862719  11037372112584364428   \n",
       "542   5002269436549863957   2918697925375352353   2452047199270097551   \n",
       "818   5002269436549863957   7793738754320529137    815378434367114826   \n",
       "1062  5002269436549863957   8779533373574352561   2452047199270097551   \n",
       "1572  5002269436549863957  10564289729077721264  11037372112584364428   \n",
       "2347  5002269436549863957    585395059329451331  12486654989081933384   \n",
       "2554  5002269436549863957    570408289656093317    147494687329013625   \n",
       "2557  5002269436549863957   6787750779881154682   2452047199270097551   \n",
       "2561  5002269436549863957  17937099785350255220  12486654989081933384   \n",
       "\n",
       "                                                   text  f1  f2   f3  f4  f5  \\\n",
       "41    Сзади шнуровка , внутри мех и внешне выглядит ...  40   2  5.0   4   6   \n",
       "75    Мне подошли размер в размер. Бежевые ,смотрятс...  40   2  5.0   6   9   \n",
       "79    Мне подошли размер в размер. Легко надела . Уд...  40   2  5.0   8   9   \n",
       "145   Хороши на холодную слякотную погоду. Смотрятся...  40   2  5.0   4   5   \n",
       "233   Вот такие классные ботиночки из натуральной за...  40   2  5.0   8   6   \n",
       "327   Понравились- качество достойное! Мне подошли н...  40   2  5.0   8   6   \n",
       "438   Размер в размер плотно сели, но натуральная ко...  40   2  5.0   5   6   \n",
       "542   Меня привлекло ,то как сделана подошва, можно ...  40   2  5.0  19  17   \n",
       "818   Сумка сыну понравилась! Качество хорошее. Брак...  40   2  5.0   2   2   \n",
       "1062  Хорошие ботинки,удобные,смотрятся брутально. Н...  40   2  5.0  16  14   \n",
       "1572  Мне подошли идеально. Я в восторге от дизайна ...  40   2  5.0   9   8   \n",
       "2347  Подошли идеально,на ногах смотрятся  прекрасно...  40   2  5.0   2   3   \n",
       "2554  Очень качественно сшит. Нет изъянов. Хороший р...  40   2  5.0   9  16   \n",
       "2557  Подошли по размеру и по всем моим желаниям. Вн...  40   2  5.0  15  13   \n",
       "2561  Отлично смотрятся.  Идеально подошли, нога каж...  40   2  5.0   3   2   \n",
       "\n",
       "            f6  f7  f8  label  w_count  h_score  \n",
       "41    4.500000  13  43      1       14        1  \n",
       "75    3.666667  13  43      1       11        1  \n",
       "79    4.250000  13  43      1       12        1  \n",
       "145   4.250000  13  43      0       18        1  \n",
       "233   4.875000  13  43      1       16        1  \n",
       "327   4.500000  13  43      1        8        1  \n",
       "438   4.800000  13  43      0       15        1  \n",
       "542   4.368421  13  43      0       31        1  \n",
       "818   5.000000  13  43      1        8        1  \n",
       "1062  4.875000  13  43      1        6        1  \n",
       "1572  4.666667  13  43      1       11        1  \n",
       "2347  4.000000  13  43      0        7        1  \n",
       "2554  4.555556  13  43      1       10        1  \n",
       "2557  4.733333  13  43      1       17        1  \n",
       "2561  4.000000  13  43      1       12        1  "
      ]
     },
     "execution_count": 20,
     "metadata": {},
     "output_type": "execute_result"
    }
   ],
   "source": [
    "df.loc[df['id1'] == df.id1[75]]"
   ]
  },
  {
   "cell_type": "markdown",
   "id": "f5ab87dd",
   "metadata": {},
   "source": [
    "id1 - id пользовтаеля"
   ]
  },
  {
   "cell_type": "code",
   "execution_count": 21,
   "id": "65c23544",
   "metadata": {},
   "outputs": [],
   "source": [
    "text = df.text"
   ]
  },
  {
   "cell_type": "code",
   "execution_count": 22,
   "id": "73fc4ed5",
   "metadata": {},
   "outputs": [
    {
     "data": {
      "text/plain": [
       "'Хотела купить на замену старых,по итогу эти  ужаснотупые ,не удобные ,рвут кутикулу ,а не режут.'"
      ]
     },
     "execution_count": 22,
     "metadata": {},
     "output_type": "execute_result"
    }
   ],
   "source": [
    "text[0]"
   ]
  },
  {
   "cell_type": "markdown",
   "id": "acfb5624",
   "metadata": {},
   "source": [
    "# Первичная обработка"
   ]
  },
  {
   "cell_type": "code",
   "execution_count": 23,
   "id": "e3dba3c8",
   "metadata": {},
   "outputs": [],
   "source": [
    "tokenized_sw_p = pd.Series([nltk.word_tokenize(text[i], language='russian') for i in range(0, len(text))])"
   ]
  },
  {
   "cell_type": "code",
   "execution_count": 24,
   "id": "3dc32f73",
   "metadata": {},
   "outputs": [
    {
     "data": {
      "text/plain": [
       "0    [Хотела, купить, на, замену, старых, ,, по, ит...\n",
       "1    [Запах, по, сравнению, с, обычным, DOVE, никак...\n",
       "2            [Кабель, подошёл, ,, хорошо, работает, .]\n",
       "3    [Восторг, !, Очень, приятный, аромат, ,, держи...\n",
       "4    [Визуально, все, хорошо, ., Не, пробовали, ., ...\n",
       "dtype: object"
      ]
     },
     "execution_count": 24,
     "metadata": {},
     "output_type": "execute_result"
    }
   ],
   "source": [
    "tokenized_sw_p.head()"
   ]
  },
  {
   "cell_type": "code",
   "execution_count": 25,
   "id": "dda23995",
   "metadata": {},
   "outputs": [],
   "source": [
    "stemmed = []\n",
    "for i in range(0, len(tokenized_sw_p)):\n",
    "    stemmed.append([stem.stem(token) for token in tokenized_sw_p[i] if token not in swords and token not in punctuation])\n",
    "stemmed = pd.Series(stemmed)"
   ]
  },
  {
   "cell_type": "code",
   "execution_count": 26,
   "id": "65c40dab",
   "metadata": {},
   "outputs": [],
   "source": [
    "del tokenized_sw_p\n",
    "del text"
   ]
  },
  {
   "cell_type": "code",
   "execution_count": 28,
   "id": "5c1011d6",
   "metadata": {},
   "outputs": [
    {
     "data": {
      "text/plain": [
       "0    хотел куп замен стар итог ужаснотуп удобн рвут...\n",
       "1    зап сравнен обычн DOVE никак он парфюмирова то...\n",
       "2                                 кабел подошел работа\n",
       "3    восторг очен приятн аромат держ долг очен удоб...\n",
       "4                      визуальн не пробова куп подарок\n",
       "dtype: object"
      ]
     },
     "execution_count": 28,
     "metadata": {},
     "output_type": "execute_result"
    }
   ],
   "source": [
    "for i in range(0, len(stemmed)):\n",
    "    stemmed[i] = \" \".join(stemmed[i])"
   ]
  },
  {
   "cell_type": "code",
   "execution_count": 39,
   "id": "368a39a6",
   "metadata": {},
   "outputs": [],
   "source": [
    "words_p = []\n",
    "words_n = []\n",
    "for i in df.loc[df['h_score'] == 1].index:\n",
    "    words_p += Counter(stemmed[i].split())\n",
    "for i in df.loc[df['h_score'] == 0].index:\n",
    "    words_n += Counter(stemmed[i].split())"
   ]
  },
  {
   "cell_type": "code",
   "execution_count": 40,
   "id": "bd3489c1",
   "metadata": {},
   "outputs": [
    {
     "data": {
      "text/plain": [
       "[('очен', 471),\n",
       " ('отличн', 445),\n",
       " ('хорош', 444),\n",
       " ('спасиб', 314),\n",
       " ('все', 305),\n",
       " ('пришл', 248),\n",
       " ('понрав', 233),\n",
       " ('качеств', 227),\n",
       " ('размер', 202),\n",
       " ('рекоменд', 180)]"
      ]
     },
     "execution_count": 40,
     "metadata": {},
     "output_type": "execute_result"
    }
   ],
   "source": [
    "Counter(words_p).most_common(10)"
   ]
  },
  {
   "cell_type": "code",
   "execution_count": 41,
   "id": "29caabbb",
   "metadata": {},
   "outputs": [
    {
     "data": {
      "text/plain": [
       "[('пришл', 102),\n",
       " ('товар', 95),\n",
       " ('пришел', 82),\n",
       " ('возврат', 71),\n",
       " ('не', 63),\n",
       " ('очен', 55),\n",
       " ('качеств', 50),\n",
       " ('размер', 49),\n",
       " ('эт', 44),\n",
       " ('так', 42)]"
      ]
     },
     "execution_count": 41,
     "metadata": {},
     "output_type": "execute_result"
    }
   ],
   "source": [
    "Counter(words_n).most_common(10)"
   ]
  },
  {
   "cell_type": "code",
   "execution_count": 60,
   "id": "e17ba6a1",
   "metadata": {},
   "outputs": [],
   "source": [
    "trigram_p = ngrams(words_p, 3)\n",
    "bigram_p = ngrams(words_p, 2)\n",
    "trigram_n = ngrams(words_n, 3)\n",
    "bigram_n = ngrams(words_n, 2)"
   ]
  },
  {
   "cell_type": "code",
   "execution_count": 61,
   "id": "f584fb2a",
   "metadata": {},
   "outputs": [
    {
     "data": {
      "text/plain": [
       "[(('пришл', 'все', 'цел'), 8),\n",
       " (('за', 'так', 'цен'), 8),\n",
       " (('спасиб', 'быстр', 'доставк'), 7),\n",
       " (('все', 'отличн', 'упакова'), 6),\n",
       " (('к', 'качеств', 'претенз'), 6),\n",
       " (('мне', 'очен', 'понрав'), 6),\n",
       " (('к', 'покупк', 'рекоменд'), 6),\n",
       " (('не', 'подошел', 'размер'), 5),\n",
       " (('пришл', 'очен', 'быстр'), 5),\n",
       " (('все', 'соответств', 'описан'), 5)]"
      ]
     },
     "execution_count": 61,
     "metadata": {},
     "output_type": "execute_result"
    }
   ],
   "source": [
    "Counter(trigram_p).most_common(10)"
   ]
  },
  {
   "cell_type": "code",
   "execution_count": 62,
   "id": "ea2f0ca7",
   "metadata": {},
   "outputs": [
    {
     "data": {
      "text/plain": [
       "[(('очен', 'понрав'), 69),\n",
       " (('все', 'отличн'), 55),\n",
       " (('очен', 'хорош'), 41),\n",
       " (('пришл', 'цел'), 41),\n",
       " (('качеств', 'хорош'), 37),\n",
       " (('хорош', 'качеств'), 36),\n",
       " (('спасиб', 'больш'), 35),\n",
       " (('спасиб', 'продавц'), 35),\n",
       " (('все', 'цел'), 33),\n",
       " (('соответств', 'описан'), 30)]"
      ]
     },
     "execution_count": 62,
     "metadata": {},
     "output_type": "execute_result"
    }
   ],
   "source": [
    "Counter(bigram_p).most_common(10)"
   ]
  },
  {
   "cell_type": "code",
   "execution_count": 58,
   "id": "adad0c45",
   "metadata": {},
   "outputs": [
    {
     "data": {
      "text/plain": [
       "[(('100', 'рубл', 'возврат'), 4),\n",
       " (('списа', '100', 'рубл'), 3),\n",
       " (('пришл', 'та', 'модел'), 3),\n",
       " (('не', 'подошел', 'размер'), 3),\n",
       " (('не', 'соответств', 'заявлен'), 3),\n",
       " (('снял', '100', 'рубл'), 3),\n",
       " (('присла', 'друг', 'модел'), 2),\n",
       " (('заказыва', '2', 'размер'), 2),\n",
       " (('что', 'эт', 'так'), 2),\n",
       " (('нужн', 'не', 'оригина'), 2)]"
      ]
     },
     "execution_count": 58,
     "metadata": {},
     "output_type": "execute_result"
    }
   ],
   "source": [
    "Counter(trigram_n).most_common(10)"
   ]
  },
  {
   "cell_type": "code",
   "execution_count": 63,
   "id": "a0ecc961",
   "metadata": {},
   "outputs": [
    {
     "data": {
      "text/plain": [
       "[(('товар', 'пришел'), 19),\n",
       " (('пункт', 'выдач'), 16),\n",
       " (('100', 'рубл'), 13),\n",
       " (('ещ', 'возврат'), 6),\n",
       " (('пришел', 'брак'), 6),\n",
       " (('не', 'рекоменд'), 6),\n",
       " (('пришел', 'товар'), 6),\n",
       " (('плох', 'качеств'), 6),\n",
       " (('не', 'соответств'), 6),\n",
       " (('хорош', 'качеств'), 5)]"
      ]
     },
     "execution_count": 63,
     "metadata": {},
     "output_type": "execute_result"
    }
   ],
   "source": [
    "Counter(bigram_n).most_common(10)"
   ]
  },
  {
   "cell_type": "code",
   "execution_count": 31,
   "id": "3789e0ed",
   "metadata": {},
   "outputs": [],
   "source": [
    "DTC = DecisionTreeClassifier()"
   ]
  },
  {
   "cell_type": "code",
   "execution_count": 32,
   "id": "67ccffc5",
   "metadata": {},
   "outputs": [],
   "source": [
    "vec = TfidfVectorizer()"
   ]
  },
  {
   "cell_type": "code",
   "execution_count": 33,
   "id": "4d102a9b",
   "metadata": {},
   "outputs": [],
   "source": [
    "X = vec.fit_transform(stemmed)\n",
    "y = df.label"
   ]
  },
  {
   "cell_type": "code",
   "execution_count": 34,
   "id": "a15089dd",
   "metadata": {},
   "outputs": [],
   "source": [
    "crval = cross_val_score(DTC, X, y, cv = KFold(n_splits=5), scoring='precision')"
   ]
  },
  {
   "cell_type": "code",
   "execution_count": 35,
   "id": "ca6d9043",
   "metadata": {},
   "outputs": [
    {
     "data": {
      "text/plain": [
       "array([0.30534351, 0.35      , 0.296     , 0.3359375 , 0.32258065])"
      ]
     },
     "execution_count": 35,
     "metadata": {},
     "output_type": "execute_result"
    }
   ],
   "source": [
    "crval"
   ]
  },
  {
   "cell_type": "code",
   "execution_count": null,
   "id": "040b03dc",
   "metadata": {},
   "outputs": [],
   "source": []
  }
 ],
 "metadata": {
  "kernelspec": {
   "display_name": "Python 3 (ipykernel)",
   "language": "python",
   "name": "python3"
  },
  "language_info": {
   "codemirror_mode": {
    "name": "ipython",
    "version": 3
   },
   "file_extension": ".py",
   "mimetype": "text/x-python",
   "name": "python",
   "nbconvert_exporter": "python",
   "pygments_lexer": "ipython3",
   "version": "3.10.9"
  }
 },
 "nbformat": 4,
 "nbformat_minor": 5
}
