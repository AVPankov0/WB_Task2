{
 "cells": [
  {
   "cell_type": "code",
   "execution_count": 1,
   "id": "38d9a06f",
   "metadata": {},
   "outputs": [],
   "source": [
    "import numpy as np\n",
    "import pandas as pd\n",
    "import seaborn as sns\n",
    "import nltk\n",
    "from nltk.corpus import stopwords\n",
    "from nltk.stem.snowball import SnowballStemmer\n",
    "from string import punctuation\n",
    "from sklearn.feature_extraction.text import TfidfVectorizer\n",
    "from sklearn.tree import DecisionTreeClassifier\n",
    "from sklearn.model_selection import cross_val_score, KFold"
   ]
  },
  {
   "cell_type": "code",
   "execution_count": 2,
   "id": "27aae821",
   "metadata": {},
   "outputs": [],
   "source": [
    "swords = stopwords.words('russian')"
   ]
  },
  {
   "cell_type": "code",
   "execution_count": 3,
   "id": "22d8ce31",
   "metadata": {},
   "outputs": [],
   "source": [
    "stem = SnowballStemmer('russian')"
   ]
  },
  {
   "cell_type": "code",
   "execution_count": 4,
   "id": "c759e6f1",
   "metadata": {},
   "outputs": [],
   "source": [
    "df = pd.read_csv('./wb_school_task_2.csv.gzip', compression='gzip')"
   ]
  },
  {
   "cell_type": "code",
   "execution_count": 17,
   "id": "d072c896",
   "metadata": {},
   "outputs": [
    {
     "data": {
      "text/html": [
       "<div>\n",
       "<style scoped>\n",
       "    .dataframe tbody tr th:only-of-type {\n",
       "        vertical-align: middle;\n",
       "    }\n",
       "\n",
       "    .dataframe tbody tr th {\n",
       "        vertical-align: top;\n",
       "    }\n",
       "\n",
       "    .dataframe thead th {\n",
       "        text-align: right;\n",
       "    }\n",
       "</style>\n",
       "<table border=\"1\" class=\"dataframe\">\n",
       "  <thead>\n",
       "    <tr style=\"text-align: right;\">\n",
       "      <th></th>\n",
       "      <th>id1</th>\n",
       "      <th>id2</th>\n",
       "      <th>id3</th>\n",
       "      <th>text</th>\n",
       "      <th>f1</th>\n",
       "      <th>f2</th>\n",
       "      <th>f3</th>\n",
       "      <th>f4</th>\n",
       "      <th>f5</th>\n",
       "      <th>f6</th>\n",
       "      <th>f7</th>\n",
       "      <th>f8</th>\n",
       "      <th>label</th>\n",
       "    </tr>\n",
       "  </thead>\n",
       "  <tbody>\n",
       "    <tr>\n",
       "      <th>0</th>\n",
       "      <td>7596126584852021591</td>\n",
       "      <td>173777575861152844</td>\n",
       "      <td>18254136755182295358</td>\n",
       "      <td>Хотела купить на замену старых,по итогу эти  у...</td>\n",
       "      <td>1</td>\n",
       "      <td>1</td>\n",
       "      <td>1.000000</td>\n",
       "      <td>11</td>\n",
       "      <td>13</td>\n",
       "      <td>4.272727</td>\n",
       "      <td>18</td>\n",
       "      <td>36</td>\n",
       "      <td>0</td>\n",
       "    </tr>\n",
       "    <tr>\n",
       "      <th>1</th>\n",
       "      <td>5327406586753254371</td>\n",
       "      <td>14366783259208998381</td>\n",
       "      <td>2324030737335224220</td>\n",
       "      <td>Запах по сравнению с обычным DOVE никакой. Оно...</td>\n",
       "      <td>10</td>\n",
       "      <td>6</td>\n",
       "      <td>2.700000</td>\n",
       "      <td>46</td>\n",
       "      <td>4</td>\n",
       "      <td>4.434783</td>\n",
       "      <td>90</td>\n",
       "      <td>109</td>\n",
       "      <td>1</td>\n",
       "    </tr>\n",
       "    <tr>\n",
       "      <th>2</th>\n",
       "      <td>2636757786779776109</td>\n",
       "      <td>16985421652518589249</td>\n",
       "      <td>4904562693381133981</td>\n",
       "      <td>Кабель подошёл, хорошо работает.</td>\n",
       "      <td>4</td>\n",
       "      <td>4</td>\n",
       "      <td>4.000000</td>\n",
       "      <td>14</td>\n",
       "      <td>0</td>\n",
       "      <td>4.500000</td>\n",
       "      <td>4</td>\n",
       "      <td>6</td>\n",
       "      <td>0</td>\n",
       "    </tr>\n",
       "    <tr>\n",
       "      <th>3</th>\n",
       "      <td>15432976385014516263</td>\n",
       "      <td>2629180387521298831</td>\n",
       "      <td>13541353053200353836</td>\n",
       "      <td>Восторг! Очень приятный аромат, держится долго...</td>\n",
       "      <td>6</td>\n",
       "      <td>6</td>\n",
       "      <td>5.000000</td>\n",
       "      <td>374</td>\n",
       "      <td>30</td>\n",
       "      <td>4.772727</td>\n",
       "      <td>14</td>\n",
       "      <td>15</td>\n",
       "      <td>1</td>\n",
       "    </tr>\n",
       "    <tr>\n",
       "      <th>4</th>\n",
       "      <td>11933982800034911890</td>\n",
       "      <td>14531191561111600318</td>\n",
       "      <td>9121890650636487522</td>\n",
       "      <td>Визуально все хорошо. Не пробовали. Купили в п...</td>\n",
       "      <td>19</td>\n",
       "      <td>18</td>\n",
       "      <td>5.000000</td>\n",
       "      <td>6</td>\n",
       "      <td>4</td>\n",
       "      <td>5.000000</td>\n",
       "      <td>26</td>\n",
       "      <td>33</td>\n",
       "      <td>0</td>\n",
       "    </tr>\n",
       "    <tr>\n",
       "      <th>...</th>\n",
       "      <td>...</td>\n",
       "      <td>...</td>\n",
       "      <td>...</td>\n",
       "      <td>...</td>\n",
       "      <td>...</td>\n",
       "      <td>...</td>\n",
       "      <td>...</td>\n",
       "      <td>...</td>\n",
       "      <td>...</td>\n",
       "      <td>...</td>\n",
       "      <td>...</td>\n",
       "      <td>...</td>\n",
       "      <td>...</td>\n",
       "    </tr>\n",
       "    <tr>\n",
       "      <th>3118</th>\n",
       "      <td>764513678578182418</td>\n",
       "      <td>15635360211325277203</td>\n",
       "      <td>6836784353719029392</td>\n",
       "      <td>Стекло не плохое,но есть один минус на техно с...</td>\n",
       "      <td>2</td>\n",
       "      <td>2</td>\n",
       "      <td>3.000000</td>\n",
       "      <td>19</td>\n",
       "      <td>1</td>\n",
       "      <td>4.263158</td>\n",
       "      <td>9</td>\n",
       "      <td>9</td>\n",
       "      <td>0</td>\n",
       "    </tr>\n",
       "    <tr>\n",
       "      <th>3119</th>\n",
       "      <td>6838893897482150395</td>\n",
       "      <td>13016265854619171030</td>\n",
       "      <td>12090430373311552618</td>\n",
       "      <td>Всё пришло запаковано, ничего не сломано. Лучш...</td>\n",
       "      <td>8</td>\n",
       "      <td>8</td>\n",
       "      <td>4.375000</td>\n",
       "      <td>131</td>\n",
       "      <td>83</td>\n",
       "      <td>4.183206</td>\n",
       "      <td>18</td>\n",
       "      <td>18</td>\n",
       "      <td>0</td>\n",
       "    </tr>\n",
       "    <tr>\n",
       "      <th>3120</th>\n",
       "      <td>3080528623596565085</td>\n",
       "      <td>17787644417937804433</td>\n",
       "      <td>18003133089489520237</td>\n",
       "      <td>Мне нравятся 👍🏻 я очень аллергичная, посоветов...</td>\n",
       "      <td>13</td>\n",
       "      <td>12</td>\n",
       "      <td>5.000000</td>\n",
       "      <td>145</td>\n",
       "      <td>2</td>\n",
       "      <td>4.944828</td>\n",
       "      <td>12</td>\n",
       "      <td>14</td>\n",
       "      <td>0</td>\n",
       "    </tr>\n",
       "    <tr>\n",
       "      <th>3121</th>\n",
       "      <td>13059704988549832630</td>\n",
       "      <td>997055248102065549</td>\n",
       "      <td>12214993272083833542</td>\n",
       "      <td>Спасибо,  целая пришла. Хорошо упаковано</td>\n",
       "      <td>3</td>\n",
       "      <td>3</td>\n",
       "      <td>5.000000</td>\n",
       "      <td>205</td>\n",
       "      <td>19</td>\n",
       "      <td>4.648780</td>\n",
       "      <td>103</td>\n",
       "      <td>155</td>\n",
       "      <td>0</td>\n",
       "    </tr>\n",
       "    <tr>\n",
       "      <th>3122</th>\n",
       "      <td>11429810966213467017</td>\n",
       "      <td>1380541878847684914</td>\n",
       "      <td>11716132433518331197</td>\n",
       "      <td>Бур нормальный, но выбрал другую модель</td>\n",
       "      <td>42</td>\n",
       "      <td>29</td>\n",
       "      <td>4.809524</td>\n",
       "      <td>61</td>\n",
       "      <td>17</td>\n",
       "      <td>4.655738</td>\n",
       "      <td>54</td>\n",
       "      <td>101</td>\n",
       "      <td>0</td>\n",
       "    </tr>\n",
       "  </tbody>\n",
       "</table>\n",
       "<p>3123 rows × 13 columns</p>\n",
       "</div>"
      ],
      "text/plain": [
       "                       id1                   id2                   id3  \\\n",
       "0      7596126584852021591    173777575861152844  18254136755182295358   \n",
       "1      5327406586753254371  14366783259208998381   2324030737335224220   \n",
       "2      2636757786779776109  16985421652518589249   4904562693381133981   \n",
       "3     15432976385014516263   2629180387521298831  13541353053200353836   \n",
       "4     11933982800034911890  14531191561111600318   9121890650636487522   \n",
       "...                    ...                   ...                   ...   \n",
       "3118    764513678578182418  15635360211325277203   6836784353719029392   \n",
       "3119   6838893897482150395  13016265854619171030  12090430373311552618   \n",
       "3120   3080528623596565085  17787644417937804433  18003133089489520237   \n",
       "3121  13059704988549832630    997055248102065549  12214993272083833542   \n",
       "3122  11429810966213467017   1380541878847684914  11716132433518331197   \n",
       "\n",
       "                                                   text  f1  f2        f3  \\\n",
       "0     Хотела купить на замену старых,по итогу эти  у...   1   1  1.000000   \n",
       "1     Запах по сравнению с обычным DOVE никакой. Оно...  10   6  2.700000   \n",
       "2                      Кабель подошёл, хорошо работает.   4   4  4.000000   \n",
       "3     Восторг! Очень приятный аромат, держится долго...   6   6  5.000000   \n",
       "4     Визуально все хорошо. Не пробовали. Купили в п...  19  18  5.000000   \n",
       "...                                                 ...  ..  ..       ...   \n",
       "3118  Стекло не плохое,но есть один минус на техно с...   2   2  3.000000   \n",
       "3119  Всё пришло запаковано, ничего не сломано. Лучш...   8   8  4.375000   \n",
       "3120  Мне нравятся 👍🏻 я очень аллергичная, посоветов...  13  12  5.000000   \n",
       "3121           Спасибо,  целая пришла. Хорошо упаковано   3   3  5.000000   \n",
       "3122            Бур нормальный, но выбрал другую модель  42  29  4.809524   \n",
       "\n",
       "       f4  f5        f6   f7   f8  label  \n",
       "0      11  13  4.272727   18   36      0  \n",
       "1      46   4  4.434783   90  109      1  \n",
       "2      14   0  4.500000    4    6      0  \n",
       "3     374  30  4.772727   14   15      1  \n",
       "4       6   4  5.000000   26   33      0  \n",
       "...   ...  ..       ...  ...  ...    ...  \n",
       "3118   19   1  4.263158    9    9      0  \n",
       "3119  131  83  4.183206   18   18      0  \n",
       "3120  145   2  4.944828   12   14      0  \n",
       "3121  205  19  4.648780  103  155      0  \n",
       "3122   61  17  4.655738   54  101      0  \n",
       "\n",
       "[3123 rows x 13 columns]"
      ]
     },
     "execution_count": 17,
     "metadata": {},
     "output_type": "execute_result"
    }
   ],
   "source": [
    "df"
   ]
  },
  {
   "cell_type": "code",
   "execution_count": 23,
   "id": "73f6006b",
   "metadata": {},
   "outputs": [
    {
     "data": {
      "text/plain": [
       "<seaborn.axisgrid.FacetGrid at 0x25e44888640>"
      ]
     },
     "execution_count": 23,
     "metadata": {},
     "output_type": "execute_result"
    },
    {
     "data": {
      "image/png": "[encoded data removed]",
      "text/plain": [
       "<Figure size 500x500 with 1 Axes>"
      ]
     },
     "metadata": {},
     "output_type": "display_data"
    }
   ],
   "source": [
    "sns.displot(df, x='label')"
   ]
  },
  {
   "cell_type": "code",
   "execution_count": 26,
   "id": "67e3d950",
   "metadata": {},
   "outputs": [
    {
     "data": {
      "text/plain": [
       "<seaborn.axisgrid.FacetGrid at 0x25e44f2b730>"
      ]
     },
     "execution_count": 26,
     "metadata": {},
     "output_type": "execute_result"
    },
    {
     "data": {
      "image/png": "[encoded data removed]",
      "text/plain": [
       "<Figure size 500x500 with 1 Axes>"
      ]
     },
     "metadata": {},
     "output_type": "display_data"
    }
   ],
   "source": [
    "sns.displot(df, x='f3')"
   ]
  },
  {
   "cell_type": "code",
   "execution_count": 73,
   "id": "10110cf4",
   "metadata": {},
   "outputs": [
    {
     "data": {
      "text/plain": [
       "Int64Index([  46,   73,  368,  413,  564,  596,  612,  629,  630,  631,\n",
       "            ...\n",
       "            2992, 2993, 3000, 3022, 3046, 3049, 3054, 3083, 3085, 3101],\n",
       "           dtype='int64', length=117)"
      ]
     },
     "execution_count": 73,
     "metadata": {},
     "output_type": "execute_result"
    }
   ],
   "source": [
    "df[df.duplicated(subset = ['id2'])].index"
   ]
  },
  {
   "cell_type": "code",
   "execution_count": 202,
   "id": "7a6b42c3",
   "metadata": {},
   "outputs": [
    {
     "data": {
      "text/html": [
       "<div>\n",
       "<style scoped>\n",
       "    .dataframe tbody tr th:only-of-type {\n",
       "        vertical-align: middle;\n",
       "    }\n",
       "\n",
       "    .dataframe tbody tr th {\n",
       "        vertical-align: top;\n",
       "    }\n",
       "\n",
       "    .dataframe thead th {\n",
       "        text-align: right;\n",
       "    }\n",
       "</style>\n",
       "<table border=\"1\" class=\"dataframe\">\n",
       "  <thead>\n",
       "    <tr style=\"text-align: right;\">\n",
       "      <th></th>\n",
       "      <th>id1</th>\n",
       "      <th>id2</th>\n",
       "      <th>id3</th>\n",
       "      <th>text</th>\n",
       "      <th>f1</th>\n",
       "      <th>f2</th>\n",
       "      <th>f3</th>\n",
       "      <th>f4</th>\n",
       "      <th>f5</th>\n",
       "      <th>f6</th>\n",
       "      <th>f7</th>\n",
       "      <th>f8</th>\n",
       "      <th>label</th>\n",
       "    </tr>\n",
       "  </thead>\n",
       "  <tbody>\n",
       "    <tr>\n",
       "      <th>756</th>\n",
       "      <td>1076575605779048698</td>\n",
       "      <td>3345344880097563888</td>\n",
       "      <td>14918306419713499452</td>\n",
       "      <td>Заказала 02 оттенок, фотографии приложу) Значи...</td>\n",
       "      <td>8</td>\n",
       "      <td>8</td>\n",
       "      <td>4.750000</td>\n",
       "      <td>20419</td>\n",
       "      <td>4690</td>\n",
       "      <td>4.67878</td>\n",
       "      <td>74</td>\n",
       "      <td>108</td>\n",
       "      <td>0</td>\n",
       "    </tr>\n",
       "    <tr>\n",
       "      <th>757</th>\n",
       "      <td>13687420362999564220</td>\n",
       "      <td>3345344880097563888</td>\n",
       "      <td>14918306419713499452</td>\n",
       "      <td>консилер хороший советую!</td>\n",
       "      <td>6</td>\n",
       "      <td>6</td>\n",
       "      <td>3.333333</td>\n",
       "      <td>20419</td>\n",
       "      <td>4690</td>\n",
       "      <td>4.67878</td>\n",
       "      <td>6</td>\n",
       "      <td>6</td>\n",
       "      <td>0</td>\n",
       "    </tr>\n",
       "    <tr>\n",
       "      <th>1723</th>\n",
       "      <td>13823627268069149155</td>\n",
       "      <td>3345344880097563888</td>\n",
       "      <td>14918306419713499452</td>\n",
       "      <td>цвет не подошёл</td>\n",
       "      <td>1</td>\n",
       "      <td>1</td>\n",
       "      <td>4.000000</td>\n",
       "      <td>20419</td>\n",
       "      <td>4690</td>\n",
       "      <td>4.67878</td>\n",
       "      <td>12</td>\n",
       "      <td>17</td>\n",
       "      <td>0</td>\n",
       "    </tr>\n",
       "    <tr>\n",
       "      <th>3085</th>\n",
       "      <td>17564680862523094259</td>\n",
       "      <td>3345344880097563888</td>\n",
       "      <td>14918306419713499452</td>\n",
       "      <td>огонь!!!!!</td>\n",
       "      <td>7</td>\n",
       "      <td>7</td>\n",
       "      <td>4.857143</td>\n",
       "      <td>20419</td>\n",
       "      <td>4690</td>\n",
       "      <td>4.67878</td>\n",
       "      <td>24</td>\n",
       "      <td>24</td>\n",
       "      <td>0</td>\n",
       "    </tr>\n",
       "  </tbody>\n",
       "</table>\n",
       "</div>"
      ],
      "text/plain": [
       "                       id1                  id2                   id3  \\\n",
       "756    1076575605779048698  3345344880097563888  14918306419713499452   \n",
       "757   13687420362999564220  3345344880097563888  14918306419713499452   \n",
       "1723  13823627268069149155  3345344880097563888  14918306419713499452   \n",
       "3085  17564680862523094259  3345344880097563888  14918306419713499452   \n",
       "\n",
       "                                                   text  f1  f2        f3  \\\n",
       "756   Заказала 02 оттенок, фотографии приложу) Значи...   8   8  4.750000   \n",
       "757                           консилер хороший советую!   6   6  3.333333   \n",
       "1723                                    цвет не подошёл   1   1  4.000000   \n",
       "3085                                         огонь!!!!!   7   7  4.857143   \n",
       "\n",
       "         f4    f5       f6  f7   f8  label  \n",
       "756   20419  4690  4.67878  74  108      0  \n",
       "757   20419  4690  4.67878   6    6      0  \n",
       "1723  20419  4690  4.67878  12   17      0  \n",
       "3085  20419  4690  4.67878  24   24      0  "
      ]
     },
     "execution_count": 202,
     "metadata": {},
     "output_type": "execute_result"
    }
   ],
   "source": [
    "df.loc[df['id2'] == df.id2[3085]].head()"
   ]
  },
  {
   "cell_type": "code",
   "execution_count": 33,
   "id": "713ebe45",
   "metadata": {},
   "outputs": [
    {
     "data": {
      "text/plain": [
       "Int64Index([  26,   43,   46,   47,   48,   49,   50,   54,   62,   68,\n",
       "            ...\n",
       "            3110, 3111, 3112, 3113, 3116, 3117, 3118, 3119, 3120, 3121],\n",
       "           dtype='int64', length=2145)"
      ]
     },
     "execution_count": 33,
     "metadata": {},
     "output_type": "execute_result"
    }
   ],
   "source": [
    "df[df.duplicated(subset = ['id3'])].index"
   ]
  },
  {
   "cell_type": "code",
   "execution_count": 31,
   "id": "49deda0e",
   "metadata": {},
   "outputs": [
    {
     "data": {
      "text/html": [
       "<div>\n",
       "<style scoped>\n",
       "    .dataframe tbody tr th:only-of-type {\n",
       "        vertical-align: middle;\n",
       "    }\n",
       "\n",
       "    .dataframe tbody tr th {\n",
       "        vertical-align: top;\n",
       "    }\n",
       "\n",
       "    .dataframe thead th {\n",
       "        text-align: right;\n",
       "    }\n",
       "</style>\n",
       "<table border=\"1\" class=\"dataframe\">\n",
       "  <thead>\n",
       "    <tr style=\"text-align: right;\">\n",
       "      <th></th>\n",
       "      <th>id1</th>\n",
       "      <th>id2</th>\n",
       "      <th>id3</th>\n",
       "      <th>text</th>\n",
       "      <th>f1</th>\n",
       "      <th>f2</th>\n",
       "      <th>f3</th>\n",
       "      <th>f4</th>\n",
       "      <th>f5</th>\n",
       "      <th>f6</th>\n",
       "      <th>f7</th>\n",
       "      <th>f8</th>\n",
       "      <th>label</th>\n",
       "    </tr>\n",
       "  </thead>\n",
       "  <tbody>\n",
       "  </tbody>\n",
       "</table>\n",
       "</div>"
      ],
      "text/plain": [
       "Empty DataFrame\n",
       "Columns: [id1, id2, id3, text, f1, f2, f3, f4, f5, f6, f7, f8, label]\n",
       "Index: []"
      ]
     },
     "execution_count": 31,
     "metadata": {},
     "output_type": "execute_result"
    }
   ],
   "source": [
    "df.loc[df['id3'] == df.id3[26]].head()"
   ]
  },
  {
   "cell_type": "code",
   "execution_count": 34,
   "id": "426f65ab",
   "metadata": {
    "scrolled": false
   },
   "outputs": [
    {
     "data": {
      "text/plain": [
       "Int64Index([  46,   70,   75,   79,  145,  160,  184,  199,  221,  230,  233,\n",
       "             239,  251,  268,  269,  278,  283,  327,  343,  349,  402,  433,\n",
       "             438,  448,  542,  818,  927,  985, 1062, 1157, 1514, 1529, 1533,\n",
       "            1534, 1572, 1739, 1744, 1781, 1822, 1836, 1939, 1940, 1964, 2007,\n",
       "            2085, 2150, 2185, 2244, 2245, 2247, 2347, 2399, 2450, 2489, 2540,\n",
       "            2554, 2556, 2557, 2561, 2611, 2614, 2633, 2652, 2732, 2746, 2755,\n",
       "            2770, 2790, 2831, 2837, 2854, 3014, 3020, 3090],\n",
       "           dtype='int64')"
      ]
     },
     "execution_count": 34,
     "metadata": {},
     "output_type": "execute_result"
    }
   ],
   "source": [
    "df[df.duplicated(subset = ['id1'])].index"
   ]
  },
  {
   "cell_type": "code",
   "execution_count": 38,
   "id": "c62c5466",
   "metadata": {
    "scrolled": true
   },
   "outputs": [
    {
     "data": {
      "text/html": [
       "<div>\n",
       "<style scoped>\n",
       "    .dataframe tbody tr th:only-of-type {\n",
       "        vertical-align: middle;\n",
       "    }\n",
       "\n",
       "    .dataframe tbody tr th {\n",
       "        vertical-align: top;\n",
       "    }\n",
       "\n",
       "    .dataframe thead th {\n",
       "        text-align: right;\n",
       "    }\n",
       "</style>\n",
       "<table border=\"1\" class=\"dataframe\">\n",
       "  <thead>\n",
       "    <tr style=\"text-align: right;\">\n",
       "      <th></th>\n",
       "      <th>id1</th>\n",
       "      <th>id2</th>\n",
       "      <th>id3</th>\n",
       "      <th>text</th>\n",
       "      <th>f1</th>\n",
       "      <th>f2</th>\n",
       "      <th>f3</th>\n",
       "      <th>f4</th>\n",
       "      <th>f5</th>\n",
       "      <th>f6</th>\n",
       "      <th>f7</th>\n",
       "      <th>f8</th>\n",
       "      <th>label</th>\n",
       "    </tr>\n",
       "  </thead>\n",
       "  <tbody>\n",
       "    <tr>\n",
       "      <th>41</th>\n",
       "      <td>5002269436549863957</td>\n",
       "      <td>8537018422111626685</td>\n",
       "      <td>2452047199270097551</td>\n",
       "      <td>Сзади шнуровка , внутри мех и внешне выглядит ...</td>\n",
       "      <td>40</td>\n",
       "      <td>2</td>\n",
       "      <td>5.0</td>\n",
       "      <td>4</td>\n",
       "      <td>6</td>\n",
       "      <td>4.500000</td>\n",
       "      <td>13</td>\n",
       "      <td>43</td>\n",
       "      <td>1</td>\n",
       "    </tr>\n",
       "    <tr>\n",
       "      <th>75</th>\n",
       "      <td>5002269436549863957</td>\n",
       "      <td>13669343433924914553</td>\n",
       "      <td>2452047199270097551</td>\n",
       "      <td>Мне подошли размер в размер. Бежевые ,смотрятс...</td>\n",
       "      <td>40</td>\n",
       "      <td>2</td>\n",
       "      <td>5.0</td>\n",
       "      <td>6</td>\n",
       "      <td>9</td>\n",
       "      <td>3.666667</td>\n",
       "      <td>13</td>\n",
       "      <td>43</td>\n",
       "      <td>1</td>\n",
       "    </tr>\n",
       "    <tr>\n",
       "      <th>79</th>\n",
       "      <td>5002269436549863957</td>\n",
       "      <td>11253309069675330304</td>\n",
       "      <td>2452047199270097551</td>\n",
       "      <td>Мне подошли размер в размер. Легко надела . Уд...</td>\n",
       "      <td>40</td>\n",
       "      <td>2</td>\n",
       "      <td>5.0</td>\n",
       "      <td>8</td>\n",
       "      <td>9</td>\n",
       "      <td>4.250000</td>\n",
       "      <td>13</td>\n",
       "      <td>43</td>\n",
       "      <td>1</td>\n",
       "    </tr>\n",
       "    <tr>\n",
       "      <th>145</th>\n",
       "      <td>5002269436549863957</td>\n",
       "      <td>12540256564528009708</td>\n",
       "      <td>2452047199270097551</td>\n",
       "      <td>Хороши на холодную слякотную погоду. Смотрятся...</td>\n",
       "      <td>40</td>\n",
       "      <td>2</td>\n",
       "      <td>5.0</td>\n",
       "      <td>4</td>\n",
       "      <td>5</td>\n",
       "      <td>4.250000</td>\n",
       "      <td>13</td>\n",
       "      <td>43</td>\n",
       "      <td>0</td>\n",
       "    </tr>\n",
       "    <tr>\n",
       "      <th>233</th>\n",
       "      <td>5002269436549863957</td>\n",
       "      <td>4707051732118680101</td>\n",
       "      <td>2452047199270097551</td>\n",
       "      <td>Вот такие классные ботиночки из натуральной за...</td>\n",
       "      <td>40</td>\n",
       "      <td>2</td>\n",
       "      <td>5.0</td>\n",
       "      <td>8</td>\n",
       "      <td>6</td>\n",
       "      <td>4.875000</td>\n",
       "      <td>13</td>\n",
       "      <td>43</td>\n",
       "      <td>1</td>\n",
       "    </tr>\n",
       "    <tr>\n",
       "      <th>327</th>\n",
       "      <td>5002269436549863957</td>\n",
       "      <td>17163190472521893796</td>\n",
       "      <td>7715615707067664181</td>\n",
       "      <td>Понравились- качество достойное! Мне подошли н...</td>\n",
       "      <td>40</td>\n",
       "      <td>2</td>\n",
       "      <td>5.0</td>\n",
       "      <td>8</td>\n",
       "      <td>6</td>\n",
       "      <td>4.500000</td>\n",
       "      <td>13</td>\n",
       "      <td>43</td>\n",
       "      <td>1</td>\n",
       "    </tr>\n",
       "    <tr>\n",
       "      <th>438</th>\n",
       "      <td>5002269436549863957</td>\n",
       "      <td>7184918404601862719</td>\n",
       "      <td>11037372112584364428</td>\n",
       "      <td>Размер в размер плотно сели, но натуральная ко...</td>\n",
       "      <td>40</td>\n",
       "      <td>2</td>\n",
       "      <td>5.0</td>\n",
       "      <td>5</td>\n",
       "      <td>6</td>\n",
       "      <td>4.800000</td>\n",
       "      <td>13</td>\n",
       "      <td>43</td>\n",
       "      <td>0</td>\n",
       "    </tr>\n",
       "    <tr>\n",
       "      <th>542</th>\n",
       "      <td>5002269436549863957</td>\n",
       "      <td>2918697925375352353</td>\n",
       "      <td>2452047199270097551</td>\n",
       "      <td>Меня привлекло ,то как сделана подошва, можно ...</td>\n",
       "      <td>40</td>\n",
       "      <td>2</td>\n",
       "      <td>5.0</td>\n",
       "      <td>19</td>\n",
       "      <td>17</td>\n",
       "      <td>4.368421</td>\n",
       "      <td>13</td>\n",
       "      <td>43</td>\n",
       "      <td>0</td>\n",
       "    </tr>\n",
       "    <tr>\n",
       "      <th>818</th>\n",
       "      <td>5002269436549863957</td>\n",
       "      <td>7793738754320529137</td>\n",
       "      <td>815378434367114826</td>\n",
       "      <td>Сумка сыну понравилась! Качество хорошее. Брак...</td>\n",
       "      <td>40</td>\n",
       "      <td>2</td>\n",
       "      <td>5.0</td>\n",
       "      <td>2</td>\n",
       "      <td>2</td>\n",
       "      <td>5.000000</td>\n",
       "      <td>13</td>\n",
       "      <td>43</td>\n",
       "      <td>1</td>\n",
       "    </tr>\n",
       "    <tr>\n",
       "      <th>1062</th>\n",
       "      <td>5002269436549863957</td>\n",
       "      <td>8779533373574352561</td>\n",
       "      <td>2452047199270097551</td>\n",
       "      <td>Хорошие ботинки,удобные,смотрятся брутально. Н...</td>\n",
       "      <td>40</td>\n",
       "      <td>2</td>\n",
       "      <td>5.0</td>\n",
       "      <td>16</td>\n",
       "      <td>14</td>\n",
       "      <td>4.875000</td>\n",
       "      <td>13</td>\n",
       "      <td>43</td>\n",
       "      <td>1</td>\n",
       "    </tr>\n",
       "    <tr>\n",
       "      <th>1572</th>\n",
       "      <td>5002269436549863957</td>\n",
       "      <td>10564289729077721264</td>\n",
       "      <td>11037372112584364428</td>\n",
       "      <td>Мне подошли идеально. Я в восторге от дизайна ...</td>\n",
       "      <td>40</td>\n",
       "      <td>2</td>\n",
       "      <td>5.0</td>\n",
       "      <td>9</td>\n",
       "      <td>8</td>\n",
       "      <td>4.666667</td>\n",
       "      <td>13</td>\n",
       "      <td>43</td>\n",
       "      <td>1</td>\n",
       "    </tr>\n",
       "    <tr>\n",
       "      <th>2347</th>\n",
       "      <td>5002269436549863957</td>\n",
       "      <td>585395059329451331</td>\n",
       "      <td>12486654989081933384</td>\n",
       "      <td>Подошли идеально,на ногах смотрятся  прекрасно...</td>\n",
       "      <td>40</td>\n",
       "      <td>2</td>\n",
       "      <td>5.0</td>\n",
       "      <td>2</td>\n",
       "      <td>3</td>\n",
       "      <td>4.000000</td>\n",
       "      <td>13</td>\n",
       "      <td>43</td>\n",
       "      <td>0</td>\n",
       "    </tr>\n",
       "    <tr>\n",
       "      <th>2554</th>\n",
       "      <td>5002269436549863957</td>\n",
       "      <td>570408289656093317</td>\n",
       "      <td>147494687329013625</td>\n",
       "      <td>Очень качественно сшит. Нет изъянов. Хороший р...</td>\n",
       "      <td>40</td>\n",
       "      <td>2</td>\n",
       "      <td>5.0</td>\n",
       "      <td>9</td>\n",
       "      <td>16</td>\n",
       "      <td>4.555556</td>\n",
       "      <td>13</td>\n",
       "      <td>43</td>\n",
       "      <td>1</td>\n",
       "    </tr>\n",
       "    <tr>\n",
       "      <th>2557</th>\n",
       "      <td>5002269436549863957</td>\n",
       "      <td>6787750779881154682</td>\n",
       "      <td>2452047199270097551</td>\n",
       "      <td>Подошли по размеру и по всем моим желаниям. Вн...</td>\n",
       "      <td>40</td>\n",
       "      <td>2</td>\n",
       "      <td>5.0</td>\n",
       "      <td>15</td>\n",
       "      <td>13</td>\n",
       "      <td>4.733333</td>\n",
       "      <td>13</td>\n",
       "      <td>43</td>\n",
       "      <td>1</td>\n",
       "    </tr>\n",
       "    <tr>\n",
       "      <th>2561</th>\n",
       "      <td>5002269436549863957</td>\n",
       "      <td>17937099785350255220</td>\n",
       "      <td>12486654989081933384</td>\n",
       "      <td>Отлично смотрятся.  Идеально подошли, нога каж...</td>\n",
       "      <td>40</td>\n",
       "      <td>2</td>\n",
       "      <td>5.0</td>\n",
       "      <td>3</td>\n",
       "      <td>2</td>\n",
       "      <td>4.000000</td>\n",
       "      <td>13</td>\n",
       "      <td>43</td>\n",
       "      <td>1</td>\n",
       "    </tr>\n",
       "  </tbody>\n",
       "</table>\n",
       "</div>"
      ],
      "text/plain": [
       "                      id1                   id2                   id3  \\\n",
       "41    5002269436549863957   8537018422111626685   2452047199270097551   \n",
       "75    5002269436549863957  13669343433924914553   2452047199270097551   \n",
       "79    5002269436549863957  11253309069675330304   2452047199270097551   \n",
       "145   5002269436549863957  12540256564528009708   2452047199270097551   \n",
       "233   5002269436549863957   4707051732118680101   2452047199270097551   \n",
       "327   5002269436549863957  17163190472521893796   7715615707067664181   \n",
       "438   5002269436549863957   7184918404601862719  11037372112584364428   \n",
       "542   5002269436549863957   2918697925375352353   2452047199270097551   \n",
       "818   5002269436549863957   7793738754320529137    815378434367114826   \n",
       "1062  5002269436549863957   8779533373574352561   2452047199270097551   \n",
       "1572  5002269436549863957  10564289729077721264  11037372112584364428   \n",
       "2347  5002269436549863957    585395059329451331  12486654989081933384   \n",
       "2554  5002269436549863957    570408289656093317    147494687329013625   \n",
       "2557  5002269436549863957   6787750779881154682   2452047199270097551   \n",
       "2561  5002269436549863957  17937099785350255220  12486654989081933384   \n",
       "\n",
       "                                                   text  f1  f2   f3  f4  f5  \\\n",
       "41    Сзади шнуровка , внутри мех и внешне выглядит ...  40   2  5.0   4   6   \n",
       "75    Мне подошли размер в размер. Бежевые ,смотрятс...  40   2  5.0   6   9   \n",
       "79    Мне подошли размер в размер. Легко надела . Уд...  40   2  5.0   8   9   \n",
       "145   Хороши на холодную слякотную погоду. Смотрятся...  40   2  5.0   4   5   \n",
       "233   Вот такие классные ботиночки из натуральной за...  40   2  5.0   8   6   \n",
       "327   Понравились- качество достойное! Мне подошли н...  40   2  5.0   8   6   \n",
       "438   Размер в размер плотно сели, но натуральная ко...  40   2  5.0   5   6   \n",
       "542   Меня привлекло ,то как сделана подошва, можно ...  40   2  5.0  19  17   \n",
       "818   Сумка сыну понравилась! Качество хорошее. Брак...  40   2  5.0   2   2   \n",
       "1062  Хорошие ботинки,удобные,смотрятся брутально. Н...  40   2  5.0  16  14   \n",
       "1572  Мне подошли идеально. Я в восторге от дизайна ...  40   2  5.0   9   8   \n",
       "2347  Подошли идеально,на ногах смотрятся  прекрасно...  40   2  5.0   2   3   \n",
       "2554  Очень качественно сшит. Нет изъянов. Хороший р...  40   2  5.0   9  16   \n",
       "2557  Подошли по размеру и по всем моим желаниям. Вн...  40   2  5.0  15  13   \n",
       "2561  Отлично смотрятся.  Идеально подошли, нога каж...  40   2  5.0   3   2   \n",
       "\n",
       "            f6  f7  f8  label  \n",
       "41    4.500000  13  43      1  \n",
       "75    3.666667  13  43      1  \n",
       "79    4.250000  13  43      1  \n",
       "145   4.250000  13  43      0  \n",
       "233   4.875000  13  43      1  \n",
       "327   4.500000  13  43      1  \n",
       "438   4.800000  13  43      0  \n",
       "542   4.368421  13  43      0  \n",
       "818   5.000000  13  43      1  \n",
       "1062  4.875000  13  43      1  \n",
       "1572  4.666667  13  43      1  \n",
       "2347  4.000000  13  43      0  \n",
       "2554  4.555556  13  43      1  \n",
       "2557  4.733333  13  43      1  \n",
       "2561  4.000000  13  43      1  "
      ]
     },
     "execution_count": 38,
     "metadata": {},
     "output_type": "execute_result"
    }
   ],
   "source": [
    "df.loc[df['id1'] == df.id1[75]]"
   ]
  },
  {
   "cell_type": "code",
   "execution_count": 35,
   "id": "65c23544",
   "metadata": {},
   "outputs": [],
   "source": [
    "text = df.text"
   ]
  },
  {
   "cell_type": "code",
   "execution_count": 7,
   "id": "73fc4ed5",
   "metadata": {},
   "outputs": [
    {
     "data": {
      "text/plain": [
       "'Хотела купить на замену старых,по итогу эти  ужаснотупые ,не удобные ,рвут кутикулу ,а не режут.'"
      ]
     },
     "execution_count": 7,
     "metadata": {},
     "output_type": "execute_result"
    }
   ],
   "source": [
    "text[0]"
   ]
  },
  {
   "cell_type": "markdown",
   "id": "acfb5624",
   "metadata": {},
   "source": [
    "# Первичная обработка"
   ]
  },
  {
   "cell_type": "code",
   "execution_count": 8,
   "id": "e3dba3c8",
   "metadata": {},
   "outputs": [],
   "source": [
    "tokenized_sw_p = pd.Series([nltk.word_tokenize(text[i], language='russian') for i in range(0, len(text))])"
   ]
  },
  {
   "cell_type": "code",
   "execution_count": 9,
   "id": "3dc32f73",
   "metadata": {},
   "outputs": [
    {
     "data": {
      "text/plain": [
       "0    [Хотела, купить, на, замену, старых, ,, по, ит...\n",
       "1    [Запах, по, сравнению, с, обычным, DOVE, никак...\n",
       "2            [Кабель, подошёл, ,, хорошо, работает, .]\n",
       "3    [Восторг, !, Очень, приятный, аромат, ,, держи...\n",
       "4    [Визуально, все, хорошо, ., Не, пробовали, ., ...\n",
       "dtype: object"
      ]
     },
     "execution_count": 9,
     "metadata": {},
     "output_type": "execute_result"
    }
   ],
   "source": [
    "tokenized_sw_p.head()"
   ]
  },
  {
   "cell_type": "code",
   "execution_count": 10,
   "id": "dda23995",
   "metadata": {},
   "outputs": [],
   "source": [
    "stemmed = []\n",
    "for i in range(0, len(tokenized_sw_p)):\n",
    "    stemmed.append([stem.stem(token) for token in tokenized_sw_p[i] if token not in swords and token not in punctuation])\n",
    "stemmed = pd.Series(stemmed)"
   ]
  },
  {
   "cell_type": "code",
   "execution_count": 11,
   "id": "65c40dab",
   "metadata": {},
   "outputs": [],
   "source": [
    "del tokenized_sw_p\n",
    "del text"
   ]
  },
  {
   "cell_type": "code",
   "execution_count": 12,
   "id": "270ad3f1",
   "metadata": {},
   "outputs": [
    {
     "data": {
      "text/plain": [
       "0    [хотел, куп, замен, стар, итог, ужаснотуп, удо...\n",
       "1    [зап, сравнен, обычн, DOVE, никак, он, парфюми...\n",
       "2                             [кабел, подошел, работа]\n",
       "3    [восторг, очен, приятн, аромат, держ, долг, оч...\n",
       "4                [визуальн, не, пробова, куп, подарок]\n",
       "dtype: object"
      ]
     },
     "execution_count": 12,
     "metadata": {},
     "output_type": "execute_result"
    }
   ],
   "source": [
    "stemmed.head()"
   ]
  },
  {
   "cell_type": "code",
   "execution_count": 13,
   "id": "5c1011d6",
   "metadata": {},
   "outputs": [
    {
     "data": {
      "text/plain": [
       "0    хотел куп замен стар итог ужаснотуп удобн рвут...\n",
       "1    зап сравнен обычн DOVE никак он парфюмирова то...\n",
       "2                                 кабел подошел работа\n",
       "3    восторг очен приятн аромат держ долг очен удоб...\n",
       "4                      визуальн не пробова куп подарок\n",
       "dtype: object"
      ]
     },
     "execution_count": 13,
     "metadata": {},
     "output_type": "execute_result"
    }
   ],
   "source": [
    "for i in range(0, len(stemmed)):\n",
    "    stemmed[i] = \" \".join(stemmed[i])\n",
    "stemmed.head()"
   ]
  },
  {
   "cell_type": "code",
   "execution_count": 14,
   "id": "3789e0ed",
   "metadata": {},
   "outputs": [],
   "source": [
    "DTC = DecisionTreeClassifier()"
   ]
  },
  {
   "cell_type": "code",
   "execution_count": 15,
   "id": "67ccffc5",
   "metadata": {},
   "outputs": [],
   "source": [
    "vec = TfidfVectorizer()"
   ]
  },
  {
   "cell_type": "code",
   "execution_count": 16,
   "id": "4d102a9b",
   "metadata": {},
   "outputs": [],
   "source": [
    "X = vec.fit_transform(stemmed)\n",
    "y = df.label"
   ]
  },
  {
   "cell_type": "code",
   "execution_count": 17,
   "id": "a15089dd",
   "metadata": {},
   "outputs": [],
   "source": [
    "crval = cross_val_score(DTC, X, y, cv = KFold(n_splits=5), scoring='precision')"
   ]
  },
  {
   "cell_type": "code",
   "execution_count": 18,
   "id": "ca6d9043",
   "metadata": {},
   "outputs": [
    {
     "data": {
      "text/plain": [
       "array([0.35820896, 0.31736527, 0.31451613, 0.31060606, 0.28455285])"
      ]
     },
     "execution_count": 18,
     "metadata": {},
     "output_type": "execute_result"
    }
   ],
   "source": [
    "crval"
   ]
  },
  {
   "cell_type": "code",
   "execution_count": null,
   "id": "040b03dc",
   "metadata": {},
   "outputs": [],
   "source": []
  }
 ],
 "metadata": {
  "kernelspec": {
   "display_name": "Python 3 (ipykernel)",
   "language": "python",
   "name": "python3"
  },
  "language_info": {
   "codemirror_mode": {
    "name": "ipython",
    "version": 3
   },
   "file_extension": ".py",
   "mimetype": "text/x-python",
   "name": "python",
   "nbconvert_exporter": "python",
   "pygments_lexer": "ipython3",
   "version": "3.10.9"
  }
 },
 "nbformat": 4,
 "nbformat_minor": 5
}
