{
 "cells": [
  {
   "cell_type": "code",
   "execution_count": 1,
   "id": "38d9a06f",
   "metadata": {},
   "outputs": [],
   "source": [
    "import numpy as np\n",
    "import pandas as pd\n",
    "import seaborn as sns\n",
    "import nltk\n",
    "import pickle\n",
    "from gensim.models import Word2Vec\n",
    "from gensim.models import doc2vec\n",
    "from collections import Counter\n",
    "from nltk.corpus import stopwords\n",
    "from nltk.util import ngrams\n",
    "from nltk.stem.snowball import SnowballStemmer\n",
    "from string import punctuation\n",
    "from sklearn.metrics import confusion_matrix, precision_score, recall_score, f1_score\n",
    "from sklearn.feature_extraction.text import TfidfVectorizer\n",
    "from sklearn.linear_model import LogisticRegression\n",
    "from sklearn.model_selection import cross_val_score, KFold, train_test_split\n",
    "from sklearn.experimental import enable_halving_search_cv\n",
    "from sklearn.model_selection import HalvingGridSearchCV\n",
    "from sklearn.svm import SVC\n",
    "from sklearn.ensemble import GradientBoostingClassifier, RandomForestClassifier\n",
    "from catboost import CatBoostClassifier"
   ]
  },
  {
   "cell_type": "code",
   "execution_count": 2,
   "id": "063c9134",
   "metadata": {},
   "outputs": [],
   "source": [
    "def count(text):\n",
    "    return len(text.split())\n",
    "def delta_score(i, k):\n",
    "    return abs(i - k)\n",
    "def average_word_length(sentence):\n",
    "    words = sentence.split()\n",
    "    return sum(len(word) for word in words) / len(words)\n",
    "def feature_minus(f1, f2):\n",
    "    return f1 - f2\n",
    "def feature_multiply(f1, f2):\n",
    "    return f1 * f2\n",
    "def feature_divide(f1, f2):\n",
    "    if f2==0:\n",
    "        return f1\n",
    "    else:\n",
    "        return f1 / f2\n",
    "def feature_plus(f1, f2):\n",
    "    return f1 + f2"
   ]
  },
  {
   "cell_type": "code",
   "execution_count": 3,
   "id": "27aae821",
   "metadata": {},
   "outputs": [],
   "source": [
    "swords = stopwords.words('russian')"
   ]
  },
  {
   "cell_type": "code",
   "execution_count": 4,
   "id": "22d8ce31",
   "metadata": {},
   "outputs": [],
   "source": [
    "stem = SnowballStemmer('russian')"
   ]
  },
  {
   "cell_type": "code",
   "execution_count": 5,
   "id": "c759e6f1",
   "metadata": {},
   "outputs": [],
   "source": [
    "df = pd.read_csv('../data/wb_school_task_2.csv.gzip', compression='gzip')"
   ]
  },
  {
   "cell_type": "code",
   "execution_count": 6,
   "id": "bba5a654",
   "metadata": {},
   "outputs": [
    {
     "data": {
      "text/html": [
       "<div>\n",
       "<style scoped>\n",
       "    .dataframe tbody tr th:only-of-type {\n",
       "        vertical-align: middle;\n",
       "    }\n",
       "\n",
       "    .dataframe tbody tr th {\n",
       "        vertical-align: top;\n",
       "    }\n",
       "\n",
       "    .dataframe thead th {\n",
       "        text-align: right;\n",
       "    }\n",
       "</style>\n",
       "<table border=\"1\" class=\"dataframe\">\n",
       "  <thead>\n",
       "    <tr style=\"text-align: right;\">\n",
       "      <th></th>\n",
       "      <th>id1</th>\n",
       "      <th>id2</th>\n",
       "      <th>id3</th>\n",
       "      <th>text</th>\n",
       "      <th>f1</th>\n",
       "      <th>f2</th>\n",
       "      <th>f3</th>\n",
       "      <th>f4</th>\n",
       "      <th>f5</th>\n",
       "      <th>f6</th>\n",
       "      <th>f7</th>\n",
       "      <th>f8</th>\n",
       "      <th>label</th>\n",
       "    </tr>\n",
       "  </thead>\n",
       "  <tbody>\n",
       "    <tr>\n",
       "      <th>0</th>\n",
       "      <td>7596126584852021591</td>\n",
       "      <td>173777575861152844</td>\n",
       "      <td>18254136755182295358</td>\n",
       "      <td>Хотела купить на замену старых,по итогу эти  у...</td>\n",
       "      <td>1</td>\n",
       "      <td>1</td>\n",
       "      <td>1.000000</td>\n",
       "      <td>11</td>\n",
       "      <td>13</td>\n",
       "      <td>4.272727</td>\n",
       "      <td>18</td>\n",
       "      <td>36</td>\n",
       "      <td>0</td>\n",
       "    </tr>\n",
       "    <tr>\n",
       "      <th>1</th>\n",
       "      <td>5327406586753254371</td>\n",
       "      <td>14366783259208998381</td>\n",
       "      <td>2324030737335224220</td>\n",
       "      <td>Запах по сравнению с обычным DOVE никакой. Оно...</td>\n",
       "      <td>10</td>\n",
       "      <td>6</td>\n",
       "      <td>2.700000</td>\n",
       "      <td>46</td>\n",
       "      <td>4</td>\n",
       "      <td>4.434783</td>\n",
       "      <td>90</td>\n",
       "      <td>109</td>\n",
       "      <td>1</td>\n",
       "    </tr>\n",
       "    <tr>\n",
       "      <th>2</th>\n",
       "      <td>2636757786779776109</td>\n",
       "      <td>16985421652518589249</td>\n",
       "      <td>4904562693381133981</td>\n",
       "      <td>Кабель подошёл, хорошо работает.</td>\n",
       "      <td>4</td>\n",
       "      <td>4</td>\n",
       "      <td>4.000000</td>\n",
       "      <td>14</td>\n",
       "      <td>0</td>\n",
       "      <td>4.500000</td>\n",
       "      <td>4</td>\n",
       "      <td>6</td>\n",
       "      <td>0</td>\n",
       "    </tr>\n",
       "    <tr>\n",
       "      <th>3</th>\n",
       "      <td>15432976385014516263</td>\n",
       "      <td>2629180387521298831</td>\n",
       "      <td>13541353053200353836</td>\n",
       "      <td>Восторг! Очень приятный аромат, держится долго...</td>\n",
       "      <td>6</td>\n",
       "      <td>6</td>\n",
       "      <td>5.000000</td>\n",
       "      <td>374</td>\n",
       "      <td>30</td>\n",
       "      <td>4.772727</td>\n",
       "      <td>14</td>\n",
       "      <td>15</td>\n",
       "      <td>1</td>\n",
       "    </tr>\n",
       "    <tr>\n",
       "      <th>4</th>\n",
       "      <td>11933982800034911890</td>\n",
       "      <td>14531191561111600318</td>\n",
       "      <td>9121890650636487522</td>\n",
       "      <td>Визуально все хорошо. Не пробовали. Купили в п...</td>\n",
       "      <td>19</td>\n",
       "      <td>18</td>\n",
       "      <td>5.000000</td>\n",
       "      <td>6</td>\n",
       "      <td>4</td>\n",
       "      <td>5.000000</td>\n",
       "      <td>26</td>\n",
       "      <td>33</td>\n",
       "      <td>0</td>\n",
       "    </tr>\n",
       "    <tr>\n",
       "      <th>...</th>\n",
       "      <td>...</td>\n",
       "      <td>...</td>\n",
       "      <td>...</td>\n",
       "      <td>...</td>\n",
       "      <td>...</td>\n",
       "      <td>...</td>\n",
       "      <td>...</td>\n",
       "      <td>...</td>\n",
       "      <td>...</td>\n",
       "      <td>...</td>\n",
       "      <td>...</td>\n",
       "      <td>...</td>\n",
       "      <td>...</td>\n",
       "    </tr>\n",
       "    <tr>\n",
       "      <th>3118</th>\n",
       "      <td>764513678578182418</td>\n",
       "      <td>15635360211325277203</td>\n",
       "      <td>6836784353719029392</td>\n",
       "      <td>Стекло не плохое,но есть один минус на техно с...</td>\n",
       "      <td>2</td>\n",
       "      <td>2</td>\n",
       "      <td>3.000000</td>\n",
       "      <td>19</td>\n",
       "      <td>1</td>\n",
       "      <td>4.263158</td>\n",
       "      <td>9</td>\n",
       "      <td>9</td>\n",
       "      <td>0</td>\n",
       "    </tr>\n",
       "    <tr>\n",
       "      <th>3119</th>\n",
       "      <td>6838893897482150395</td>\n",
       "      <td>13016265854619171030</td>\n",
       "      <td>12090430373311552618</td>\n",
       "      <td>Всё пришло запаковано, ничего не сломано. Лучш...</td>\n",
       "      <td>8</td>\n",
       "      <td>8</td>\n",
       "      <td>4.375000</td>\n",
       "      <td>131</td>\n",
       "      <td>83</td>\n",
       "      <td>4.183206</td>\n",
       "      <td>18</td>\n",
       "      <td>18</td>\n",
       "      <td>0</td>\n",
       "    </tr>\n",
       "    <tr>\n",
       "      <th>3120</th>\n",
       "      <td>3080528623596565085</td>\n",
       "      <td>17787644417937804433</td>\n",
       "      <td>18003133089489520237</td>\n",
       "      <td>Мне нравятся 👍🏻 я очень аллергичная, посоветов...</td>\n",
       "      <td>13</td>\n",
       "      <td>12</td>\n",
       "      <td>5.000000</td>\n",
       "      <td>145</td>\n",
       "      <td>2</td>\n",
       "      <td>4.944828</td>\n",
       "      <td>12</td>\n",
       "      <td>14</td>\n",
       "      <td>0</td>\n",
       "    </tr>\n",
       "    <tr>\n",
       "      <th>3121</th>\n",
       "      <td>13059704988549832630</td>\n",
       "      <td>997055248102065549</td>\n",
       "      <td>12214993272083833542</td>\n",
       "      <td>Спасибо,  целая пришла. Хорошо упаковано</td>\n",
       "      <td>3</td>\n",
       "      <td>3</td>\n",
       "      <td>5.000000</td>\n",
       "      <td>205</td>\n",
       "      <td>19</td>\n",
       "      <td>4.648780</td>\n",
       "      <td>103</td>\n",
       "      <td>155</td>\n",
       "      <td>0</td>\n",
       "    </tr>\n",
       "    <tr>\n",
       "      <th>3122</th>\n",
       "      <td>11429810966213467017</td>\n",
       "      <td>1380541878847684914</td>\n",
       "      <td>11716132433518331197</td>\n",
       "      <td>Бур нормальный, но выбрал другую модель</td>\n",
       "      <td>42</td>\n",
       "      <td>29</td>\n",
       "      <td>4.809524</td>\n",
       "      <td>61</td>\n",
       "      <td>17</td>\n",
       "      <td>4.655738</td>\n",
       "      <td>54</td>\n",
       "      <td>101</td>\n",
       "      <td>0</td>\n",
       "    </tr>\n",
       "  </tbody>\n",
       "</table>\n",
       "<p>3123 rows × 13 columns</p>\n",
       "</div>"
      ],
      "text/plain": [
       "                       id1                   id2                   id3  \\\n",
       "0      7596126584852021591    173777575861152844  18254136755182295358   \n",
       "1      5327406586753254371  14366783259208998381   2324030737335224220   \n",
       "2      2636757786779776109  16985421652518589249   4904562693381133981   \n",
       "3     15432976385014516263   2629180387521298831  13541353053200353836   \n",
       "4     11933982800034911890  14531191561111600318   9121890650636487522   \n",
       "...                    ...                   ...                   ...   \n",
       "3118    764513678578182418  15635360211325277203   6836784353719029392   \n",
       "3119   6838893897482150395  13016265854619171030  12090430373311552618   \n",
       "3120   3080528623596565085  17787644417937804433  18003133089489520237   \n",
       "3121  13059704988549832630    997055248102065549  12214993272083833542   \n",
       "3122  11429810966213467017   1380541878847684914  11716132433518331197   \n",
       "\n",
       "                                                   text  f1  f2        f3  \\\n",
       "0     Хотела купить на замену старых,по итогу эти  у...   1   1  1.000000   \n",
       "1     Запах по сравнению с обычным DOVE никакой. Оно...  10   6  2.700000   \n",
       "2                      Кабель подошёл, хорошо работает.   4   4  4.000000   \n",
       "3     Восторг! Очень приятный аромат, держится долго...   6   6  5.000000   \n",
       "4     Визуально все хорошо. Не пробовали. Купили в п...  19  18  5.000000   \n",
       "...                                                 ...  ..  ..       ...   \n",
       "3118  Стекло не плохое,но есть один минус на техно с...   2   2  3.000000   \n",
       "3119  Всё пришло запаковано, ничего не сломано. Лучш...   8   8  4.375000   \n",
       "3120  Мне нравятся 👍🏻 я очень аллергичная, посоветов...  13  12  5.000000   \n",
       "3121           Спасибо,  целая пришла. Хорошо упаковано   3   3  5.000000   \n",
       "3122            Бур нормальный, но выбрал другую модель  42  29  4.809524   \n",
       "\n",
       "       f4  f5        f6   f7   f8  label  \n",
       "0      11  13  4.272727   18   36      0  \n",
       "1      46   4  4.434783   90  109      1  \n",
       "2      14   0  4.500000    4    6      0  \n",
       "3     374  30  4.772727   14   15      1  \n",
       "4       6   4  5.000000   26   33      0  \n",
       "...   ...  ..       ...  ...  ...    ...  \n",
       "3118   19   1  4.263158    9    9      0  \n",
       "3119  131  83  4.183206   18   18      0  \n",
       "3120  145   2  4.944828   12   14      0  \n",
       "3121  205  19  4.648780  103  155      0  \n",
       "3122   61  17  4.655738   54  101      0  \n",
       "\n",
       "[3123 rows x 13 columns]"
      ]
     },
     "execution_count": 6,
     "metadata": {},
     "output_type": "execute_result"
    }
   ],
   "source": [
    "df"
   ]
  },
  {
   "cell_type": "code",
   "execution_count": 21,
   "id": "aaf886dc",
   "metadata": {},
   "outputs": [],
   "source": [
    "data_structure = df.drop(index = range(1,3123))"
   ]
  },
  {
   "cell_type": "code",
   "execution_count": 30,
   "id": "e1e40858",
   "metadata": {},
   "outputs": [],
   "source": [
    "data_structure.to_csv('data_structure.csv')"
   ]
  },
  {
   "cell_type": "code",
   "execution_count": 7,
   "id": "5cc2f3c4",
   "metadata": {},
   "outputs": [],
   "source": [
    "a= ['f1', 'f2', 'f3']"
   ]
  },
  {
   "cell_type": "code",
   "execution_count": 8,
   "id": "54382548",
   "metadata": {},
   "outputs": [],
   "source": [
    "b=df[a]"
   ]
  },
  {
   "cell_type": "code",
   "execution_count": 9,
   "id": "dbe4a2ac",
   "metadata": {},
   "outputs": [
    {
     "data": {
      "text/html": [
       "<div>\n",
       "<style scoped>\n",
       "    .dataframe tbody tr th:only-of-type {\n",
       "        vertical-align: middle;\n",
       "    }\n",
       "\n",
       "    .dataframe tbody tr th {\n",
       "        vertical-align: top;\n",
       "    }\n",
       "\n",
       "    .dataframe thead th {\n",
       "        text-align: right;\n",
       "    }\n",
       "</style>\n",
       "<table border=\"1\" class=\"dataframe\">\n",
       "  <thead>\n",
       "    <tr style=\"text-align: right;\">\n",
       "      <th></th>\n",
       "      <th>f1</th>\n",
       "      <th>f2</th>\n",
       "      <th>f3</th>\n",
       "    </tr>\n",
       "  </thead>\n",
       "  <tbody>\n",
       "    <tr>\n",
       "      <th>0</th>\n",
       "      <td>1</td>\n",
       "      <td>1</td>\n",
       "      <td>1.000000</td>\n",
       "    </tr>\n",
       "    <tr>\n",
       "      <th>1</th>\n",
       "      <td>10</td>\n",
       "      <td>6</td>\n",
       "      <td>2.700000</td>\n",
       "    </tr>\n",
       "    <tr>\n",
       "      <th>2</th>\n",
       "      <td>4</td>\n",
       "      <td>4</td>\n",
       "      <td>4.000000</td>\n",
       "    </tr>\n",
       "    <tr>\n",
       "      <th>3</th>\n",
       "      <td>6</td>\n",
       "      <td>6</td>\n",
       "      <td>5.000000</td>\n",
       "    </tr>\n",
       "    <tr>\n",
       "      <th>4</th>\n",
       "      <td>19</td>\n",
       "      <td>18</td>\n",
       "      <td>5.000000</td>\n",
       "    </tr>\n",
       "    <tr>\n",
       "      <th>...</th>\n",
       "      <td>...</td>\n",
       "      <td>...</td>\n",
       "      <td>...</td>\n",
       "    </tr>\n",
       "    <tr>\n",
       "      <th>3118</th>\n",
       "      <td>2</td>\n",
       "      <td>2</td>\n",
       "      <td>3.000000</td>\n",
       "    </tr>\n",
       "    <tr>\n",
       "      <th>3119</th>\n",
       "      <td>8</td>\n",
       "      <td>8</td>\n",
       "      <td>4.375000</td>\n",
       "    </tr>\n",
       "    <tr>\n",
       "      <th>3120</th>\n",
       "      <td>13</td>\n",
       "      <td>12</td>\n",
       "      <td>5.000000</td>\n",
       "    </tr>\n",
       "    <tr>\n",
       "      <th>3121</th>\n",
       "      <td>3</td>\n",
       "      <td>3</td>\n",
       "      <td>5.000000</td>\n",
       "    </tr>\n",
       "    <tr>\n",
       "      <th>3122</th>\n",
       "      <td>42</td>\n",
       "      <td>29</td>\n",
       "      <td>4.809524</td>\n",
       "    </tr>\n",
       "  </tbody>\n",
       "</table>\n",
       "<p>3123 rows × 3 columns</p>\n",
       "</div>"
      ],
      "text/plain": [
       "      f1  f2        f3\n",
       "0      1   1  1.000000\n",
       "1     10   6  2.700000\n",
       "2      4   4  4.000000\n",
       "3      6   6  5.000000\n",
       "4     19  18  5.000000\n",
       "...   ..  ..       ...\n",
       "3118   2   2  3.000000\n",
       "3119   8   8  4.375000\n",
       "3120  13  12  5.000000\n",
       "3121   3   3  5.000000\n",
       "3122  42  29  4.809524\n",
       "\n",
       "[3123 rows x 3 columns]"
      ]
     },
     "execution_count": 9,
     "metadata": {},
     "output_type": "execute_result"
    }
   ],
   "source": [
    "b"
   ]
  },
  {
   "cell_type": "code",
   "execution_count": 10,
   "id": "f81b74c1",
   "metadata": {},
   "outputs": [],
   "source": [
    "df['w_count'] = df.text.apply(count)\n",
    "df['d_score'] = df.apply(lambda x: delta_score(x['f3'], x['f6']), axis=1)\n",
    "df['av_w_len'] = df.text.apply(average_word_length)\n",
    "for i in range(1, 9):\n",
    "    for k in range(1, 9):\n",
    "        if i == k:\n",
    "            pass\n",
    "        else:\n",
    "            df['fmin{}'.format(str(i)+str(k))]=df.apply(lambda x: feature_minus(x['f{}'.format(int(i))], x['f{}'.format(int(k))]), axis=1)\n",
    "            df['fplus{}'.format(str(i)+str(k))]=df.apply(lambda x: feature_plus(x['f{}'.format(int(i))], x['f{}'.format(int(k))]), axis=1)\n",
    "            df['fmult{}'.format(str(i)+str(k))]=df.apply(lambda x: feature_multiply(x['f{}'.format(int(i))], x['f{}'.format(int(k))]), axis=1)\n",
    "            df['fdiv{}'.format(str(i)+str(k))]=df.apply(lambda x: feature_divide(x['f{}'.format(int(i))], x['f{}'.format(int(k))]), axis=1)"
   ]
  },
  {
   "cell_type": "code",
   "execution_count": 11,
   "id": "4f2b383c",
   "metadata": {},
   "outputs": [],
   "source": [
    "df['rand_f'] = np.random.rand(df.shape[0])"
   ]
  },
  {
   "cell_type": "code",
   "execution_count": 12,
   "id": "65c23544",
   "metadata": {},
   "outputs": [],
   "source": [
    "text = df.text"
   ]
  },
  {
   "cell_type": "code",
   "execution_count": 10,
   "id": "73fc4ed5",
   "metadata": {},
   "outputs": [
    {
     "data": {
      "text/plain": [
       "'Хотела купить на замену старых,по итогу эти  ужаснотупые ,не удобные ,рвут кутикулу ,а не режут.'"
      ]
     },
     "execution_count": 10,
     "metadata": {},
     "output_type": "execute_result"
    }
   ],
   "source": [
    "text[0]"
   ]
  },
  {
   "cell_type": "markdown",
   "id": "acfb5624",
   "metadata": {},
   "source": [
    "# Первичная обработка"
   ]
  },
  {
   "cell_type": "code",
   "execution_count": 11,
   "id": "e3dba3c8",
   "metadata": {},
   "outputs": [],
   "source": [
    "tokenized_sw_p = pd.Series([nltk.word_tokenize(text[i], language='russian') for i in range(0, len(text))])"
   ]
  },
  {
   "cell_type": "code",
   "execution_count": 12,
   "id": "3dc32f73",
   "metadata": {},
   "outputs": [
    {
     "data": {
      "text/plain": [
       "0    [Хотела, купить, на, замену, старых, ,, по, ит...\n",
       "1    [Запах, по, сравнению, с, обычным, DOVE, никак...\n",
       "2            [Кабель, подошёл, ,, хорошо, работает, .]\n",
       "3    [Восторг, !, Очень, приятный, аромат, ,, держи...\n",
       "4    [Визуально, все, хорошо, ., Не, пробовали, ., ...\n",
       "dtype: object"
      ]
     },
     "execution_count": 12,
     "metadata": {},
     "output_type": "execute_result"
    }
   ],
   "source": [
    "tokenized_sw_p.head()"
   ]
  },
  {
   "cell_type": "code",
   "execution_count": 13,
   "id": "dda23995",
   "metadata": {},
   "outputs": [],
   "source": [
    "stemmed = []\n",
    "for i in range(0, len(tokenized_sw_p)):\n",
    "    stemmed.append([stem.stem(token) for token in tokenized_sw_p[i] if token not in swords and token not in punctuation])\n",
    "stemmed = pd.Series(stemmed)"
   ]
  },
  {
   "cell_type": "code",
   "execution_count": 14,
   "id": "65c40dab",
   "metadata": {},
   "outputs": [],
   "source": [
    "del tokenized_sw_p\n",
    "del text"
   ]
  },
  {
   "cell_type": "code",
   "execution_count": 15,
   "id": "5c1011d6",
   "metadata": {},
   "outputs": [],
   "source": [
    "for i in range(0, len(stemmed)):\n",
    "    stemmed[i] = \" \".join(stemmed[i])"
   ]
  },
  {
   "cell_type": "code",
   "execution_count": 16,
   "id": "7557927d",
   "metadata": {},
   "outputs": [],
   "source": [
    "stemmed_tok = pd.Series([nltk.word_tokenize(stemmed[i], language='russian') for i in range(0, len(stemmed))])"
   ]
  },
  {
   "cell_type": "code",
   "execution_count": 17,
   "id": "60f97af5",
   "metadata": {},
   "outputs": [
    {
     "data": {
      "text/plain": [
       "1"
      ]
     },
     "execution_count": 17,
     "metadata": {},
     "output_type": "execute_result"
    }
   ],
   "source": [
    "df.label[1]"
   ]
  },
  {
   "cell_type": "code",
   "execution_count": 18,
   "id": "0ac1a1ed",
   "metadata": {},
   "outputs": [],
   "source": [
    "stemmed_tag=[]\n",
    "for i in range(0, len(stemmed_tok)):\n",
    "    stemmed_tag.append(doc2vec.TaggedDocument(stemmed_tok[i], [i]))"
   ]
  },
  {
   "cell_type": "code",
   "execution_count": 19,
   "id": "a2286478",
   "metadata": {},
   "outputs": [],
   "source": [
    "wvec = Word2Vec(vector_size=100, min_count=1, workers = -1)"
   ]
  },
  {
   "cell_type": "code",
   "execution_count": 20,
   "id": "67431cbf",
   "metadata": {},
   "outputs": [],
   "source": [
    "wvec.build_vocab(stemmed_tok)"
   ]
  },
  {
   "cell_type": "code",
   "execution_count": 21,
   "id": "8af65139",
   "metadata": {},
   "outputs": [
    {
     "data": {
      "text/plain": [
       "(0, 0)"
      ]
     },
     "execution_count": 21,
     "metadata": {},
     "output_type": "execute_result"
    }
   ],
   "source": [
    "wvec.train(stemmed_tok, total_examples=wvec.corpus_count, epochs=30)"
   ]
  },
  {
   "cell_type": "code",
   "execution_count": 22,
   "id": "d01ff38c",
   "metadata": {},
   "outputs": [],
   "source": [
    "docvec = doc2vec.Doc2Vec(vector_size=100, min_count=1, workers = -1)"
   ]
  },
  {
   "cell_type": "code",
   "execution_count": 23,
   "id": "62369447",
   "metadata": {},
   "outputs": [],
   "source": [
    "docvec.build_vocab(stemmed_tag)"
   ]
  },
  {
   "cell_type": "code",
   "execution_count": 24,
   "id": "23fe6b37",
   "metadata": {},
   "outputs": [],
   "source": [
    "docvec.train(stemmed_tag, total_examples=docvec.corpus_count, epochs=30)"
   ]
  },
  {
   "cell_type": "code",
   "execution_count": 25,
   "id": "60cf5a40",
   "metadata": {},
   "outputs": [],
   "source": [
    "av=[]\n",
    "for i in range(0, len(stemmed_tok)):\n",
    "    l = np.array([wvec.wv[tok] for tok in stemmed_tok[i]])\n",
    "    av.append((np.average(a=l,  axis = 1, weights=docvec[i])))\n",
    "av = pd.Series(av) "
   ]
  },
  {
   "cell_type": "code",
   "execution_count": 26,
   "id": "7051eebe",
   "metadata": {},
   "outputs": [
    {
     "data": {
      "text/plain": [
       "0       [0.006501248, -0.036276843, -0.007388494, -0.0...\n",
       "1       [-0.0074324375, -0.00013321558, 0.0023792938, ...\n",
       "2                 [-0.39994472, -0.10498576, -0.05326255]\n",
       "3       [0.008655487, -0.005591501, -0.0022221394, 0.0...\n",
       "4       [0.026074508, 0.00541414, -0.034570817, 0.0017...\n",
       "                              ...                        \n",
       "3118    [0.0014307552, -0.0033318643, -0.0070807342, -...\n",
       "3119    [0.010798217, -0.022032978, 0.026537852, 0.014...\n",
       "3120    [0.01548819, -0.0035458382, -0.004728016, 0.00...\n",
       "3121    [0.010622692, 0.2379645, 0.075829595, 0.073439...\n",
       "3122    [-0.05496994, 0.06809626, 0.09177352, -0.06670...\n",
       "Length: 3123, dtype: object"
      ]
     },
     "execution_count": 26,
     "metadata": {},
     "output_type": "execute_result"
    }
   ],
   "source": [
    "av"
   ]
  },
  {
   "cell_type": "code",
   "execution_count": 27,
   "id": "a25bab66",
   "metadata": {},
   "outputs": [],
   "source": [
    "X = [[]]*len(stemmed_tok)\n",
    "for i in range(0, len(stemmed_tok)):\n",
    "    X[i]= np.append(X[i], av[i].min())\n",
    "    X[i]= np.append(X[i], av[i].max())"
   ]
  },
  {
   "cell_type": "code",
   "execution_count": 28,
   "id": "52b794be",
   "metadata": {},
   "outputs": [
    {
     "data": {
      "text/plain": [
       "array([-0.03627684,  0.02866629])"
      ]
     },
     "execution_count": 28,
     "metadata": {},
     "output_type": "execute_result"
    }
   ],
   "source": [
    "X[0]"
   ]
  },
  {
   "cell_type": "code",
   "execution_count": 29,
   "id": "af9f86a2",
   "metadata": {},
   "outputs": [],
   "source": [
    "del av"
   ]
  },
  {
   "cell_type": "code",
   "execution_count": 17,
   "id": "4d102a9b",
   "metadata": {},
   "outputs": [],
   "source": [
    "y = df.label"
   ]
  },
  {
   "cell_type": "code",
   "execution_count": 31,
   "id": "b15c8747",
   "metadata": {},
   "outputs": [],
   "source": [
    "X_train, X_test, y_train, y_test = train_test_split(X, y, test_size=0.2, random_state=42)\n",
    "X_test, X_val, y_test, y_val = train_test_split(X_test, y_test, test_size=0.2, random_state=42)"
   ]
  },
  {
   "cell_type": "code",
   "execution_count": 32,
   "id": "804046b3",
   "metadata": {},
   "outputs": [
    {
     "data": {
      "text/plain": [
       "<seaborn.axisgrid.FacetGrid at 0x1aee3d4fd30>"
      ]
     },
     "execution_count": 32,
     "metadata": {},
     "output_type": "execute_result"
    },
    {
     "data": {
      "image/png": "[encoded data removed]",
      "text/plain": [
       "<Figure size 500x500 with 1 Axes>"
      ]
     },
     "metadata": {},
     "output_type": "display_data"
    },
    {
     "data": {
      "image/png": "[encoded data removed]",
      "text/plain": [
       "<Figure size 500x500 with 1 Axes>"
      ]
     },
     "metadata": {},
     "output_type": "display_data"
    },
    {
     "data": {
      "image/png": "[encoded data removed]",
      "text/plain": [
       "<Figure size 500x500 with 1 Axes>"
      ]
     },
     "metadata": {},
     "output_type": "display_data"
    }
   ],
   "source": [
    "sns.displot(y_val)\n",
    "sns.displot(y_test)\n",
    "sns.displot(y_train)"
   ]
  },
  {
   "cell_type": "code",
   "execution_count": 33,
   "id": "5807846a",
   "metadata": {},
   "outputs": [],
   "source": [
    "clf = LogisticRegression()"
   ]
  },
  {
   "cell_type": "code",
   "execution_count": 34,
   "id": "6df7a5c7",
   "metadata": {},
   "outputs": [
    {
     "data": {
      "text/html": [
       "<style>#sk-container-id-1 {color: black;background-color: white;}#sk-container-id-1 pre{padding: 0;}#sk-container-id-1 div.sk-toggleable {background-color: white;}#sk-container-id-1 label.sk-toggleable__label {cursor: pointer;display: block;width: 100%;margin-bottom: 0;padding: 0.3em;box-sizing: border-box;text-align: center;}#sk-container-id-1 label.sk-toggleable__label-arrow:before {content: \"▸\";float: left;margin-right: 0.25em;color: #696969;}#sk-container-id-1 label.sk-toggleable__label-arrow:hover:before {color: black;}#sk-container-id-1 div.sk-estimator:hover label.sk-toggleable__label-arrow:before {color: black;}#sk-container-id-1 div.sk-toggleable__content {max-height: 0;max-width: 0;overflow: hidden;text-align: left;background-color: #f0f8ff;}#sk-container-id-1 div.sk-toggleable__content pre {margin: 0.2em;color: black;border-radius: 0.25em;background-color: #f0f8ff;}#sk-container-id-1 input.sk-toggleable__control:checked~div.sk-toggleable__content {max-height: 200px;max-width: 100%;overflow: auto;}#sk-container-id-1 input.sk-toggleable__control:checked~label.sk-toggleable__label-arrow:before {content: \"▾\";}#sk-container-id-1 div.sk-estimator input.sk-toggleable__control:checked~label.sk-toggleable__label {background-color: #d4ebff;}#sk-container-id-1 div.sk-label input.sk-toggleable__control:checked~label.sk-toggleable__label {background-color: #d4ebff;}#sk-container-id-1 input.sk-hidden--visually {border: 0;clip: rect(1px 1px 1px 1px);clip: rect(1px, 1px, 1px, 1px);height: 1px;margin: -1px;overflow: hidden;padding: 0;position: absolute;width: 1px;}#sk-container-id-1 div.sk-estimator {font-family: monospace;background-color: #f0f8ff;border: 1px dotted black;border-radius: 0.25em;box-sizing: border-box;margin-bottom: 0.5em;}#sk-container-id-1 div.sk-estimator:hover {background-color: #d4ebff;}#sk-container-id-1 div.sk-parallel-item::after {content: \"\";width: 100%;border-bottom: 1px solid gray;flex-grow: 1;}#sk-container-id-1 div.sk-label:hover label.sk-toggleable__label {background-color: #d4ebff;}#sk-container-id-1 div.sk-serial::before {content: \"\";position: absolute;border-left: 1px solid gray;box-sizing: border-box;top: 0;bottom: 0;left: 50%;z-index: 0;}#sk-container-id-1 div.sk-serial {display: flex;flex-direction: column;align-items: center;background-color: white;padding-right: 0.2em;padding-left: 0.2em;position: relative;}#sk-container-id-1 div.sk-item {position: relative;z-index: 1;}#sk-container-id-1 div.sk-parallel {display: flex;align-items: stretch;justify-content: center;background-color: white;position: relative;}#sk-container-id-1 div.sk-item::before, #sk-container-id-1 div.sk-parallel-item::before {content: \"\";position: absolute;border-left: 1px solid gray;box-sizing: border-box;top: 0;bottom: 0;left: 50%;z-index: -1;}#sk-container-id-1 div.sk-parallel-item {display: flex;flex-direction: column;z-index: 1;position: relative;background-color: white;}#sk-container-id-1 div.sk-parallel-item:first-child::after {align-self: flex-end;width: 50%;}#sk-container-id-1 div.sk-parallel-item:last-child::after {align-self: flex-start;width: 50%;}#sk-container-id-1 div.sk-parallel-item:only-child::after {width: 0;}#sk-container-id-1 div.sk-dashed-wrapped {border: 1px dashed gray;margin: 0 0.4em 0.5em 0.4em;box-sizing: border-box;padding-bottom: 0.4em;background-color: white;}#sk-container-id-1 div.sk-label label {font-family: monospace;font-weight: bold;display: inline-block;line-height: 1.2em;}#sk-container-id-1 div.sk-label-container {text-align: center;}#sk-container-id-1 div.sk-container {/* jupyter's `normalize.less` sets `[hidden] { display: none; }` but bootstrap.min.css set `[hidden] { display: none !important; }` so we also need the `!important` here to be able to override the default hidden behavior on the sphinx rendered scikit-learn.org. See: https://github.com/scikit-learn/scikit-learn/issues/21755 */display: inline-block !important;position: relative;}#sk-container-id-1 div.sk-text-repr-fallback {display: none;}</style><div id=\"sk-container-id-1\" class=\"sk-top-container\"><div class=\"sk-text-repr-fallback\"><pre>LogisticRegression()</pre><b>In a Jupyter environment, please rerun this cell to show the HTML representation or trust the notebook. <br />On GitHub, the HTML representation is unable to render, please try loading this page with nbviewer.org.</b></div><div class=\"sk-container\" hidden><div class=\"sk-item\"><div class=\"sk-estimator sk-toggleable\"><input class=\"sk-toggleable__control sk-hidden--visually\" id=\"sk-estimator-id-1\" type=\"checkbox\" checked><label for=\"sk-estimator-id-1\" class=\"sk-toggleable__label sk-toggleable__label-arrow\">LogisticRegression</label><div class=\"sk-toggleable__content\"><pre>LogisticRegression()</pre></div></div></div></div></div>"
      ],
      "text/plain": [
       "LogisticRegression()"
      ]
     },
     "execution_count": 34,
     "metadata": {},
     "output_type": "execute_result"
    }
   ],
   "source": [
    "clf.fit(X_train, y_train)"
   ]
  },
  {
   "cell_type": "code",
   "execution_count": 35,
   "id": "7df3a082",
   "metadata": {},
   "outputs": [],
   "source": [
    "y_pred = clf.predict(X_test)"
   ]
  },
  {
   "cell_type": "code",
   "execution_count": 36,
   "id": "8226d88f",
   "metadata": {},
   "outputs": [],
   "source": [
    "cf_mx = confusion_matrix(y_test, y_pred)"
   ]
  },
  {
   "cell_type": "code",
   "execution_count": 37,
   "id": "658d914a",
   "metadata": {},
   "outputs": [
    {
     "data": {
      "text/plain": [
       "<Axes: >"
      ]
     },
     "execution_count": 37,
     "metadata": {},
     "output_type": "execute_result"
    },
    {
     "data": {
      "image/png": "[encoded data removed]",
      "text/plain": [
       "<Figure size 640x480 with 2 Axes>"
      ]
     },
     "metadata": {},
     "output_type": "display_data"
    }
   ],
   "source": [
    "sns.heatmap(pd.DataFrame(cf_mx), annot=True)"
   ]
  },
  {
   "cell_type": "code",
   "execution_count": 38,
   "id": "d637db58",
   "metadata": {},
   "outputs": [],
   "source": [
    "X=[]\n",
    "for i in range(0, len(stemmed_tok)):\n",
    "    X.append(docvec[i])"
   ]
  },
  {
   "cell_type": "code",
   "execution_count": 39,
   "id": "70eb4476",
   "metadata": {},
   "outputs": [],
   "source": [
    "X_train, X_test, y_train, y_test = train_test_split(X, y, test_size=0.2, random_state=42)\n",
    "X_test, X_val, y_test, y_val = train_test_split(X_test, y_test, test_size=0.2, random_state=42)"
   ]
  },
  {
   "cell_type": "code",
   "execution_count": 40,
   "id": "19586757",
   "metadata": {},
   "outputs": [],
   "source": [
    "clf_d = LogisticRegression()"
   ]
  },
  {
   "cell_type": "code",
   "execution_count": 41,
   "id": "f259ffba",
   "metadata": {},
   "outputs": [
    {
     "data": {
      "text/html": [
       "<style>#sk-container-id-2 {color: black;background-color: white;}#sk-container-id-2 pre{padding: 0;}#sk-container-id-2 div.sk-toggleable {background-color: white;}#sk-container-id-2 label.sk-toggleable__label {cursor: pointer;display: block;width: 100%;margin-bottom: 0;padding: 0.3em;box-sizing: border-box;text-align: center;}#sk-container-id-2 label.sk-toggleable__label-arrow:before {content: \"▸\";float: left;margin-right: 0.25em;color: #696969;}#sk-container-id-2 label.sk-toggleable__label-arrow:hover:before {color: black;}#sk-container-id-2 div.sk-estimator:hover label.sk-toggleable__label-arrow:before {color: black;}#sk-container-id-2 div.sk-toggleable__content {max-height: 0;max-width: 0;overflow: hidden;text-align: left;background-color: #f0f8ff;}#sk-container-id-2 div.sk-toggleable__content pre {margin: 0.2em;color: black;border-radius: 0.25em;background-color: #f0f8ff;}#sk-container-id-2 input.sk-toggleable__control:checked~div.sk-toggleable__content {max-height: 200px;max-width: 100%;overflow: auto;}#sk-container-id-2 input.sk-toggleable__control:checked~label.sk-toggleable__label-arrow:before {content: \"▾\";}#sk-container-id-2 div.sk-estimator input.sk-toggleable__control:checked~label.sk-toggleable__label {background-color: #d4ebff;}#sk-container-id-2 div.sk-label input.sk-toggleable__control:checked~label.sk-toggleable__label {background-color: #d4ebff;}#sk-container-id-2 input.sk-hidden--visually {border: 0;clip: rect(1px 1px 1px 1px);clip: rect(1px, 1px, 1px, 1px);height: 1px;margin: -1px;overflow: hidden;padding: 0;position: absolute;width: 1px;}#sk-container-id-2 div.sk-estimator {font-family: monospace;background-color: #f0f8ff;border: 1px dotted black;border-radius: 0.25em;box-sizing: border-box;margin-bottom: 0.5em;}#sk-container-id-2 div.sk-estimator:hover {background-color: #d4ebff;}#sk-container-id-2 div.sk-parallel-item::after {content: \"\";width: 100%;border-bottom: 1px solid gray;flex-grow: 1;}#sk-container-id-2 div.sk-label:hover label.sk-toggleable__label {background-color: #d4ebff;}#sk-container-id-2 div.sk-serial::before {content: \"\";position: absolute;border-left: 1px solid gray;box-sizing: border-box;top: 0;bottom: 0;left: 50%;z-index: 0;}#sk-container-id-2 div.sk-serial {display: flex;flex-direction: column;align-items: center;background-color: white;padding-right: 0.2em;padding-left: 0.2em;position: relative;}#sk-container-id-2 div.sk-item {position: relative;z-index: 1;}#sk-container-id-2 div.sk-parallel {display: flex;align-items: stretch;justify-content: center;background-color: white;position: relative;}#sk-container-id-2 div.sk-item::before, #sk-container-id-2 div.sk-parallel-item::before {content: \"\";position: absolute;border-left: 1px solid gray;box-sizing: border-box;top: 0;bottom: 0;left: 50%;z-index: -1;}#sk-container-id-2 div.sk-parallel-item {display: flex;flex-direction: column;z-index: 1;position: relative;background-color: white;}#sk-container-id-2 div.sk-parallel-item:first-child::after {align-self: flex-end;width: 50%;}#sk-container-id-2 div.sk-parallel-item:last-child::after {align-self: flex-start;width: 50%;}#sk-container-id-2 div.sk-parallel-item:only-child::after {width: 0;}#sk-container-id-2 div.sk-dashed-wrapped {border: 1px dashed gray;margin: 0 0.4em 0.5em 0.4em;box-sizing: border-box;padding-bottom: 0.4em;background-color: white;}#sk-container-id-2 div.sk-label label {font-family: monospace;font-weight: bold;display: inline-block;line-height: 1.2em;}#sk-container-id-2 div.sk-label-container {text-align: center;}#sk-container-id-2 div.sk-container {/* jupyter's `normalize.less` sets `[hidden] { display: none; }` but bootstrap.min.css set `[hidden] { display: none !important; }` so we also need the `!important` here to be able to override the default hidden behavior on the sphinx rendered scikit-learn.org. See: https://github.com/scikit-learn/scikit-learn/issues/21755 */display: inline-block !important;position: relative;}#sk-container-id-2 div.sk-text-repr-fallback {display: none;}</style><div id=\"sk-container-id-2\" class=\"sk-top-container\"><div class=\"sk-text-repr-fallback\"><pre>LogisticRegression()</pre><b>In a Jupyter environment, please rerun this cell to show the HTML representation or trust the notebook. <br />On GitHub, the HTML representation is unable to render, please try loading this page with nbviewer.org.</b></div><div class=\"sk-container\" hidden><div class=\"sk-item\"><div class=\"sk-estimator sk-toggleable\"><input class=\"sk-toggleable__control sk-hidden--visually\" id=\"sk-estimator-id-2\" type=\"checkbox\" checked><label for=\"sk-estimator-id-2\" class=\"sk-toggleable__label sk-toggleable__label-arrow\">LogisticRegression</label><div class=\"sk-toggleable__content\"><pre>LogisticRegression()</pre></div></div></div></div></div>"
      ],
      "text/plain": [
       "LogisticRegression()"
      ]
     },
     "execution_count": 41,
     "metadata": {},
     "output_type": "execute_result"
    }
   ],
   "source": [
    "clf_d.fit(X_train, y_train)"
   ]
  },
  {
   "cell_type": "code",
   "execution_count": 42,
   "id": "920688c4",
   "metadata": {},
   "outputs": [],
   "source": [
    "y_pred = clf_d.predict(X_test)"
   ]
  },
  {
   "cell_type": "code",
   "execution_count": 43,
   "id": "e7816c20",
   "metadata": {},
   "outputs": [],
   "source": [
    "cf_mx_d = confusion_matrix(y_test, y_pred)"
   ]
  },
  {
   "cell_type": "code",
   "execution_count": 44,
   "id": "67c5d8b7",
   "metadata": {},
   "outputs": [
    {
     "data": {
      "text/plain": [
       "<Axes: >"
      ]
     },
     "execution_count": 44,
     "metadata": {},
     "output_type": "execute_result"
    },
    {
     "data": {
      "image/png": "[encoded data removed]",
      "text/plain": [
       "<Figure size 640x480 with 2 Axes>"
      ]
     },
     "metadata": {},
     "output_type": "display_data"
    }
   ],
   "source": [
    "sns.heatmap(pd.DataFrame(cf_mx_d), annot=True)"
   ]
  },
  {
   "cell_type": "code",
   "execution_count": 16,
   "id": "141879ae",
   "metadata": {},
   "outputs": [],
   "source": [
    "X=df.drop(['id1', 'id2', 'id3', 'text', 'label'], axis=1)"
   ]
  },
  {
   "cell_type": "code",
   "execution_count": 46,
   "id": "b503bf74",
   "metadata": {},
   "outputs": [
    {
     "data": {
      "text/plain": [
       "(3123, 236)"
      ]
     },
     "execution_count": 46,
     "metadata": {},
     "output_type": "execute_result"
    }
   ],
   "source": [
    "X.shape"
   ]
  },
  {
   "cell_type": "code",
   "execution_count": 47,
   "id": "dcba800f",
   "metadata": {},
   "outputs": [
    {
     "data": {
      "text/html": [
       "<div>\n",
       "<style scoped>\n",
       "    .dataframe tbody tr th:only-of-type {\n",
       "        vertical-align: middle;\n",
       "    }\n",
       "\n",
       "    .dataframe tbody tr th {\n",
       "        vertical-align: top;\n",
       "    }\n",
       "\n",
       "    .dataframe thead th {\n",
       "        text-align: right;\n",
       "    }\n",
       "</style>\n",
       "<table border=\"1\" class=\"dataframe\">\n",
       "  <thead>\n",
       "    <tr style=\"text-align: right;\">\n",
       "      <th></th>\n",
       "      <th>f1</th>\n",
       "      <th>f2</th>\n",
       "      <th>f3</th>\n",
       "      <th>f4</th>\n",
       "      <th>f5</th>\n",
       "      <th>f6</th>\n",
       "      <th>f7</th>\n",
       "      <th>f8</th>\n",
       "      <th>w_count</th>\n",
       "      <th>d_score</th>\n",
       "      <th>...</th>\n",
       "      <th>fdiv85</th>\n",
       "      <th>fmin86</th>\n",
       "      <th>fplus86</th>\n",
       "      <th>fmult86</th>\n",
       "      <th>fdiv86</th>\n",
       "      <th>fmin87</th>\n",
       "      <th>fplus87</th>\n",
       "      <th>fmult87</th>\n",
       "      <th>fdiv87</th>\n",
       "      <th>rand_f</th>\n",
       "    </tr>\n",
       "  </thead>\n",
       "  <tbody>\n",
       "    <tr>\n",
       "      <th>0</th>\n",
       "      <td>1</td>\n",
       "      <td>1</td>\n",
       "      <td>1.0</td>\n",
       "      <td>11</td>\n",
       "      <td>13</td>\n",
       "      <td>4.272727</td>\n",
       "      <td>18</td>\n",
       "      <td>36</td>\n",
       "      <td>15</td>\n",
       "      <td>3.272727</td>\n",
       "      <td>...</td>\n",
       "      <td>2.769231</td>\n",
       "      <td>31.727273</td>\n",
       "      <td>40.272727</td>\n",
       "      <td>153.818182</td>\n",
       "      <td>8.425532</td>\n",
       "      <td>18</td>\n",
       "      <td>54</td>\n",
       "      <td>648</td>\n",
       "      <td>2.000000</td>\n",
       "      <td>0.920896</td>\n",
       "    </tr>\n",
       "    <tr>\n",
       "      <th>1</th>\n",
       "      <td>10</td>\n",
       "      <td>6</td>\n",
       "      <td>2.7</td>\n",
       "      <td>46</td>\n",
       "      <td>4</td>\n",
       "      <td>4.434783</td>\n",
       "      <td>90</td>\n",
       "      <td>109</td>\n",
       "      <td>15</td>\n",
       "      <td>1.734783</td>\n",
       "      <td>...</td>\n",
       "      <td>27.250000</td>\n",
       "      <td>104.565217</td>\n",
       "      <td>113.434783</td>\n",
       "      <td>483.391304</td>\n",
       "      <td>24.578431</td>\n",
       "      <td>19</td>\n",
       "      <td>199</td>\n",
       "      <td>9810</td>\n",
       "      <td>1.211111</td>\n",
       "      <td>0.902691</td>\n",
       "    </tr>\n",
       "    <tr>\n",
       "      <th>2</th>\n",
       "      <td>4</td>\n",
       "      <td>4</td>\n",
       "      <td>4.0</td>\n",
       "      <td>14</td>\n",
       "      <td>0</td>\n",
       "      <td>4.500000</td>\n",
       "      <td>4</td>\n",
       "      <td>6</td>\n",
       "      <td>4</td>\n",
       "      <td>0.500000</td>\n",
       "      <td>...</td>\n",
       "      <td>6.000000</td>\n",
       "      <td>1.500000</td>\n",
       "      <td>10.500000</td>\n",
       "      <td>27.000000</td>\n",
       "      <td>1.333333</td>\n",
       "      <td>2</td>\n",
       "      <td>10</td>\n",
       "      <td>24</td>\n",
       "      <td>1.500000</td>\n",
       "      <td>0.081885</td>\n",
       "    </tr>\n",
       "    <tr>\n",
       "      <th>3</th>\n",
       "      <td>6</td>\n",
       "      <td>6</td>\n",
       "      <td>5.0</td>\n",
       "      <td>374</td>\n",
       "      <td>30</td>\n",
       "      <td>4.772727</td>\n",
       "      <td>14</td>\n",
       "      <td>15</td>\n",
       "      <td>11</td>\n",
       "      <td>0.227273</td>\n",
       "      <td>...</td>\n",
       "      <td>0.500000</td>\n",
       "      <td>10.227273</td>\n",
       "      <td>19.772727</td>\n",
       "      <td>71.590909</td>\n",
       "      <td>3.142857</td>\n",
       "      <td>1</td>\n",
       "      <td>29</td>\n",
       "      <td>210</td>\n",
       "      <td>1.071429</td>\n",
       "      <td>0.602139</td>\n",
       "    </tr>\n",
       "    <tr>\n",
       "      <th>4</th>\n",
       "      <td>19</td>\n",
       "      <td>18</td>\n",
       "      <td>5.0</td>\n",
       "      <td>6</td>\n",
       "      <td>4</td>\n",
       "      <td>5.000000</td>\n",
       "      <td>26</td>\n",
       "      <td>33</td>\n",
       "      <td>8</td>\n",
       "      <td>0.000000</td>\n",
       "      <td>...</td>\n",
       "      <td>8.250000</td>\n",
       "      <td>28.000000</td>\n",
       "      <td>38.000000</td>\n",
       "      <td>165.000000</td>\n",
       "      <td>6.600000</td>\n",
       "      <td>7</td>\n",
       "      <td>59</td>\n",
       "      <td>858</td>\n",
       "      <td>1.269231</td>\n",
       "      <td>0.580878</td>\n",
       "    </tr>\n",
       "  </tbody>\n",
       "</table>\n",
       "<p>5 rows × 236 columns</p>\n",
       "</div>"
      ],
      "text/plain": [
       "   f1  f2   f3   f4  f5        f6  f7   f8  w_count   d_score  ...     fdiv85  \\\n",
       "0   1   1  1.0   11  13  4.272727  18   36       15  3.272727  ...   2.769231   \n",
       "1  10   6  2.7   46   4  4.434783  90  109       15  1.734783  ...  27.250000   \n",
       "2   4   4  4.0   14   0  4.500000   4    6        4  0.500000  ...   6.000000   \n",
       "3   6   6  5.0  374  30  4.772727  14   15       11  0.227273  ...   0.500000   \n",
       "4  19  18  5.0    6   4  5.000000  26   33        8  0.000000  ...   8.250000   \n",
       "\n",
       "       fmin86     fplus86     fmult86     fdiv86  fmin87  fplus87  fmult87  \\\n",
       "0   31.727273   40.272727  153.818182   8.425532      18       54      648   \n",
       "1  104.565217  113.434783  483.391304  24.578431      19      199     9810   \n",
       "2    1.500000   10.500000   27.000000   1.333333       2       10       24   \n",
       "3   10.227273   19.772727   71.590909   3.142857       1       29      210   \n",
       "4   28.000000   38.000000  165.000000   6.600000       7       59      858   \n",
       "\n",
       "     fdiv87    rand_f  \n",
       "0  2.000000  0.920896  \n",
       "1  1.211111  0.902691  \n",
       "2  1.500000  0.081885  \n",
       "3  1.071429  0.602139  \n",
       "4  1.269231  0.580878  \n",
       "\n",
       "[5 rows x 236 columns]"
      ]
     },
     "execution_count": 47,
     "metadata": {},
     "output_type": "execute_result"
    }
   ],
   "source": [
    "X.head()"
   ]
  },
  {
   "cell_type": "code",
   "execution_count": 18,
   "id": "9585ff00",
   "metadata": {},
   "outputs": [],
   "source": [
    "X_train, X_test, y_train, y_test = train_test_split(X, y, test_size=0.2, random_state=42)\n",
    "X_test, X_val, y_test, y_val = train_test_split(X_test, y_test, test_size=0.2, random_state=42)"
   ]
  },
  {
   "cell_type": "code",
   "execution_count": 22,
   "id": "78d220c7",
   "metadata": {},
   "outputs": [],
   "source": [
    "clf_s = pickle.load(open('../LogReg1.sav', 'rb'))"
   ]
  },
  {
   "cell_type": "code",
   "execution_count": 23,
   "id": "379b01ee",
   "metadata": {},
   "outputs": [
    {
     "data": {
      "text/html": [
       "<style>#sk-container-id-1 {color: black;background-color: white;}#sk-container-id-1 pre{padding: 0;}#sk-container-id-1 div.sk-toggleable {background-color: white;}#sk-container-id-1 label.sk-toggleable__label {cursor: pointer;display: block;width: 100%;margin-bottom: 0;padding: 0.3em;box-sizing: border-box;text-align: center;}#sk-container-id-1 label.sk-toggleable__label-arrow:before {content: \"▸\";float: left;margin-right: 0.25em;color: #696969;}#sk-container-id-1 label.sk-toggleable__label-arrow:hover:before {color: black;}#sk-container-id-1 div.sk-estimator:hover label.sk-toggleable__label-arrow:before {color: black;}#sk-container-id-1 div.sk-toggleable__content {max-height: 0;max-width: 0;overflow: hidden;text-align: left;background-color: #f0f8ff;}#sk-container-id-1 div.sk-toggleable__content pre {margin: 0.2em;color: black;border-radius: 0.25em;background-color: #f0f8ff;}#sk-container-id-1 input.sk-toggleable__control:checked~div.sk-toggleable__content {max-height: 200px;max-width: 100%;overflow: auto;}#sk-container-id-1 input.sk-toggleable__control:checked~label.sk-toggleable__label-arrow:before {content: \"▾\";}#sk-container-id-1 div.sk-estimator input.sk-toggleable__control:checked~label.sk-toggleable__label {background-color: #d4ebff;}#sk-container-id-1 div.sk-label input.sk-toggleable__control:checked~label.sk-toggleable__label {background-color: #d4ebff;}#sk-container-id-1 input.sk-hidden--visually {border: 0;clip: rect(1px 1px 1px 1px);clip: rect(1px, 1px, 1px, 1px);height: 1px;margin: -1px;overflow: hidden;padding: 0;position: absolute;width: 1px;}#sk-container-id-1 div.sk-estimator {font-family: monospace;background-color: #f0f8ff;border: 1px dotted black;border-radius: 0.25em;box-sizing: border-box;margin-bottom: 0.5em;}#sk-container-id-1 div.sk-estimator:hover {background-color: #d4ebff;}#sk-container-id-1 div.sk-parallel-item::after {content: \"\";width: 100%;border-bottom: 1px solid gray;flex-grow: 1;}#sk-container-id-1 div.sk-label:hover label.sk-toggleable__label {background-color: #d4ebff;}#sk-container-id-1 div.sk-serial::before {content: \"\";position: absolute;border-left: 1px solid gray;box-sizing: border-box;top: 0;bottom: 0;left: 50%;z-index: 0;}#sk-container-id-1 div.sk-serial {display: flex;flex-direction: column;align-items: center;background-color: white;padding-right: 0.2em;padding-left: 0.2em;position: relative;}#sk-container-id-1 div.sk-item {position: relative;z-index: 1;}#sk-container-id-1 div.sk-parallel {display: flex;align-items: stretch;justify-content: center;background-color: white;position: relative;}#sk-container-id-1 div.sk-item::before, #sk-container-id-1 div.sk-parallel-item::before {content: \"\";position: absolute;border-left: 1px solid gray;box-sizing: border-box;top: 0;bottom: 0;left: 50%;z-index: -1;}#sk-container-id-1 div.sk-parallel-item {display: flex;flex-direction: column;z-index: 1;position: relative;background-color: white;}#sk-container-id-1 div.sk-parallel-item:first-child::after {align-self: flex-end;width: 50%;}#sk-container-id-1 div.sk-parallel-item:last-child::after {align-self: flex-start;width: 50%;}#sk-container-id-1 div.sk-parallel-item:only-child::after {width: 0;}#sk-container-id-1 div.sk-dashed-wrapped {border: 1px dashed gray;margin: 0 0.4em 0.5em 0.4em;box-sizing: border-box;padding-bottom: 0.4em;background-color: white;}#sk-container-id-1 div.sk-label label {font-family: monospace;font-weight: bold;display: inline-block;line-height: 1.2em;}#sk-container-id-1 div.sk-label-container {text-align: center;}#sk-container-id-1 div.sk-container {/* jupyter's `normalize.less` sets `[hidden] { display: none; }` but bootstrap.min.css set `[hidden] { display: none !important; }` so we also need the `!important` here to be able to override the default hidden behavior on the sphinx rendered scikit-learn.org. See: https://github.com/scikit-learn/scikit-learn/issues/21755 */display: inline-block !important;position: relative;}#sk-container-id-1 div.sk-text-repr-fallback {display: none;}</style><div id=\"sk-container-id-1\" class=\"sk-top-container\"><div class=\"sk-text-repr-fallback\"><pre>LogisticRegression(C=3792.690190732246, penalty=&#x27;l1&#x27;, solver=&#x27;liblinear&#x27;)</pre><b>In a Jupyter environment, please rerun this cell to show the HTML representation or trust the notebook. <br />On GitHub, the HTML representation is unable to render, please try loading this page with nbviewer.org.</b></div><div class=\"sk-container\" hidden><div class=\"sk-item\"><div class=\"sk-estimator sk-toggleable\"><input class=\"sk-toggleable__control sk-hidden--visually\" id=\"sk-estimator-id-1\" type=\"checkbox\" checked><label for=\"sk-estimator-id-1\" class=\"sk-toggleable__label sk-toggleable__label-arrow\">LogisticRegression</label><div class=\"sk-toggleable__content\"><pre>LogisticRegression(C=3792.690190732246, penalty=&#x27;l1&#x27;, solver=&#x27;liblinear&#x27;)</pre></div></div></div></div></div>"
      ],
      "text/plain": [
       "LogisticRegression(C=3792.690190732246, penalty='l1', solver='liblinear')"
      ]
     },
     "execution_count": 23,
     "metadata": {},
     "output_type": "execute_result"
    }
   ],
   "source": [
    "clf_s"
   ]
  },
  {
   "cell_type": "code",
   "execution_count": 24,
   "id": "b0888cc1",
   "metadata": {},
   "outputs": [],
   "source": [
    "y_pred = clf_s.predict(X_test)"
   ]
  },
  {
   "cell_type": "markdown",
   "id": "2479955e",
   "metadata": {},
   "source": [
    "y_pred = clf_s.predict(X_test)"
   ]
  },
  {
   "cell_type": "code",
   "execution_count": 25,
   "id": "6ce8e939",
   "metadata": {},
   "outputs": [],
   "source": [
    "cf_mx_s = confusion_matrix(y_test, y_pred)"
   ]
  },
  {
   "cell_type": "code",
   "execution_count": 26,
   "id": "f8e36b24",
   "metadata": {},
   "outputs": [
    {
     "data": {
      "text/plain": [
       "0.7384615384615385"
      ]
     },
     "execution_count": 26,
     "metadata": {},
     "output_type": "execute_result"
    }
   ],
   "source": [
    "precision_score(y_test, y_pred)"
   ]
  },
  {
   "cell_type": "code",
   "execution_count": 27,
   "id": "b6d7cc9f",
   "metadata": {},
   "outputs": [
    {
     "data": {
      "text/plain": [
       "0.32653061224489793"
      ]
     },
     "execution_count": 27,
     "metadata": {},
     "output_type": "execute_result"
    }
   ],
   "source": [
    "recall_score(y_test, y_pred)"
   ]
  },
  {
   "cell_type": "code",
   "execution_count": 28,
   "id": "d5eb955b",
   "metadata": {},
   "outputs": [
    {
     "data": {
      "text/plain": [
       "0.4528301886792453"
      ]
     },
     "execution_count": 28,
     "metadata": {},
     "output_type": "execute_result"
    }
   ],
   "source": [
    "f1_score(y_test, y_pred)"
   ]
  },
  {
   "cell_type": "code",
   "execution_count": 29,
   "id": "92dd5d38",
   "metadata": {},
   "outputs": [
    {
     "data": {
      "text/plain": [
       "<Axes: >"
      ]
     },
     "execution_count": 29,
     "metadata": {},
     "output_type": "execute_result"
    },
    {
     "data": {
      "image/png": "[encoded data removed]",
      "text/plain": [
       "<Figure size 640x480 with 2 Axes>"
      ]
     },
     "metadata": {},
     "output_type": "display_data"
    }
   ],
   "source": [
    "sns.heatmap(pd.DataFrame(cf_mx_s), annot=True)"
   ]
  },
  {
   "cell_type": "code",
   "execution_count": 57,
   "id": "9ed9cd7a",
   "metadata": {},
   "outputs": [],
   "source": [
    "cbcl = pickle.load(open('CatBoost.sav', 'rb'))"
   ]
  },
  {
   "cell_type": "code",
   "execution_count": 58,
   "id": "44d6206f",
   "metadata": {},
   "outputs": [],
   "source": [
    "y_pred = cbcl.predict(X_test)"
   ]
  },
  {
   "cell_type": "code",
   "execution_count": 59,
   "id": "498a55b0",
   "metadata": {},
   "outputs": [
    {
     "data": {
      "text/plain": [
       "0.7058823529411765"
      ]
     },
     "execution_count": 59,
     "metadata": {},
     "output_type": "execute_result"
    }
   ],
   "source": [
    "precision_score(y_test, y_pred)"
   ]
  },
  {
   "cell_type": "code",
   "execution_count": 60,
   "id": "999936ff",
   "metadata": {
    "scrolled": true
   },
   "outputs": [
    {
     "data": {
      "text/plain": [
       "0.32653061224489793"
      ]
     },
     "execution_count": 60,
     "metadata": {},
     "output_type": "execute_result"
    }
   ],
   "source": [
    "recall_score(y_test, y_pred)"
   ]
  },
  {
   "cell_type": "code",
   "execution_count": 61,
   "id": "c5b1713d",
   "metadata": {},
   "outputs": [
    {
     "data": {
      "text/plain": [
       "0.4465116279069767"
      ]
     },
     "execution_count": 61,
     "metadata": {},
     "output_type": "execute_result"
    }
   ],
   "source": [
    "f1_score(y_test, y_pred)"
   ]
  },
  {
   "cell_type": "code",
   "execution_count": 62,
   "id": "15b11203",
   "metadata": {},
   "outputs": [],
   "source": [
    "cf_mx_cb = confusion_matrix(y_test, y_pred)"
   ]
  },
  {
   "cell_type": "code",
   "execution_count": 63,
   "id": "657989da",
   "metadata": {},
   "outputs": [
    {
     "data": {
      "text/plain": [
       "<Axes: >"
      ]
     },
     "execution_count": 63,
     "metadata": {},
     "output_type": "execute_result"
    },
    {
     "data": {
      "image/png": "[encoded data removed]",
      "text/plain": [
       "<Figure size 640x480 with 2 Axes>"
      ]
     },
     "metadata": {},
     "output_type": "display_data"
    }
   ],
   "source": [
    "sns.heatmap(pd.DataFrame(cf_mx_cb), annot=True)"
   ]
  },
  {
   "cell_type": "code",
   "execution_count": 30,
   "id": "97c27802",
   "metadata": {},
   "outputs": [],
   "source": [
    "feat_imp_lr = pd.DataFrame({'Feature': X.columns, 'Importance': np.abs(clf_s.coef_[0])})"
   ]
  },
  {
   "cell_type": "code",
   "execution_count": 31,
   "id": "0480404a",
   "metadata": {},
   "outputs": [],
   "source": [
    "feat_imp_lr.sort_values(by='Importance', inplace=True, ascending=False)"
   ]
  },
  {
   "cell_type": "code",
   "execution_count": 32,
   "id": "736ec433",
   "metadata": {},
   "outputs": [],
   "source": [
    "feat_imp_lr.reset_index(inplace=True)"
   ]
  },
  {
   "cell_type": "code",
   "execution_count": 33,
   "id": "9b7ede80",
   "metadata": {},
   "outputs": [
    {
     "data": {
      "text/html": [
       "<div>\n",
       "<style scoped>\n",
       "    .dataframe tbody tr th:only-of-type {\n",
       "        vertical-align: middle;\n",
       "    }\n",
       "\n",
       "    .dataframe tbody tr th {\n",
       "        vertical-align: top;\n",
       "    }\n",
       "\n",
       "    .dataframe thead th {\n",
       "        text-align: right;\n",
       "    }\n",
       "</style>\n",
       "<table border=\"1\" class=\"dataframe\">\n",
       "  <thead>\n",
       "    <tr style=\"text-align: right;\">\n",
       "      <th></th>\n",
       "      <th>index</th>\n",
       "      <th>Feature</th>\n",
       "      <th>Importance</th>\n",
       "    </tr>\n",
       "  </thead>\n",
       "  <tbody>\n",
       "    <tr>\n",
       "      <th>0</th>\n",
       "      <td>42</td>\n",
       "      <td>fdiv21</td>\n",
       "      <td>3.368967e+00</td>\n",
       "    </tr>\n",
       "    <tr>\n",
       "      <th>1</th>\n",
       "      <td>18</td>\n",
       "      <td>fdiv13</td>\n",
       "      <td>1.257645e+00</td>\n",
       "    </tr>\n",
       "    <tr>\n",
       "      <th>2</th>\n",
       "      <td>46</td>\n",
       "      <td>fdiv23</td>\n",
       "      <td>1.139679e+00</td>\n",
       "    </tr>\n",
       "    <tr>\n",
       "      <th>3</th>\n",
       "      <td>38</td>\n",
       "      <td>fdiv18</td>\n",
       "      <td>1.097270e+00</td>\n",
       "    </tr>\n",
       "    <tr>\n",
       "      <th>4</th>\n",
       "      <td>86</td>\n",
       "      <td>fdiv36</td>\n",
       "      <td>1.067796e+00</td>\n",
       "    </tr>\n",
       "    <tr>\n",
       "      <th>...</th>\n",
       "      <td>...</td>\n",
       "      <td>...</td>\n",
       "      <td>...</td>\n",
       "    </tr>\n",
       "    <tr>\n",
       "      <th>231</th>\n",
       "      <td>21</td>\n",
       "      <td>fmult14</td>\n",
       "      <td>1.011965e-06</td>\n",
       "    </tr>\n",
       "    <tr>\n",
       "      <th>232</th>\n",
       "      <td>97</td>\n",
       "      <td>fmult41</td>\n",
       "      <td>8.017346e-07</td>\n",
       "    </tr>\n",
       "    <tr>\n",
       "      <th>233</th>\n",
       "      <td>233</td>\n",
       "      <td>fmult87</td>\n",
       "      <td>2.365257e-07</td>\n",
       "    </tr>\n",
       "    <tr>\n",
       "      <th>234</th>\n",
       "      <td>137</td>\n",
       "      <td>fmult54</td>\n",
       "      <td>2.107861e-08</td>\n",
       "    </tr>\n",
       "    <tr>\n",
       "      <th>235</th>\n",
       "      <td>109</td>\n",
       "      <td>fmult45</td>\n",
       "      <td>2.005967e-08</td>\n",
       "    </tr>\n",
       "  </tbody>\n",
       "</table>\n",
       "<p>236 rows × 3 columns</p>\n",
       "</div>"
      ],
      "text/plain": [
       "     index  Feature    Importance\n",
       "0       42   fdiv21  3.368967e+00\n",
       "1       18   fdiv13  1.257645e+00\n",
       "2       46   fdiv23  1.139679e+00\n",
       "3       38   fdiv18  1.097270e+00\n",
       "4       86   fdiv36  1.067796e+00\n",
       "..     ...      ...           ...\n",
       "231     21  fmult14  1.011965e-06\n",
       "232     97  fmult41  8.017346e-07\n",
       "233    233  fmult87  2.365257e-07\n",
       "234    137  fmult54  2.107861e-08\n",
       "235    109  fmult45  2.005967e-08\n",
       "\n",
       "[236 rows x 3 columns]"
      ]
     },
     "execution_count": 33,
     "metadata": {},
     "output_type": "execute_result"
    }
   ],
   "source": [
    "feat_imp_lr"
   ]
  },
  {
   "cell_type": "code",
   "execution_count": 34,
   "id": "7fa4a56c",
   "metadata": {},
   "outputs": [
    {
     "data": {
      "text/html": [
       "<div>\n",
       "<style scoped>\n",
       "    .dataframe tbody tr th:only-of-type {\n",
       "        vertical-align: middle;\n",
       "    }\n",
       "\n",
       "    .dataframe tbody tr th {\n",
       "        vertical-align: top;\n",
       "    }\n",
       "\n",
       "    .dataframe thead th {\n",
       "        text-align: right;\n",
       "    }\n",
       "</style>\n",
       "<table border=\"1\" class=\"dataframe\">\n",
       "  <thead>\n",
       "    <tr style=\"text-align: right;\">\n",
       "      <th></th>\n",
       "      <th>index</th>\n",
       "      <th>Feature</th>\n",
       "      <th>Importance</th>\n",
       "    </tr>\n",
       "  </thead>\n",
       "  <tbody>\n",
       "    <tr>\n",
       "      <th>57</th>\n",
       "      <td>235</td>\n",
       "      <td>rand_f</td>\n",
       "      <td>0.036597</td>\n",
       "    </tr>\n",
       "  </tbody>\n",
       "</table>\n",
       "</div>"
      ],
      "text/plain": [
       "    index Feature  Importance\n",
       "57    235  rand_f    0.036597"
      ]
     },
     "execution_count": 34,
     "metadata": {},
     "output_type": "execute_result"
    }
   ],
   "source": [
    "feat_imp_lr.loc[feat_imp_lr['Feature'] == 'rand_f']"
   ]
  },
  {
   "cell_type": "code",
   "execution_count": 35,
   "id": "a3b0d45b",
   "metadata": {},
   "outputs": [
    {
     "data": {
      "text/plain": [
       "<Axes: xlabel='Importance', ylabel='Feature'>"
      ]
     },
     "execution_count": 35,
     "metadata": {},
     "output_type": "execute_result"
    },
    {
     "data": {
      "image/png": "[encoded data removed]",
      "text/plain": [
       "<Figure size 1500x2000 with 1 Axes>"
      ]
     },
     "metadata": {},
     "output_type": "display_data"
    }
   ],
   "source": [
    "sns.set(rc={\"figure.figsize\":(15, 20)})\n",
    "sns.barplot(y=feat_imp_lr.head(50).Feature, x=feat_imp_lr.head(50).Importance)"
   ]
  },
  {
   "cell_type": "code",
   "execution_count": 36,
   "id": "85107e76",
   "metadata": {},
   "outputs": [],
   "source": [
    "a=[i for i in range(0, feat_imp_lr.loc[feat_imp_lr['Feature'] == 'rand_f'].index[0])]\n",
    "b=[i for i in range(feat_imp_lr.loc[feat_imp_lr['Feature'] == 'rand_f'].index[0], 236)]"
   ]
  },
  {
   "cell_type": "code",
   "execution_count": 37,
   "id": "0f48d4a3",
   "metadata": {},
   "outputs": [],
   "source": [
    "not_imp_feat_lr = feat_imp_lr.drop(index = a)"
   ]
  },
  {
   "cell_type": "code",
   "execution_count": 38,
   "id": "64deefd4",
   "metadata": {},
   "outputs": [
    {
     "data": {
      "text/html": [
       "<div>\n",
       "<style scoped>\n",
       "    .dataframe tbody tr th:only-of-type {\n",
       "        vertical-align: middle;\n",
       "    }\n",
       "\n",
       "    .dataframe tbody tr th {\n",
       "        vertical-align: top;\n",
       "    }\n",
       "\n",
       "    .dataframe thead th {\n",
       "        text-align: right;\n",
       "    }\n",
       "</style>\n",
       "<table border=\"1\" class=\"dataframe\">\n",
       "  <thead>\n",
       "    <tr style=\"text-align: right;\">\n",
       "      <th></th>\n",
       "      <th>index</th>\n",
       "      <th>Feature</th>\n",
       "      <th>Importance</th>\n",
       "    </tr>\n",
       "  </thead>\n",
       "  <tbody>\n",
       "    <tr>\n",
       "      <th>0</th>\n",
       "      <td>42</td>\n",
       "      <td>fdiv21</td>\n",
       "      <td>3.368967e+00</td>\n",
       "    </tr>\n",
       "    <tr>\n",
       "      <th>1</th>\n",
       "      <td>18</td>\n",
       "      <td>fdiv13</td>\n",
       "      <td>1.257645e+00</td>\n",
       "    </tr>\n",
       "    <tr>\n",
       "      <th>2</th>\n",
       "      <td>46</td>\n",
       "      <td>fdiv23</td>\n",
       "      <td>1.139679e+00</td>\n",
       "    </tr>\n",
       "    <tr>\n",
       "      <th>3</th>\n",
       "      <td>38</td>\n",
       "      <td>fdiv18</td>\n",
       "      <td>1.097270e+00</td>\n",
       "    </tr>\n",
       "    <tr>\n",
       "      <th>4</th>\n",
       "      <td>86</td>\n",
       "      <td>fdiv36</td>\n",
       "      <td>1.067796e+00</td>\n",
       "    </tr>\n",
       "    <tr>\n",
       "      <th>...</th>\n",
       "      <td>...</td>\n",
       "      <td>...</td>\n",
       "      <td>...</td>\n",
       "    </tr>\n",
       "    <tr>\n",
       "      <th>231</th>\n",
       "      <td>21</td>\n",
       "      <td>fmult14</td>\n",
       "      <td>1.011965e-06</td>\n",
       "    </tr>\n",
       "    <tr>\n",
       "      <th>232</th>\n",
       "      <td>97</td>\n",
       "      <td>fmult41</td>\n",
       "      <td>8.017346e-07</td>\n",
       "    </tr>\n",
       "    <tr>\n",
       "      <th>233</th>\n",
       "      <td>233</td>\n",
       "      <td>fmult87</td>\n",
       "      <td>2.365257e-07</td>\n",
       "    </tr>\n",
       "    <tr>\n",
       "      <th>234</th>\n",
       "      <td>137</td>\n",
       "      <td>fmult54</td>\n",
       "      <td>2.107861e-08</td>\n",
       "    </tr>\n",
       "    <tr>\n",
       "      <th>235</th>\n",
       "      <td>109</td>\n",
       "      <td>fmult45</td>\n",
       "      <td>2.005967e-08</td>\n",
       "    </tr>\n",
       "  </tbody>\n",
       "</table>\n",
       "<p>236 rows × 3 columns</p>\n",
       "</div>"
      ],
      "text/plain": [
       "     index  Feature    Importance\n",
       "0       42   fdiv21  3.368967e+00\n",
       "1       18   fdiv13  1.257645e+00\n",
       "2       46   fdiv23  1.139679e+00\n",
       "3       38   fdiv18  1.097270e+00\n",
       "4       86   fdiv36  1.067796e+00\n",
       "..     ...      ...           ...\n",
       "231     21  fmult14  1.011965e-06\n",
       "232     97  fmult41  8.017346e-07\n",
       "233    233  fmult87  2.365257e-07\n",
       "234    137  fmult54  2.107861e-08\n",
       "235    109  fmult45  2.005967e-08\n",
       "\n",
       "[236 rows x 3 columns]"
      ]
     },
     "execution_count": 38,
     "metadata": {},
     "output_type": "execute_result"
    }
   ],
   "source": [
    "feat_imp_lr"
   ]
  },
  {
   "cell_type": "code",
   "execution_count": 39,
   "id": "6443fa57",
   "metadata": {},
   "outputs": [],
   "source": [
    "imp_feat_lr = pd.Series(data= feat_imp_lr.drop(index = b).Feature)"
   ]
  },
  {
   "cell_type": "code",
   "execution_count": 40,
   "id": "7a30b775",
   "metadata": {},
   "outputs": [
    {
     "ename": "NameError",
     "evalue": "name 'cbcl' is not defined",
     "output_type": "error",
     "traceback": [
      "\u001b[1;31m---------------------------------------------------------------------------\u001b[0m",
      "\u001b[1;31mNameError\u001b[0m                                 Traceback (most recent call last)",
      "Cell \u001b[1;32mIn[40], line 1\u001b[0m\n\u001b[1;32m----> 1\u001b[0m feat_imp_cb \u001b[38;5;241m=\u001b[39m pd\u001b[38;5;241m.\u001b[39mDataFrame({\u001b[38;5;124m'\u001b[39m\u001b[38;5;124mFeature\u001b[39m\u001b[38;5;124m'\u001b[39m: X\u001b[38;5;241m.\u001b[39mcolumns, \u001b[38;5;124m'\u001b[39m\u001b[38;5;124mImportance\u001b[39m\u001b[38;5;124m'\u001b[39m: \u001b[43mcbcl\u001b[49m\u001b[38;5;241m.\u001b[39mget_feature_importance()})\n",
      "\u001b[1;31mNameError\u001b[0m: name 'cbcl' is not defined"
     ]
    }
   ],
   "source": [
    "feat_imp_cb = pd.DataFrame({'Feature': X.columns, 'Importance': cbcl.get_feature_importance()})"
   ]
  },
  {
   "cell_type": "code",
   "execution_count": 41,
   "id": "7f5ea1a8",
   "metadata": {},
   "outputs": [
    {
     "ename": "NameError",
     "evalue": "name 'feat_imp_cb' is not defined",
     "output_type": "error",
     "traceback": [
      "\u001b[1;31m---------------------------------------------------------------------------\u001b[0m",
      "\u001b[1;31mNameError\u001b[0m                                 Traceback (most recent call last)",
      "Cell \u001b[1;32mIn[41], line 1\u001b[0m\n\u001b[1;32m----> 1\u001b[0m \u001b[43mfeat_imp_cb\u001b[49m\u001b[38;5;241m.\u001b[39msort_values(by\u001b[38;5;241m=\u001b[39m\u001b[38;5;124m'\u001b[39m\u001b[38;5;124mImportance\u001b[39m\u001b[38;5;124m'\u001b[39m, inplace\u001b[38;5;241m=\u001b[39m\u001b[38;5;28;01mTrue\u001b[39;00m, ascending\u001b[38;5;241m=\u001b[39m\u001b[38;5;28;01mFalse\u001b[39;00m)\n",
      "\u001b[1;31mNameError\u001b[0m: name 'feat_imp_cb' is not defined"
     ]
    }
   ],
   "source": [
    "feat_imp_cb.sort_values(by='Importance', inplace=True, ascending=False)"
   ]
  },
  {
   "cell_type": "code",
   "execution_count": 42,
   "id": "f77d5de4",
   "metadata": {},
   "outputs": [
    {
     "ename": "NameError",
     "evalue": "name 'feat_imp_cb' is not defined",
     "output_type": "error",
     "traceback": [
      "\u001b[1;31m---------------------------------------------------------------------------\u001b[0m",
      "\u001b[1;31mNameError\u001b[0m                                 Traceback (most recent call last)",
      "Cell \u001b[1;32mIn[42], line 1\u001b[0m\n\u001b[1;32m----> 1\u001b[0m \u001b[43mfeat_imp_cb\u001b[49m\u001b[38;5;241m.\u001b[39mreset_index(inplace\u001b[38;5;241m=\u001b[39m\u001b[38;5;28;01mTrue\u001b[39;00m)\n",
      "\u001b[1;31mNameError\u001b[0m: name 'feat_imp_cb' is not defined"
     ]
    }
   ],
   "source": [
    "feat_imp_cb.reset_index(inplace=True)"
   ]
  },
  {
   "cell_type": "code",
   "execution_count": 77,
   "id": "b735a439",
   "metadata": {},
   "outputs": [
    {
     "data": {
      "text/plain": [
       "<Axes: xlabel='Importance', ylabel='Feature'>"
      ]
     },
     "execution_count": 77,
     "metadata": {},
     "output_type": "execute_result"
    },
    {
     "data": {
      "image/png": "[encoded data removed]",
      "text/plain": [
       "<Figure size 1500x2000 with 1 Axes>"
      ]
     },
     "metadata": {},
     "output_type": "display_data"
    }
   ],
   "source": [
    "sns.barplot(y=feat_imp_cb.head(50).Feature, x=feat_imp_cb.head(50).Importance)"
   ]
  },
  {
   "cell_type": "code",
   "execution_count": 43,
   "id": "e6f46184",
   "metadata": {},
   "outputs": [],
   "source": [
    "def feature_select(X_t, y_t, X_p, y_p, feat_list, num_feat=1, ignored_feat=[], estimator=LogisticRegression(max_iter=5000)):\n",
    "    if ignored_feat:\n",
    "        for feat in ignored_feat:\n",
    "            feat_list.drop(feat_list.loc[feat_list == feat].index, inplace=True)\n",
    "    X_train = X_t[feat_list[0:num_feat]]\n",
    "    y_train = y_t\n",
    "    X_test = X_p[feat_list[0:num_feat]]\n",
    "    y_test = y_p\n",
    "    estimator = estimator.fit(X_train, y_train)\n",
    "    y_pred = estimator.predict(X_p)\n",
    "    return {'feat list': feat_list[0:num_feat], 'precision': precision_score(y_p, y_pred), 'f1': f1_score(y_p, y_pred)}"
   ]
  },
  {
   "cell_type": "code",
   "execution_count": 44,
   "id": "7b8853a0",
   "metadata": {},
   "outputs": [],
   "source": [
    "X_t = X_train.drop(columns = [i for i in not_imp_feat_lr['Feature']])[imp_feat_lr]\n",
    "X_p = X_test.drop(columns = [i for i in not_imp_feat_lr['Feature']])[imp_feat_lr]"
   ]
  },
  {
   "cell_type": "code",
   "execution_count": 45,
   "id": "2ffed779",
   "metadata": {},
   "outputs": [
    {
     "name": "stdout",
     "output_type": "stream",
     "text": [
      "Features:  ['fdiv21'] \n",
      "Precision: 0.7272727272727273 \n",
      "F1: 0.26666666666666666\n",
      "New feature added\n",
      "\n",
      "Features:  ['fdiv21', 'fdiv13'] \n",
      "Precision: 0.7058823529411765 \n",
      "F1: 0.26519337016574585\n",
      "New feature ignored\n",
      "\n",
      "Features:  ['fdiv21', 'fdiv23'] \n",
      "Precision: 0.7142857142857143 \n",
      "F1: 0.2747252747252747\n",
      "New feature added\n",
      "\n",
      "Features:  ['fdiv21', 'fdiv23', 'fdiv18'] \n",
      "Precision: 0.7692307692307693 \n",
      "F1: 0.3225806451612903\n",
      "New feature added\n",
      "\n",
      "Features:  ['fdiv21', 'fdiv23', 'fdiv18', 'fdiv36'] \n",
      "Precision: 0.6428571428571429 \n",
      "F1: 0.35467980295566504\n",
      "New feature added\n",
      "\n",
      "Features:  ['fdiv21', 'fdiv23', 'fdiv18', 'fdiv36', 'fdiv61'] \n",
      "Precision: 0.6851851851851852 \n",
      "F1: 0.3681592039800995\n",
      "New feature added\n",
      "\n",
      "Features:  ['fdiv21', 'fdiv23', 'fdiv18', 'fdiv36', 'fdiv61', 'fdiv31'] \n",
      "Precision: 0.7037037037037037 \n",
      "F1: 0.3781094527363184\n",
      "New feature added\n",
      "\n",
      "Features:  ['fdiv21', 'fdiv23', 'fdiv18', 'fdiv36', 'fdiv61', 'fdiv31', 'fdiv62'] \n",
      "Precision: 0.6851851851851852 \n",
      "F1: 0.3681592039800995\n",
      "New feature ignored\n",
      "\n",
      "Features:  ['fdiv21', 'fdiv23', 'fdiv18', 'fdiv36', 'fdiv61', 'fdiv31', 'fdiv28'] \n",
      "Precision: 0.6851851851851852 \n",
      "F1: 0.3681592039800995\n",
      "New feature ignored\n",
      "\n",
      "Features:  ['fdiv21', 'fdiv23', 'fdiv18', 'fdiv36', 'fdiv61', 'fdiv31', 'fdiv32'] \n",
      "Precision: 0.6851851851851852 \n",
      "F1: 0.3681592039800995\n",
      "New feature ignored\n",
      "\n",
      "Features:  ['fdiv21', 'fdiv23', 'fdiv18', 'fdiv36', 'fdiv61', 'fdiv31', 'fdiv64'] \n",
      "Precision: 0.676923076923077 \n",
      "F1: 0.41509433962264153\n",
      "New feature added\n",
      "\n",
      "Features:  ['fdiv21', 'fdiv23', 'fdiv18', 'fdiv36', 'fdiv61', 'fdiv31', 'fdiv64', 'fdiv38'] \n",
      "Precision: 0.696969696969697 \n",
      "F1: 0.43192488262910794\n",
      "New feature added\n",
      "\n",
      "Features:  ['fdiv21', 'fdiv23', 'fdiv18', 'fdiv36', 'fdiv61', 'fdiv31', 'fdiv64', 'fdiv38', 'fdiv76'] \n",
      "Precision: 0.703125 \n",
      "F1: 0.42654028436018954\n",
      "New feature added\n",
      "\n",
      "Features:  ['fdiv21', 'fdiv23', 'fdiv18', 'fdiv36', 'fdiv61', 'fdiv31', 'fdiv64', 'fdiv38', 'fdiv76', 'fdiv68'] \n",
      "Precision: 0.7540983606557377 \n",
      "F1: 0.44230769230769235\n",
      "New feature added\n",
      "\n",
      "Features:  ['fdiv21', 'fdiv23', 'fdiv18', 'fdiv36', 'fdiv61', 'fdiv31', 'fdiv64', 'fdiv38', 'fdiv76', 'fdiv68', 'fdiv34'] \n",
      "Precision: 0.746031746031746 \n",
      "F1: 0.4476190476190476\n",
      "New feature added\n",
      "\n",
      "Features:  ['fdiv21', 'fdiv23', 'fdiv18', 'fdiv36', 'fdiv61', 'fdiv31', 'fdiv64', 'fdiv38', 'fdiv76', 'fdiv68', 'fdiv34', 'fdiv16'] \n",
      "Precision: 0.7384615384615385 \n",
      "F1: 0.4528301886792453\n",
      "New feature added\n",
      "\n",
      "Features:  ['fdiv21', 'fdiv23', 'fdiv18', 'fdiv36', 'fdiv61', 'fdiv31', 'fdiv64', 'fdiv38', 'fdiv76', 'fdiv68', 'fdiv34', 'fdiv16', 'f3'] \n",
      "Precision: 0.7014925373134329 \n",
      "F1: 0.4392523364485981\n",
      "New feature ignored\n",
      "\n",
      "Features:  ['fdiv21', 'fdiv23', 'fdiv18', 'fdiv36', 'fdiv61', 'fdiv31', 'fdiv64', 'fdiv38', 'fdiv76', 'fdiv68', 'fdiv34', 'fdiv16', 'fdiv86'] \n",
      "Precision: 0.7301587301587301 \n",
      "F1: 0.4380952380952381\n",
      "New feature added\n",
      "\n",
      "Features:  ['fdiv21', 'fdiv23', 'fdiv18', 'fdiv36', 'fdiv61', 'fdiv31', 'fdiv64', 'fdiv38', 'fdiv76', 'fdiv68', 'fdiv34', 'fdiv16', 'fdiv86', 'f6'] \n",
      "Precision: 0.7272727272727273 \n",
      "F1: 0.45070422535211263\n",
      "New feature added\n",
      "\n",
      "Features:  ['fdiv21', 'fdiv23', 'fdiv18', 'fdiv36', 'fdiv61', 'fdiv31', 'fdiv64', 'fdiv38', 'fdiv76', 'fdiv68', 'fdiv34', 'fdiv16', 'fdiv86', 'f6', 'fdiv54'] \n",
      "Precision: 0.6811594202898551 \n",
      "F1: 0.4351851851851852\n",
      "New feature ignored\n",
      "\n",
      "Features:  ['fdiv21', 'fdiv23', 'fdiv18', 'fdiv36', 'fdiv61', 'fdiv31', 'fdiv64', 'fdiv38', 'fdiv76', 'fdiv68', 'fdiv34', 'fdiv16', 'fdiv86', 'f6', 'fplus63'] \n",
      "Precision: 0.7285714285714285 \n",
      "F1: 0.4700460829493087\n",
      "New feature added\n",
      "\n",
      "Features:  ['fdiv21', 'fdiv23', 'fdiv18', 'fdiv36', 'fdiv61', 'fdiv31', 'fdiv64', 'fdiv38', 'fdiv76', 'fdiv68', 'fdiv34', 'fdiv16', 'fdiv86', 'f6', 'fplus63', 'd_score'] \n",
      "Precision: 0.7162162162162162 \n",
      "F1: 0.4796380090497738\n",
      "New feature added\n",
      "\n",
      "Features:  ['fdiv21', 'fdiv23', 'fdiv18', 'fdiv36', 'fdiv61', 'fdiv31', 'fdiv64', 'fdiv38', 'fdiv76', 'fdiv68', 'fdiv34', 'fdiv16', 'fdiv86', 'f6', 'fplus63', 'd_score', 'fmin63'] \n",
      "Precision: 0.7323943661971831 \n",
      "F1: 0.4770642201834862\n",
      "New feature added\n",
      "\n",
      "Features:  ['fdiv21', 'fdiv23', 'fdiv18', 'fdiv36', 'fdiv61', 'fdiv31', 'fdiv64', 'fdiv38', 'fdiv76', 'fdiv68', 'fdiv34', 'fdiv16', 'fdiv86', 'f6', 'fplus63', 'd_score', 'fmin63', 'fdiv35'] \n",
      "Precision: 0.7571428571428571 \n",
      "F1: 0.48847926267281105\n",
      "New feature added\n",
      "\n",
      "Features:  ['fdiv21', 'fdiv23', 'fdiv18', 'fdiv36', 'fdiv61', 'fdiv31', 'fdiv64', 'fdiv38', 'fdiv76', 'fdiv68', 'fdiv34', 'fdiv16', 'fdiv86', 'f6', 'fplus63', 'd_score', 'fmin63', 'fdiv35', 'fdiv26'] \n",
      "Precision: 0.7464788732394366 \n",
      "F1: 0.48623853211009177\n",
      "New feature ignored\n",
      "\n",
      "Features:  ['fdiv21', 'fdiv23', 'fdiv18', 'fdiv36', 'fdiv61', 'fdiv31', 'fdiv64', 'fdiv38', 'fdiv76', 'fdiv68', 'fdiv34', 'fdiv16', 'fdiv86', 'f6', 'fplus63', 'd_score', 'fmin63', 'fdiv35', 'fplus36'] \n",
      "Precision: 0.7123287671232876 \n",
      "F1: 0.4727272727272728\n",
      "New feature ignored\n",
      "\n",
      "Features:  ['fdiv21', 'fdiv23', 'fdiv18', 'fdiv36', 'fdiv61', 'fdiv31', 'fdiv64', 'fdiv38', 'fdiv76', 'fdiv68', 'fdiv34', 'fdiv16', 'fdiv86', 'f6', 'fplus63', 'd_score', 'fmin63', 'fdiv35', 'fmin36'] \n",
      "Precision: 0.726027397260274 \n",
      "F1: 0.48181818181818187\n",
      "New feature added\n",
      "\n",
      "Features:  ['fdiv21', 'fdiv23', 'fdiv18', 'fdiv36', 'fdiv61', 'fdiv31', 'fdiv64', 'fdiv38', 'fdiv76', 'fdiv68', 'fdiv34', 'fdiv16', 'fdiv86', 'f6', 'fplus63', 'd_score', 'fmin63', 'fdiv35', 'fmin36', 'fdiv27'] \n",
      "Precision: 0.7285714285714285 \n",
      "F1: 0.4700460829493087\n",
      "New feature ignored\n",
      "\n",
      "Features:  ['fdiv21', 'fdiv23', 'fdiv18', 'fdiv36', 'fdiv61', 'fdiv31', 'fdiv64', 'fdiv38', 'fdiv76', 'fdiv68', 'fdiv34', 'fdiv16', 'fdiv86', 'f6', 'fplus63', 'd_score', 'fmin63', 'fdiv35', 'fmin36', 'fdiv73'] \n",
      "Precision: 0.7123287671232876 \n",
      "F1: 0.4727272727272728\n",
      "New feature ignored\n",
      "\n",
      "Features:  ['fdiv21', 'fdiv23', 'fdiv18', 'fdiv36', 'fdiv61', 'fdiv31', 'fdiv64', 'fdiv38', 'fdiv76', 'fdiv68', 'fdiv34', 'fdiv16', 'fdiv86', 'f6', 'fplus63', 'd_score', 'fmin63', 'fdiv35', 'fmin36', 'fdiv17'] \n",
      "Precision: 0.7285714285714285 \n",
      "F1: 0.4700460829493087\n",
      "New feature added\n",
      "\n",
      "Features:  ['fdiv21', 'fdiv23', 'fdiv18', 'fdiv36', 'fdiv61', 'fdiv31', 'fdiv64', 'fdiv38', 'fdiv76', 'fdiv68', 'fdiv34', 'fdiv16', 'fdiv86', 'f6', 'fplus63', 'd_score', 'fmin63', 'fdiv35', 'fmin36', 'fdiv17', 'fmult63'] \n",
      "Precision: 0.75 \n",
      "F1: 0.4744186046511628\n",
      "New feature added\n",
      "\n",
      "Features:  ['fdiv21', 'fdiv23', 'fdiv18', 'fdiv36', 'fdiv61', 'fdiv31', 'fdiv64', 'fdiv38', 'fdiv76', 'fdiv68', 'fdiv34', 'fdiv16', 'fdiv86', 'f6', 'fplus63', 'd_score', 'fmin63', 'fdiv35', 'fmin36', 'fdiv17', 'fmult63', 'fmin12'] \n",
      "Precision: 0.75 \n",
      "F1: 0.4744186046511628\n",
      "New feature ignored\n",
      "\n",
      "Features:  ['fdiv21', 'fdiv23', 'fdiv18', 'fdiv36', 'fdiv61', 'fdiv31', 'fdiv64', 'fdiv38', 'fdiv76', 'fdiv68', 'fdiv34', 'fdiv16', 'fdiv86', 'f6', 'fplus63', 'd_score', 'fmin63', 'fdiv35', 'fmin36', 'fdiv17', 'fmult63', 'fmult36'] \n",
      "Precision: 0.7246376811594203 \n",
      "F1: 0.4629629629629629\n",
      "New feature ignored\n",
      "\n",
      "Features:  ['fdiv21', 'fdiv23', 'fdiv18', 'fdiv36', 'fdiv61', 'fdiv31', 'fdiv64', 'fdiv38', 'fdiv76', 'fdiv68', 'fdiv34', 'fdiv16', 'fdiv86', 'f6', 'fplus63', 'd_score', 'fmin63', 'fdiv35', 'fmin36', 'fdiv17', 'fmult63', 'fmin21'] \n",
      "Precision: 0.7391304347826086 \n",
      "F1: 0.4722222222222222\n",
      "New feature added\n",
      "\n",
      "Features:  ['fdiv21', 'fdiv23', 'fdiv18', 'fdiv36', 'fdiv61', 'fdiv31', 'fdiv64', 'fdiv38', 'fdiv76', 'fdiv68', 'fdiv34', 'fdiv16', 'fdiv86', 'f6', 'fplus63', 'd_score', 'fmin63', 'fdiv35', 'fmin36', 'fdiv17', 'fmult63', 'fmin21', 'fmin62'] \n",
      "Precision: 0.7285714285714285 \n",
      "F1: 0.4700460829493087\n",
      "New feature ignored\n",
      "\n",
      "Features:  ['fdiv21', 'fdiv23', 'fdiv18', 'fdiv36', 'fdiv61', 'fdiv31', 'fdiv64', 'fdiv38', 'fdiv76', 'fdiv68', 'fdiv34', 'fdiv16', 'fdiv86', 'f6', 'fplus63', 'd_score', 'fmin63', 'fdiv35', 'fmin36', 'fdiv17', 'fmult63', 'fmin21', 'fdiv12'] \n",
      "Precision: 0.7352941176470589 \n",
      "F1: 0.46511627906976744\n",
      "New feature added\n",
      "\n",
      "Features:  ['fdiv21', 'fdiv23', 'fdiv18', 'fdiv36', 'fdiv61', 'fdiv31', 'fdiv64', 'fdiv38', 'fdiv76', 'fdiv68', 'fdiv34', 'fdiv16', 'fdiv86', 'f6', 'fplus63', 'd_score', 'fmin63', 'fdiv35', 'fmin36', 'fdiv17', 'fmult63', 'fmin21', 'fdiv12', 'fdiv78'] \n",
      "Precision: 0.746268656716418 \n",
      "F1: 0.46728971962616817\n",
      "New feature added\n",
      "\n",
      "Features:  ['fdiv21', 'fdiv23', 'fdiv18', 'fdiv36', 'fdiv61', 'fdiv31', 'fdiv64', 'fdiv38', 'fdiv76', 'fdiv68', 'fdiv34', 'fdiv16', 'fdiv86', 'f6', 'fplus63', 'd_score', 'fmin63', 'fdiv35', 'fmin36', 'fdiv17', 'fmult63', 'fmin21', 'fdiv12', 'fdiv78', 'fdiv87'] \n",
      "Precision: 0.7714285714285715 \n",
      "F1: 0.4976958525345622\n",
      "New feature added\n",
      "\n"
     ]
    },
    {
     "name": "stdout",
     "output_type": "stream",
     "text": [
      "Features:  ['fdiv21', 'fdiv23', 'fdiv18', 'fdiv36', 'fdiv61', 'fdiv31', 'fdiv64', 'fdiv38', 'fdiv76', 'fdiv68', 'fdiv34', 'fdiv16', 'fdiv86', 'f6', 'fplus63', 'd_score', 'fmin63', 'fdiv35', 'fmin36', 'fdiv17', 'fmult63', 'fmin21', 'fdiv12', 'fdiv78', 'fdiv87', 'fdiv65'] \n",
      "Precision: 0.7671232876712328 \n",
      "F1: 0.509090909090909\n",
      "New feature added\n",
      "\n",
      "Features:  ['fdiv21', 'fdiv23', 'fdiv18', 'fdiv36', 'fdiv61', 'fdiv31', 'fdiv64', 'fdiv38', 'fdiv76', 'fdiv68', 'fdiv34', 'fdiv16', 'fdiv86', 'f6', 'fplus63', 'd_score', 'fmin63', 'fdiv35', 'fmin36', 'fdiv17', 'fmult63', 'fmin21', 'fdiv12', 'fdiv78', 'fdiv87', 'fdiv65', 'fdiv67'] \n",
      "Precision: 0.75 \n",
      "F1: 0.4744186046511628\n",
      "New feature ignored\n",
      "\n",
      "Features:  ['fdiv21', 'fdiv23', 'fdiv18', 'fdiv36', 'fdiv61', 'fdiv31', 'fdiv64', 'fdiv38', 'fdiv76', 'fdiv68', 'fdiv34', 'fdiv16', 'fdiv86', 'f6', 'fplus63', 'd_score', 'fmin63', 'fdiv35', 'fmin36', 'fdiv17', 'fmult63', 'fmin21', 'fdiv12', 'fdiv78', 'fdiv87', 'fdiv65', 'fmin17'] \n",
      "Precision: 0.7466666666666667 \n",
      "F1: 0.5045045045045046\n",
      "New feature added\n",
      "\n",
      "Features:  ['fdiv21', 'fdiv23', 'fdiv18', 'fdiv36', 'fdiv61', 'fdiv31', 'fdiv64', 'fdiv38', 'fdiv76', 'fdiv68', 'fdiv34', 'fdiv16', 'fdiv86', 'f6', 'fplus63', 'd_score', 'fmin63', 'fdiv35', 'fmin36', 'fdiv17', 'fmult63', 'fmin21', 'fdiv12', 'fdiv78', 'fdiv87', 'fdiv65', 'fmin17', 'fmin71'] \n",
      "Precision: 0.7808219178082192 \n",
      "F1: 0.5181818181818181\n",
      "New feature added\n",
      "\n",
      "Features:  ['fdiv21', 'fdiv23', 'fdiv18', 'fdiv36', 'fdiv61', 'fdiv31', 'fdiv64', 'fdiv38', 'fdiv76', 'fdiv68', 'fdiv34', 'fdiv16', 'fdiv86', 'f6', 'fplus63', 'd_score', 'fmin63', 'fdiv35', 'fmin36', 'fdiv17', 'fmult63', 'fmin21', 'fdiv12', 'fdiv78', 'fdiv87', 'fdiv65', 'fmin17', 'fmin71', 'fdiv15'] \n",
      "Precision: 0.7397260273972602 \n",
      "F1: 0.49090909090909085\n",
      "New feature ignored\n",
      "\n",
      "Features:  ['fdiv21', 'fdiv23', 'fdiv18', 'fdiv36', 'fdiv61', 'fdiv31', 'fdiv64', 'fdiv38', 'fdiv76', 'fdiv68', 'fdiv34', 'fdiv16', 'fdiv86', 'f6', 'fplus63', 'd_score', 'fmin63', 'fdiv35', 'fmin36', 'fdiv17', 'fmult63', 'fmin21', 'fdiv12', 'fdiv78', 'fdiv87', 'fdiv65', 'fmin17', 'fmin71', 'fdiv72'] \n",
      "Precision: 0.7746478873239436 \n",
      "F1: 0.5045871559633027\n",
      "New feature added\n",
      "\n",
      "Features:  ['fdiv21', 'fdiv23', 'fdiv18', 'fdiv36', 'fdiv61', 'fdiv31', 'fdiv64', 'fdiv38', 'fdiv76', 'fdiv68', 'fdiv34', 'fdiv16', 'fdiv86', 'f6', 'fplus63', 'd_score', 'fmin63', 'fdiv35', 'fmin36', 'fdiv17', 'fmult63', 'fmin21', 'fdiv12', 'fdiv78', 'fdiv87', 'fdiv65', 'fmin17', 'fmin71', 'fdiv72', 'fdiv82'] \n",
      "Precision: 0.7837837837837838 \n",
      "F1: 0.5248868778280543\n",
      "New feature added\n",
      "\n",
      "Features:  ['fdiv21', 'fdiv23', 'fdiv18', 'fdiv36', 'fdiv61', 'fdiv31', 'fdiv64', 'fdiv38', 'fdiv76', 'fdiv68', 'fdiv34', 'fdiv16', 'fdiv86', 'f6', 'fplus63', 'd_score', 'fmin63', 'fdiv35', 'fmin36', 'fdiv17', 'fmult63', 'fmin21', 'fdiv12', 'fdiv78', 'fdiv87', 'fdiv65', 'fmin17', 'fmin71', 'fdiv72', 'fdiv82', 'fmin27'] \n",
      "Precision: 0.7638888888888888 \n",
      "F1: 0.502283105022831\n",
      "New feature ignored\n",
      "\n",
      "Features:  ['fdiv21', 'fdiv23', 'fdiv18', 'fdiv36', 'fdiv61', 'fdiv31', 'fdiv64', 'fdiv38', 'fdiv76', 'fdiv68', 'fdiv34', 'fdiv16', 'fdiv86', 'f6', 'fplus63', 'd_score', 'fmin63', 'fdiv35', 'fmin36', 'fdiv17', 'fmult63', 'fmin21', 'fdiv12', 'fdiv78', 'fdiv87', 'fdiv65', 'fmin17', 'fmin71', 'fdiv72', 'fdiv82', 'fdiv25'] \n",
      "Precision: 0.7534246575342466 \n",
      "F1: 0.5\n",
      "New feature ignored\n",
      "\n",
      "Features:  ['fdiv21', 'fdiv23', 'fdiv18', 'fdiv36', 'fdiv61', 'fdiv31', 'fdiv64', 'fdiv38', 'fdiv76', 'fdiv68', 'fdiv34', 'fdiv16', 'fdiv86', 'f6', 'fplus63', 'd_score', 'fmin63', 'fdiv35', 'fmin36', 'fdiv17', 'fmult63', 'fmin21', 'fdiv12', 'fdiv78', 'fdiv87', 'fdiv65', 'fmin17', 'fmin71', 'fdiv72', 'fdiv82', 'fmin26'] \n",
      "Precision: 0.76 \n",
      "F1: 0.5135135135135135\n",
      "New feature added\n",
      "\n",
      "Features:  ['fdiv21', 'fdiv23', 'fdiv18', 'fdiv36', 'fdiv61', 'fdiv31', 'fdiv64', 'fdiv38', 'fdiv76', 'fdiv68', 'fdiv34', 'fdiv16', 'fdiv86', 'f6', 'fplus63', 'd_score', 'fmin63', 'fdiv35', 'fmin36', 'fdiv17', 'fmult63', 'fmin21', 'fdiv12', 'fdiv78', 'fdiv87', 'fdiv65', 'fmin17', 'fmin71', 'fdiv72', 'fdiv82', 'fmin26', 'fmin32'] \n",
      "Precision: 0.7638888888888888 \n",
      "F1: 0.502283105022831\n",
      "New feature ignored\n",
      "\n",
      "Features:  ['fdiv21', 'fdiv23', 'fdiv18', 'fdiv36', 'fdiv61', 'fdiv31', 'fdiv64', 'fdiv38', 'fdiv76', 'fdiv68', 'fdiv34', 'fdiv16', 'fdiv86', 'f6', 'fplus63', 'd_score', 'fmin63', 'fdiv35', 'fmin36', 'fdiv17', 'fmult63', 'fmin21', 'fdiv12', 'fdiv78', 'fdiv87', 'fdiv65', 'fmin17', 'fmin71', 'fdiv72', 'fdiv82', 'fmin26', 'fmin23'] \n",
      "Precision: 0.8055555555555556 \n",
      "F1: 0.5296803652968037\n",
      "New feature added\n",
      "\n",
      "Features:  ['fdiv21', 'fdiv23', 'fdiv18', 'fdiv36', 'fdiv61', 'fdiv31', 'fdiv64', 'fdiv38', 'fdiv76', 'fdiv68', 'fdiv34', 'fdiv16', 'fdiv86', 'f6', 'fplus63', 'd_score', 'fmin63', 'fdiv35', 'fmin36', 'fdiv17', 'fmult63', 'fmin21', 'fdiv12', 'fdiv78', 'fdiv87', 'fdiv65', 'fmin17', 'fmin71', 'fdiv72', 'fdiv82', 'fmin26', 'fmin23', 'fmin72'] \n",
      "Precision: 0.7466666666666667 \n",
      "F1: 0.5045045045045046\n",
      "New feature ignored\n",
      "\n",
      "Features:  ['fdiv21', 'fdiv23', 'fdiv18', 'fdiv36', 'fdiv61', 'fdiv31', 'fdiv64', 'fdiv38', 'fdiv76', 'fdiv68', 'fdiv34', 'fdiv16', 'fdiv86', 'f6', 'fplus63', 'd_score', 'fmin63', 'fdiv35', 'fmin36', 'fdiv17', 'fmult63', 'fmin21', 'fdiv12', 'fdiv78', 'fdiv87', 'fdiv65', 'fmin17', 'fmin71', 'fdiv72', 'fdiv82', 'fmin26', 'fmin23', 'f2'] \n",
      "Precision: 0.7466666666666667 \n",
      "F1: 0.5045045045045046\n",
      "New feature ignored\n",
      "\n",
      "Features:  ['fdiv21', 'fdiv23', 'fdiv18', 'fdiv36', 'fdiv61', 'fdiv31', 'fdiv64', 'fdiv38', 'fdiv76', 'fdiv68', 'fdiv34', 'fdiv16', 'fdiv86', 'f6', 'fplus63', 'd_score', 'fmin63', 'fdiv35', 'fmin36', 'fdiv17', 'fmult63', 'fmin21', 'fdiv12', 'fdiv78', 'fdiv87', 'fdiv65', 'fmin17', 'fmin71', 'fdiv72', 'fdiv82', 'fmin26', 'fmin23', 'fplus32'] \n",
      "Precision: 0.76 \n",
      "F1: 0.5135135135135135\n",
      "New feature added\n",
      "\n",
      "Features:  ['fdiv21', 'fdiv23', 'fdiv18', 'fdiv36', 'fdiv61', 'fdiv31', 'fdiv64', 'fdiv38', 'fdiv76', 'fdiv68', 'fdiv34', 'fdiv16', 'fdiv86', 'f6', 'fplus63', 'd_score', 'fmin63', 'fdiv35', 'fmin36', 'fdiv17', 'fmult63', 'fmin21', 'fdiv12', 'fdiv78', 'fdiv87', 'fdiv65', 'fmin17', 'fmin71', 'fdiv72', 'fdiv82', 'fmin26', 'fmin23', 'fplus32', 'fplus62'] \n",
      "Precision: 0.7671232876712328 \n",
      "F1: 0.509090909090909\n",
      "New feature added\n",
      "\n",
      "Features:  ['fdiv21', 'fdiv23', 'fdiv18', 'fdiv36', 'fdiv61', 'fdiv31', 'fdiv64', 'fdiv38', 'fdiv76', 'fdiv68', 'fdiv34', 'fdiv16', 'fdiv86', 'f6', 'fplus63', 'd_score', 'fmin63', 'fdiv35', 'fmin36', 'fdiv17', 'fmult63', 'fmin21', 'fdiv12', 'fdiv78', 'fdiv87', 'fdiv65', 'fmin17', 'fmin71', 'fdiv72', 'fdiv82', 'fmin26', 'fmin23', 'fplus32', 'fplus62', 'fdiv81'] \n",
      "Precision: 0.7631578947368421 \n",
      "F1: 0.5201793721973095\n",
      "New feature added\n",
      "\n",
      "Features:  ['fdiv21', 'fdiv23', 'fdiv18', 'fdiv36', 'fdiv61', 'fdiv31', 'fdiv64', 'fdiv38', 'fdiv76', 'fdiv68', 'fdiv34', 'fdiv16', 'fdiv86', 'f6', 'fplus63', 'd_score', 'fmin63', 'fdiv35', 'fmin36', 'fdiv17', 'fmult63', 'fmin21', 'fdiv12', 'fdiv78', 'fdiv87', 'fdiv65', 'fmin17', 'fmin71', 'fdiv72', 'fdiv82', 'fmin26', 'fmin23', 'fplus32', 'fplus62', 'fdiv81', 'fplus26'] \n",
      "Precision: 0.7777777777777778 \n",
      "F1: 0.5114155251141552\n",
      "New feature added\n",
      "\n"
     ]
    }
   ],
   "source": [
    "ignored_feat = []\n",
    "last_precision = 0\n",
    "last_f1=0\n",
    "last_list = []\n",
    "tol = 0.005\n",
    "num_feat=1\n",
    "for i in range(1, len(imp_feat_lr)):\n",
    "    feat_list=imp_feat_lr.copy()\n",
    "    out = feature_select(X_t=X_t, y_t=y_train, X_p=X_p, y_p=y_test, num_feat=num_feat, ignored_feat=ignored_feat, \n",
    "                         feat_list=feat_list, estimator = CatBoostClassifier(verbose=False, random_state=42))\n",
    "    print('Features: ', out['feat list'].to_list(), '\\nPrecision:', out['precision'], '\\nF1:', out['f1'], end='')\n",
    "    if (out['precision']-last_precision <= tol) and (out['f1']-last_f1 <= tol):\n",
    "        ignored_feat.append(out['feat list'].iloc[-1]) \n",
    "        print('\\nNew feature ignored\\n')\n",
    "        last_precision=out['precision']\n",
    "        last_f1=out['f1']\n",
    "    else:\n",
    "        print('\\nNew feature added\\n')\n",
    "        last_precision=out['precision']\n",
    "        last_f1=out['f1']\n",
    "        num_feat+=1"
   ]
  },
  {
   "cell_type": "code",
   "execution_count": 81,
   "id": "ddd296c8",
   "metadata": {},
   "outputs": [],
   "source": [
    "cbcl = CatBoostClassifier(verbose = False, random_state = 42)\n",
    "lrcl = LogisticRegression(random_state = 42, max_iter = 5000)\n",
    "svcl = SVC(random_state = 42)\n",
    "gbcl = GradientBoostingClassifier(random_state = 42, n_estimators = 100)\n",
    "rfcl = RandomForestClassifier(random_state = 42)"
   ]
  },
  {
   "cell_type": "code",
   "execution_count": 46,
   "id": "26ec64b0",
   "metadata": {},
   "outputs": [],
   "source": [
    "X1 = X.drop(columns = [i for i in not_imp_feat_lr['Feature']])[out['feat list']]"
   ]
  },
  {
   "cell_type": "code",
   "execution_count": 47,
   "id": "93aa929a",
   "metadata": {},
   "outputs": [],
   "source": [
    "X_train, X_test, y_train, y_test = train_test_split(X1, y, test_size=0.2, random_state=42)\n",
    "X_test, X_val, y_test, y_val = train_test_split(X_test, y_test, test_size=0.2, random_state=42)"
   ]
  },
  {
   "cell_type": "code",
   "execution_count": 84,
   "id": "824c6c9f",
   "metadata": {},
   "outputs": [
    {
     "data": {
      "text/html": [
       "<div>\n",
       "<style scoped>\n",
       "    .dataframe tbody tr th:only-of-type {\n",
       "        vertical-align: middle;\n",
       "    }\n",
       "\n",
       "    .dataframe tbody tr th {\n",
       "        vertical-align: top;\n",
       "    }\n",
       "\n",
       "    .dataframe thead th {\n",
       "        text-align: right;\n",
       "    }\n",
       "</style>\n",
       "<table border=\"1\" class=\"dataframe\">\n",
       "  <thead>\n",
       "    <tr style=\"text-align: right;\">\n",
       "      <th></th>\n",
       "      <th>fdiv21</th>\n",
       "      <th>fdiv23</th>\n",
       "      <th>fdiv18</th>\n",
       "      <th>fdiv36</th>\n",
       "      <th>fdiv61</th>\n",
       "      <th>fdiv31</th>\n",
       "      <th>fdiv64</th>\n",
       "      <th>fdiv38</th>\n",
       "      <th>fdiv76</th>\n",
       "      <th>fdiv68</th>\n",
       "      <th>...</th>\n",
       "      <th>fmin17</th>\n",
       "      <th>fmin71</th>\n",
       "      <th>fdiv72</th>\n",
       "      <th>fdiv82</th>\n",
       "      <th>fmin26</th>\n",
       "      <th>fmin23</th>\n",
       "      <th>fplus32</th>\n",
       "      <th>fplus62</th>\n",
       "      <th>fdiv81</th>\n",
       "      <th>fplus26</th>\n",
       "    </tr>\n",
       "  </thead>\n",
       "  <tbody>\n",
       "    <tr>\n",
       "      <th>1746</th>\n",
       "      <td>1.00000</td>\n",
       "      <td>1.200000</td>\n",
       "      <td>0.500000</td>\n",
       "      <td>1.123596</td>\n",
       "      <td>0.741667</td>\n",
       "      <td>0.833333</td>\n",
       "      <td>0.222500</td>\n",
       "      <td>0.416667</td>\n",
       "      <td>2.247191</td>\n",
       "      <td>0.370833</td>\n",
       "      <td>...</td>\n",
       "      <td>-4</td>\n",
       "      <td>4</td>\n",
       "      <td>1.666667</td>\n",
       "      <td>2.000000</td>\n",
       "      <td>1.550000</td>\n",
       "      <td>1.000000</td>\n",
       "      <td>11.000000</td>\n",
       "      <td>10.450000</td>\n",
       "      <td>2.000000</td>\n",
       "      <td>10.450000</td>\n",
       "    </tr>\n",
       "    <tr>\n",
       "      <th>1967</th>\n",
       "      <td>1.00000</td>\n",
       "      <td>0.200000</td>\n",
       "      <td>0.015385</td>\n",
       "      <td>1.030641</td>\n",
       "      <td>4.851351</td>\n",
       "      <td>5.000000</td>\n",
       "      <td>0.032779</td>\n",
       "      <td>0.076923</td>\n",
       "      <td>10.306407</td>\n",
       "      <td>0.074636</td>\n",
       "      <td>...</td>\n",
       "      <td>-49</td>\n",
       "      <td>49</td>\n",
       "      <td>50.000000</td>\n",
       "      <td>65.000000</td>\n",
       "      <td>-3.851351</td>\n",
       "      <td>-4.000000</td>\n",
       "      <td>6.000000</td>\n",
       "      <td>5.851351</td>\n",
       "      <td>65.000000</td>\n",
       "      <td>5.851351</td>\n",
       "    </tr>\n",
       "    <tr>\n",
       "      <th>2756</th>\n",
       "      <td>1.00000</td>\n",
       "      <td>2.454545</td>\n",
       "      <td>0.157895</td>\n",
       "      <td>0.941294</td>\n",
       "      <td>0.432817</td>\n",
       "      <td>0.407407</td>\n",
       "      <td>0.022647</td>\n",
       "      <td>0.064327</td>\n",
       "      <td>7.701493</td>\n",
       "      <td>0.068339</td>\n",
       "      <td>...</td>\n",
       "      <td>-21</td>\n",
       "      <td>21</td>\n",
       "      <td>3.333333</td>\n",
       "      <td>6.333333</td>\n",
       "      <td>5.104651</td>\n",
       "      <td>5.333333</td>\n",
       "      <td>12.666667</td>\n",
       "      <td>12.895349</td>\n",
       "      <td>6.333333</td>\n",
       "      <td>12.895349</td>\n",
       "    </tr>\n",
       "    <tr>\n",
       "      <th>3119</th>\n",
       "      <td>1.00000</td>\n",
       "      <td>1.828571</td>\n",
       "      <td>0.444444</td>\n",
       "      <td>1.045849</td>\n",
       "      <td>0.522901</td>\n",
       "      <td>0.546875</td>\n",
       "      <td>0.031933</td>\n",
       "      <td>0.243056</td>\n",
       "      <td>4.302920</td>\n",
       "      <td>0.232400</td>\n",
       "      <td>...</td>\n",
       "      <td>-10</td>\n",
       "      <td>10</td>\n",
       "      <td>2.250000</td>\n",
       "      <td>2.250000</td>\n",
       "      <td>3.816794</td>\n",
       "      <td>3.625000</td>\n",
       "      <td>12.375000</td>\n",
       "      <td>12.183206</td>\n",
       "      <td>2.250000</td>\n",
       "      <td>12.183206</td>\n",
       "    </tr>\n",
       "    <tr>\n",
       "      <th>2488</th>\n",
       "      <td>1.00000</td>\n",
       "      <td>1.928571</td>\n",
       "      <td>0.360000</td>\n",
       "      <td>1.020460</td>\n",
       "      <td>0.508122</td>\n",
       "      <td>0.518519</td>\n",
       "      <td>0.026743</td>\n",
       "      <td>0.186667</td>\n",
       "      <td>4.154731</td>\n",
       "      <td>0.182924</td>\n",
       "      <td>...</td>\n",
       "      <td>-10</td>\n",
       "      <td>10</td>\n",
       "      <td>2.111111</td>\n",
       "      <td>2.777778</td>\n",
       "      <td>4.426901</td>\n",
       "      <td>4.333333</td>\n",
       "      <td>13.666667</td>\n",
       "      <td>13.573099</td>\n",
       "      <td>2.777778</td>\n",
       "      <td>13.573099</td>\n",
       "    </tr>\n",
       "    <tr>\n",
       "      <th>...</th>\n",
       "      <td>...</td>\n",
       "      <td>...</td>\n",
       "      <td>...</td>\n",
       "      <td>...</td>\n",
       "      <td>...</td>\n",
       "      <td>...</td>\n",
       "      <td>...</td>\n",
       "      <td>...</td>\n",
       "      <td>...</td>\n",
       "      <td>...</td>\n",
       "      <td>...</td>\n",
       "      <td>...</td>\n",
       "      <td>...</td>\n",
       "      <td>...</td>\n",
       "      <td>...</td>\n",
       "      <td>...</td>\n",
       "      <td>...</td>\n",
       "      <td>...</td>\n",
       "      <td>...</td>\n",
       "      <td>...</td>\n",
       "      <td>...</td>\n",
       "    </tr>\n",
       "    <tr>\n",
       "      <th>3092</th>\n",
       "      <td>0.96875</td>\n",
       "      <td>13.139073</td>\n",
       "      <td>0.542373</td>\n",
       "      <td>1.011161</td>\n",
       "      <td>0.072917</td>\n",
       "      <td>0.073730</td>\n",
       "      <td>0.067633</td>\n",
       "      <td>0.039989</td>\n",
       "      <td>17.571429</td>\n",
       "      <td>0.039548</td>\n",
       "      <td>...</td>\n",
       "      <td>-18</td>\n",
       "      <td>18</td>\n",
       "      <td>1.322581</td>\n",
       "      <td>1.903226</td>\n",
       "      <td>57.333333</td>\n",
       "      <td>57.281250</td>\n",
       "      <td>66.718750</td>\n",
       "      <td>66.666667</td>\n",
       "      <td>1.843750</td>\n",
       "      <td>66.666667</td>\n",
       "    </tr>\n",
       "    <tr>\n",
       "      <th>1095</th>\n",
       "      <td>1.00000</td>\n",
       "      <td>2.857143</td>\n",
       "      <td>0.058140</td>\n",
       "      <td>0.753262</td>\n",
       "      <td>0.464646</td>\n",
       "      <td>0.350000</td>\n",
       "      <td>0.004334</td>\n",
       "      <td>0.020349</td>\n",
       "      <td>24.750050</td>\n",
       "      <td>0.027014</td>\n",
       "      <td>...</td>\n",
       "      <td>-105</td>\n",
       "      <td>105</td>\n",
       "      <td>11.500000</td>\n",
       "      <td>17.200000</td>\n",
       "      <td>5.353545</td>\n",
       "      <td>6.500000</td>\n",
       "      <td>13.500000</td>\n",
       "      <td>14.646455</td>\n",
       "      <td>17.200000</td>\n",
       "      <td>14.646455</td>\n",
       "    </tr>\n",
       "    <tr>\n",
       "      <th>1130</th>\n",
       "      <td>1.00000</td>\n",
       "      <td>6.364238</td>\n",
       "      <td>0.462687</td>\n",
       "      <td>1.110128</td>\n",
       "      <td>0.141540</td>\n",
       "      <td>0.157128</td>\n",
       "      <td>0.089546</td>\n",
       "      <td>0.072701</td>\n",
       "      <td>8.888372</td>\n",
       "      <td>0.065489</td>\n",
       "      <td>...</td>\n",
       "      <td>-8</td>\n",
       "      <td>8</td>\n",
       "      <td>1.258065</td>\n",
       "      <td>2.161290</td>\n",
       "      <td>26.612245</td>\n",
       "      <td>26.129032</td>\n",
       "      <td>35.870968</td>\n",
       "      <td>35.387755</td>\n",
       "      <td>2.161290</td>\n",
       "      <td>35.387755</td>\n",
       "    </tr>\n",
       "    <tr>\n",
       "      <th>1294</th>\n",
       "      <td>1.00000</td>\n",
       "      <td>2.823529</td>\n",
       "      <td>0.164384</td>\n",
       "      <td>0.850000</td>\n",
       "      <td>0.416667</td>\n",
       "      <td>0.354167</td>\n",
       "      <td>0.250000</td>\n",
       "      <td>0.058219</td>\n",
       "      <td>4.600000</td>\n",
       "      <td>0.068493</td>\n",
       "      <td>...</td>\n",
       "      <td>-11</td>\n",
       "      <td>11</td>\n",
       "      <td>1.916667</td>\n",
       "      <td>6.083333</td>\n",
       "      <td>7.000000</td>\n",
       "      <td>7.750000</td>\n",
       "      <td>16.250000</td>\n",
       "      <td>17.000000</td>\n",
       "      <td>6.083333</td>\n",
       "      <td>17.000000</td>\n",
       "    </tr>\n",
       "    <tr>\n",
       "      <th>860</th>\n",
       "      <td>0.97500</td>\n",
       "      <td>8.167539</td>\n",
       "      <td>0.400000</td>\n",
       "      <td>1.168133</td>\n",
       "      <td>0.102193</td>\n",
       "      <td>0.119375</td>\n",
       "      <td>0.011952</td>\n",
       "      <td>0.047750</td>\n",
       "      <td>20.060086</td>\n",
       "      <td>0.040877</td>\n",
       "      <td>...</td>\n",
       "      <td>-42</td>\n",
       "      <td>42</td>\n",
       "      <td>2.102564</td>\n",
       "      <td>2.564103</td>\n",
       "      <td>34.912281</td>\n",
       "      <td>34.225000</td>\n",
       "      <td>43.775000</td>\n",
       "      <td>43.087719</td>\n",
       "      <td>2.500000</td>\n",
       "      <td>43.087719</td>\n",
       "    </tr>\n",
       "  </tbody>\n",
       "</table>\n",
       "<p>2498 rows × 36 columns</p>\n",
       "</div>"
      ],
      "text/plain": [
       "       fdiv21     fdiv23    fdiv18    fdiv36    fdiv61    fdiv31    fdiv64  \\\n",
       "1746  1.00000   1.200000  0.500000  1.123596  0.741667  0.833333  0.222500   \n",
       "1967  1.00000   0.200000  0.015385  1.030641  4.851351  5.000000  0.032779   \n",
       "2756  1.00000   2.454545  0.157895  0.941294  0.432817  0.407407  0.022647   \n",
       "3119  1.00000   1.828571  0.444444  1.045849  0.522901  0.546875  0.031933   \n",
       "2488  1.00000   1.928571  0.360000  1.020460  0.508122  0.518519  0.026743   \n",
       "...       ...        ...       ...       ...       ...       ...       ...   \n",
       "3092  0.96875  13.139073  0.542373  1.011161  0.072917  0.073730  0.067633   \n",
       "1095  1.00000   2.857143  0.058140  0.753262  0.464646  0.350000  0.004334   \n",
       "1130  1.00000   6.364238  0.462687  1.110128  0.141540  0.157128  0.089546   \n",
       "1294  1.00000   2.823529  0.164384  0.850000  0.416667  0.354167  0.250000   \n",
       "860   0.97500   8.167539  0.400000  1.168133  0.102193  0.119375  0.011952   \n",
       "\n",
       "        fdiv38     fdiv76    fdiv68  ...  fmin17  fmin71     fdiv72  \\\n",
       "1746  0.416667   2.247191  0.370833  ...      -4       4   1.666667   \n",
       "1967  0.076923  10.306407  0.074636  ...     -49      49  50.000000   \n",
       "2756  0.064327   7.701493  0.068339  ...     -21      21   3.333333   \n",
       "3119  0.243056   4.302920  0.232400  ...     -10      10   2.250000   \n",
       "2488  0.186667   4.154731  0.182924  ...     -10      10   2.111111   \n",
       "...        ...        ...       ...  ...     ...     ...        ...   \n",
       "3092  0.039989  17.571429  0.039548  ...     -18      18   1.322581   \n",
       "1095  0.020349  24.750050  0.027014  ...    -105     105  11.500000   \n",
       "1130  0.072701   8.888372  0.065489  ...      -8       8   1.258065   \n",
       "1294  0.058219   4.600000  0.068493  ...     -11      11   1.916667   \n",
       "860   0.047750  20.060086  0.040877  ...     -42      42   2.102564   \n",
       "\n",
       "         fdiv82     fmin26     fmin23    fplus32    fplus62     fdiv81  \\\n",
       "1746   2.000000   1.550000   1.000000  11.000000  10.450000   2.000000   \n",
       "1967  65.000000  -3.851351  -4.000000   6.000000   5.851351  65.000000   \n",
       "2756   6.333333   5.104651   5.333333  12.666667  12.895349   6.333333   \n",
       "3119   2.250000   3.816794   3.625000  12.375000  12.183206   2.250000   \n",
       "2488   2.777778   4.426901   4.333333  13.666667  13.573099   2.777778   \n",
       "...         ...        ...        ...        ...        ...        ...   \n",
       "3092   1.903226  57.333333  57.281250  66.718750  66.666667   1.843750   \n",
       "1095  17.200000   5.353545   6.500000  13.500000  14.646455  17.200000   \n",
       "1130   2.161290  26.612245  26.129032  35.870968  35.387755   2.161290   \n",
       "1294   6.083333   7.000000   7.750000  16.250000  17.000000   6.083333   \n",
       "860    2.564103  34.912281  34.225000  43.775000  43.087719   2.500000   \n",
       "\n",
       "        fplus26  \n",
       "1746  10.450000  \n",
       "1967   5.851351  \n",
       "2756  12.895349  \n",
       "3119  12.183206  \n",
       "2488  13.573099  \n",
       "...         ...  \n",
       "3092  66.666667  \n",
       "1095  14.646455  \n",
       "1130  35.387755  \n",
       "1294  17.000000  \n",
       "860   43.087719  \n",
       "\n",
       "[2498 rows x 36 columns]"
      ]
     },
     "execution_count": 84,
     "metadata": {},
     "output_type": "execute_result"
    }
   ],
   "source": [
    "X_train"
   ]
  },
  {
   "cell_type": "code",
   "execution_count": 85,
   "id": "45659995",
   "metadata": {},
   "outputs": [
    {
     "data": {
      "text/html": [
       "<style>#sk-container-id-4 {color: black;background-color: white;}#sk-container-id-4 pre{padding: 0;}#sk-container-id-4 div.sk-toggleable {background-color: white;}#sk-container-id-4 label.sk-toggleable__label {cursor: pointer;display: block;width: 100%;margin-bottom: 0;padding: 0.3em;box-sizing: border-box;text-align: center;}#sk-container-id-4 label.sk-toggleable__label-arrow:before {content: \"▸\";float: left;margin-right: 0.25em;color: #696969;}#sk-container-id-4 label.sk-toggleable__label-arrow:hover:before {color: black;}#sk-container-id-4 div.sk-estimator:hover label.sk-toggleable__label-arrow:before {color: black;}#sk-container-id-4 div.sk-toggleable__content {max-height: 0;max-width: 0;overflow: hidden;text-align: left;background-color: #f0f8ff;}#sk-container-id-4 div.sk-toggleable__content pre {margin: 0.2em;color: black;border-radius: 0.25em;background-color: #f0f8ff;}#sk-container-id-4 input.sk-toggleable__control:checked~div.sk-toggleable__content {max-height: 200px;max-width: 100%;overflow: auto;}#sk-container-id-4 input.sk-toggleable__control:checked~label.sk-toggleable__label-arrow:before {content: \"▾\";}#sk-container-id-4 div.sk-estimator input.sk-toggleable__control:checked~label.sk-toggleable__label {background-color: #d4ebff;}#sk-container-id-4 div.sk-label input.sk-toggleable__control:checked~label.sk-toggleable__label {background-color: #d4ebff;}#sk-container-id-4 input.sk-hidden--visually {border: 0;clip: rect(1px 1px 1px 1px);clip: rect(1px, 1px, 1px, 1px);height: 1px;margin: -1px;overflow: hidden;padding: 0;position: absolute;width: 1px;}#sk-container-id-4 div.sk-estimator {font-family: monospace;background-color: #f0f8ff;border: 1px dotted black;border-radius: 0.25em;box-sizing: border-box;margin-bottom: 0.5em;}#sk-container-id-4 div.sk-estimator:hover {background-color: #d4ebff;}#sk-container-id-4 div.sk-parallel-item::after {content: \"\";width: 100%;border-bottom: 1px solid gray;flex-grow: 1;}#sk-container-id-4 div.sk-label:hover label.sk-toggleable__label {background-color: #d4ebff;}#sk-container-id-4 div.sk-serial::before {content: \"\";position: absolute;border-left: 1px solid gray;box-sizing: border-box;top: 0;bottom: 0;left: 50%;z-index: 0;}#sk-container-id-4 div.sk-serial {display: flex;flex-direction: column;align-items: center;background-color: white;padding-right: 0.2em;padding-left: 0.2em;position: relative;}#sk-container-id-4 div.sk-item {position: relative;z-index: 1;}#sk-container-id-4 div.sk-parallel {display: flex;align-items: stretch;justify-content: center;background-color: white;position: relative;}#sk-container-id-4 div.sk-item::before, #sk-container-id-4 div.sk-parallel-item::before {content: \"\";position: absolute;border-left: 1px solid gray;box-sizing: border-box;top: 0;bottom: 0;left: 50%;z-index: -1;}#sk-container-id-4 div.sk-parallel-item {display: flex;flex-direction: column;z-index: 1;position: relative;background-color: white;}#sk-container-id-4 div.sk-parallel-item:first-child::after {align-self: flex-end;width: 50%;}#sk-container-id-4 div.sk-parallel-item:last-child::after {align-self: flex-start;width: 50%;}#sk-container-id-4 div.sk-parallel-item:only-child::after {width: 0;}#sk-container-id-4 div.sk-dashed-wrapped {border: 1px dashed gray;margin: 0 0.4em 0.5em 0.4em;box-sizing: border-box;padding-bottom: 0.4em;background-color: white;}#sk-container-id-4 div.sk-label label {font-family: monospace;font-weight: bold;display: inline-block;line-height: 1.2em;}#sk-container-id-4 div.sk-label-container {text-align: center;}#sk-container-id-4 div.sk-container {/* jupyter's `normalize.less` sets `[hidden] { display: none; }` but bootstrap.min.css set `[hidden] { display: none !important; }` so we also need the `!important` here to be able to override the default hidden behavior on the sphinx rendered scikit-learn.org. See: https://github.com/scikit-learn/scikit-learn/issues/21755 */display: inline-block !important;position: relative;}#sk-container-id-4 div.sk-text-repr-fallback {display: none;}</style><div id=\"sk-container-id-4\" class=\"sk-top-container\"><div class=\"sk-text-repr-fallback\"><pre>RandomForestClassifier(random_state=42)</pre><b>In a Jupyter environment, please rerun this cell to show the HTML representation or trust the notebook. <br />On GitHub, the HTML representation is unable to render, please try loading this page with nbviewer.org.</b></div><div class=\"sk-container\" hidden><div class=\"sk-item\"><div class=\"sk-estimator sk-toggleable\"><input class=\"sk-toggleable__control sk-hidden--visually\" id=\"sk-estimator-id-4\" type=\"checkbox\" checked><label for=\"sk-estimator-id-4\" class=\"sk-toggleable__label sk-toggleable__label-arrow\">RandomForestClassifier</label><div class=\"sk-toggleable__content\"><pre>RandomForestClassifier(random_state=42)</pre></div></div></div></div></div>"
      ],
      "text/plain": [
       "RandomForestClassifier(random_state=42)"
      ]
     },
     "execution_count": 85,
     "metadata": {},
     "output_type": "execute_result"
    }
   ],
   "source": [
    "cbcl.fit(X_train, y_train)\n",
    "lrcl.fit(X_train, y_train)\n",
    "svcl.fit(X_train, y_train)\n",
    "gbcl.fit(X_train, y_train)\n",
    "rfcl.fit(X_train, y_train)"
   ]
  },
  {
   "cell_type": "code",
   "execution_count": 86,
   "id": "68a684ec",
   "metadata": {},
   "outputs": [],
   "source": [
    "y_pred_cb = cbcl.predict(X_test)\n",
    "y_pred_lr = lrcl.predict(X_test)\n",
    "y_pred_sv = svcl.predict(X_test)\n",
    "y_pred_gb = gbcl.predict(X_test)\n",
    "y_pred_rf = rfcl.predict(X_test)"
   ]
  },
  {
   "cell_type": "code",
   "execution_count": 87,
   "id": "b5b0b48b",
   "metadata": {},
   "outputs": [
    {
     "name": "stdout",
     "output_type": "stream",
     "text": [
      "LogReg:  \n",
      "    Precision:  0.7872340425531915 \n",
      "    Recall:  0.25170068027210885 \n",
      "    F1:  0.3814432989690722\n",
      "CatBoost:  \n",
      "    Precision:  0.7777777777777778 \n",
      "    Recall:  0.38095238095238093 \n",
      "    F1:  0.5114155251141552\n",
      "SVM:  \n",
      "    Precision:  0.8571428571428571 \n",
      "    Recall:  0.08163265306122448 \n",
      "    F1:  0.14906832298136644\n",
      "Gradient Boosting:  \n",
      "    Precision:  0.7258064516129032 \n",
      "    Recall:  0.30612244897959184 \n",
      "    F1:  0.430622009569378\n",
      "Random Forest:  \n",
      "    Precision:  0.7058823529411765 \n",
      "    Recall:  0.32653061224489793 \n",
      "    F1:  0.4465116279069767\n"
     ]
    }
   ],
   "source": [
    "print('LogReg: ', \n",
    "      '\\n    Precision: ', precision_score(y_test, y_pred_lr), \n",
    "      '\\n    Recall: ', recall_score(y_test, y_pred_lr),\n",
    "      '\\n    F1: ', f1_score(y_test, y_pred_lr))\n",
    "print('CatBoost: ', \n",
    "      '\\n    Precision: ', precision_score(y_test, y_pred_cb), \n",
    "      '\\n    Recall: ', recall_score(y_test, y_pred_cb),\n",
    "      '\\n    F1: ', f1_score(y_test, y_pred_cb))\n",
    "print('SVM: ', \n",
    "      '\\n    Precision: ', precision_score(y_test, y_pred_sv), \n",
    "      '\\n    Recall: ', recall_score(y_test, y_pred_sv),\n",
    "      '\\n    F1: ', f1_score(y_test, y_pred_sv))\n",
    "print('Gradient Boosting: ', \n",
    "      '\\n    Precision: ', precision_score(y_test, y_pred_gb), \n",
    "      '\\n    Recall: ', recall_score(y_test, y_pred_gb),\n",
    "      '\\n    F1: ', f1_score(y_test, y_pred_gb))\n",
    "print('Random Forest: ', \n",
    "      '\\n    Precision: ', precision_score(y_test, y_pred_rf), \n",
    "      '\\n    Recall: ', recall_score(y_test, y_pred_rf),\n",
    "      '\\n    F1: ', f1_score(y_test, y_pred_rf))"
   ]
  },
  {
   "cell_type": "markdown",
   "id": "9c0b2a6d",
   "metadata": {},
   "source": [
    "params_cb = {\n",
    "    'depth': np.arange(3,8),\n",
    "    'l2_leaf_reg': np.logspace(-10, 10, 20),\n",
    "    'loss_function': ['Logloss', 'CrossEntropy', 'Poisson'],\n",
    "    'random_state': [42],\n",
    "    'iterations': np.arange(10,110, step=10)\n",
    "}\n",
    "params_lr = {\n",
    "    'penalty' : ['l1', 'l2', 'elasticnet', 'none'],\n",
    "    'C' : np.logspace(-4, 4, 20),\n",
    "    'solver' : ['lbfgs','newton-cg','liblinear','sag','saga'],\n",
    "    'max_iter' : [100, 1000,2500, 5000, 7500],\n",
    "    'tol': np.logspace(-6, -4, 10)\n",
    "}"
   ]
  },
  {
   "cell_type": "markdown",
   "id": "e23e9bb5",
   "metadata": {},
   "source": [
    "cb = CatBoostClassifier()\n",
    "cbgs = HalvingGridSearchCV(cb, param_grid = params_cb, verbose=True, cv = 7, n_jobs=-1, scoring = 'precision')"
   ]
  },
  {
   "cell_type": "markdown",
   "id": "9ba2181b",
   "metadata": {},
   "source": [
    "lr = LogisticRegression()\n",
    "lrgs = HalvingGridSearchCV(lr, param_grid = params_lr, verbose=True, cv = 7, n_jobs=-1, scoring = 'precision')"
   ]
  },
  {
   "cell_type": "markdown",
   "id": "abc98ff6",
   "metadata": {},
   "source": [
    "from datetime import datetime"
   ]
  },
  {
   "cell_type": "markdown",
   "id": "174f2715",
   "metadata": {},
   "source": [
    "datetime.now().strftime(\"%d/%m/%y %H:%M:%S\")"
   ]
  },
  {
   "cell_type": "markdown",
   "id": "7b5f01be",
   "metadata": {
    "collapsed": true
   },
   "source": [
    "cb_best = cbgs.fit(X_train, y_train)"
   ]
  },
  {
   "cell_type": "markdown",
   "id": "f4027fbe",
   "metadata": {},
   "source": [
    "datetime.now().strftime(\"%d/%m/%y %H:%M:%S\")"
   ]
  },
  {
   "cell_type": "markdown",
   "id": "a04fb811",
   "metadata": {},
   "source": [
    "pickle.dump(cb_best, open('CatBoostBest.sav', 'wb'))"
   ]
  },
  {
   "cell_type": "markdown",
   "id": "61aefc3f",
   "metadata": {
    "collapsed": true
   },
   "source": [
    "lr_best = lrgs.fit(X_train, y_train)"
   ]
  },
  {
   "cell_type": "markdown",
   "id": "400e0c31",
   "metadata": {},
   "source": [
    "datetime.now().strftime(\"%d/%m/%y %H:%M:%S\")"
   ]
  },
  {
   "cell_type": "markdown",
   "id": "feb78b75",
   "metadata": {},
   "source": [
    "pickle.dump(lr_best, open('LogRegBest.sav', 'wb'))"
   ]
  },
  {
   "cell_type": "code",
   "execution_count": 50,
   "id": "105b8679",
   "metadata": {},
   "outputs": [],
   "source": [
    "cb_best = pickle.load((open('../CatBoostBest.sav', 'rb')))"
   ]
  },
  {
   "cell_type": "code",
   "execution_count": 51,
   "id": "a7eb737d",
   "metadata": {},
   "outputs": [
    {
     "data": {
      "text/plain": [
       "{'depth': 3,\n",
       " 'iterations': 40,\n",
       " 'l2_leaf_reg': 0.00020691380811147902,\n",
       " 'loss_function': 'Logloss',\n",
       " 'random_state': 42}"
      ]
     },
     "execution_count": 51,
     "metadata": {},
     "output_type": "execute_result"
    }
   ],
   "source": [
    "cb_best.best_params_"
   ]
  },
  {
   "cell_type": "markdown",
   "id": "ebe92030",
   "metadata": {},
   "source": [
    "lr_best.best_params_"
   ]
  },
  {
   "cell_type": "code",
   "execution_count": 52,
   "id": "5c911c9c",
   "metadata": {},
   "outputs": [],
   "source": [
    "y_pred_cb = cb_best.best_estimator_.predict(X_test)"
   ]
  },
  {
   "cell_type": "markdown",
   "id": "531da710",
   "metadata": {},
   "source": [
    "y_pred_lr = lr_best.best_estimator_.predict(X_test)"
   ]
  },
  {
   "cell_type": "code",
   "execution_count": 53,
   "id": "1bc84e1e",
   "metadata": {},
   "outputs": [
    {
     "name": "stdout",
     "output_type": "stream",
     "text": [
      "CatBoost:  \n",
      "    Precision:  0.8571428571428571 \n",
      "    Recall:  0.20408163265306123 \n",
      "    F1:  0.3296703296703297\n"
     ]
    }
   ],
   "source": [
    "# print('LogReg: ', \n",
    "#       '\\n    Precision: ', precision_score(y_test, y_pred_lr), \n",
    "#       '\\n    Recall: ', recall_score(y_test, y_pred_lr),\n",
    "#       '\\n    F1: ', f1_score(y_test, y_pred_lr))\n",
    "print('CatBoost: ', \n",
    "      '\\n    Precision: ', precision_score(y_test, y_pred_cb), \n",
    "      '\\n    Recall: ', recall_score(y_test, y_pred_cb),\n",
    "      '\\n    F1: ', f1_score(y_test, y_pred_cb))"
   ]
  },
  {
   "cell_type": "code",
   "execution_count": 54,
   "id": "7e544e5e",
   "metadata": {},
   "outputs": [],
   "source": [
    "cf_mx_cb = confusion_matrix(y_test, y_pred_cb)"
   ]
  },
  {
   "cell_type": "code",
   "execution_count": 55,
   "id": "17cfabb7",
   "metadata": {},
   "outputs": [
    {
     "data": {
      "text/plain": [
       "<Axes: >"
      ]
     },
     "execution_count": 55,
     "metadata": {},
     "output_type": "execute_result"
    },
    {
     "data": {
      "image/png": "[encoded data removed]",
      "text/plain": [
       "<Figure size 1000x700 with 2 Axes>"
      ]
     },
     "metadata": {},
     "output_type": "display_data"
    }
   ],
   "source": [
    "sns.set(rc={\"figure.figsize\":(10, 7)})\n",
    "sns.heatmap(pd.DataFrame(cf_mx_cb), annot=True)"
   ]
  },
  {
   "cell_type": "markdown",
   "id": "7678e17b",
   "metadata": {},
   "source": [
    "cf_mx_lr = confusion_matrix(y_test, y_pred_lr)"
   ]
  },
  {
   "cell_type": "markdown",
   "id": "bf92a8d6",
   "metadata": {},
   "source": [
    "sns.heatmap(pd.DataFrame(cf_mx_lr), annot=True)"
   ]
  },
  {
   "cell_type": "code",
   "execution_count": 119,
   "id": "69e9ad8f",
   "metadata": {},
   "outputs": [],
   "source": [
    "thresholds = np.linspace(0, 1, 50)"
   ]
  },
  {
   "cell_type": "code",
   "execution_count": 124,
   "id": "42f469b4",
   "metadata": {},
   "outputs": [],
   "source": [
    "def thresholding(X, y, threshold, model=CatBoostClassifier()):\n",
    "    model.set_probability_threshold(i)\n",
    "    y_pred_t = model.predict(X_test)\n",
    "    return {'Threshold': threshold, \n",
    "            'Precision': precision_score(y, y_pred_t), \n",
    "            'Recall': recall_score(y, y_pred_t), \n",
    "            'F1': f1_score(y, y_pred_t)}"
   ]
  },
  {
   "cell_type": "code",
   "execution_count": 125,
   "id": "6ccd9f16",
   "metadata": {},
   "outputs": [
    {
     "name": "stderr",
     "output_type": "stream",
     "text": [
      "D:\\Anaconda\\lib\\site-packages\\sklearn\\metrics\\_classification.py:1344: UndefinedMetricWarning: Precision is ill-defined and being set to 0.0 due to no predicted samples. Use `zero_division` parameter to control this behavior.\n",
      "  _warn_prf(average, modifier, msg_start, len(result))\n",
      "D:\\Anaconda\\lib\\site-packages\\sklearn\\metrics\\_classification.py:1344: UndefinedMetricWarning: Precision is ill-defined and being set to 0.0 due to no predicted samples. Use `zero_division` parameter to control this behavior.\n",
      "  _warn_prf(average, modifier, msg_start, len(result))\n",
      "D:\\Anaconda\\lib\\site-packages\\sklearn\\metrics\\_classification.py:1344: UndefinedMetricWarning: Precision is ill-defined and being set to 0.0 due to no predicted samples. Use `zero_division` parameter to control this behavior.\n",
      "  _warn_prf(average, modifier, msg_start, len(result))\n",
      "D:\\Anaconda\\lib\\site-packages\\sklearn\\metrics\\_classification.py:1344: UndefinedMetricWarning: Precision is ill-defined and being set to 0.0 due to no predicted samples. Use `zero_division` parameter to control this behavior.\n",
      "  _warn_prf(average, modifier, msg_start, len(result))\n",
      "D:\\Anaconda\\lib\\site-packages\\sklearn\\metrics\\_classification.py:1344: UndefinedMetricWarning: Precision is ill-defined and being set to 0.0 due to no predicted samples. Use `zero_division` parameter to control this behavior.\n",
      "  _warn_prf(average, modifier, msg_start, len(result))\n",
      "D:\\Anaconda\\lib\\site-packages\\sklearn\\metrics\\_classification.py:1344: UndefinedMetricWarning: Precision is ill-defined and being set to 0.0 due to no predicted samples. Use `zero_division` parameter to control this behavior.\n",
      "  _warn_prf(average, modifier, msg_start, len(result))\n",
      "D:\\Anaconda\\lib\\site-packages\\sklearn\\metrics\\_classification.py:1344: UndefinedMetricWarning: Precision is ill-defined and being set to 0.0 due to no predicted samples. Use `zero_division` parameter to control this behavior.\n",
      "  _warn_prf(average, modifier, msg_start, len(result))\n"
     ]
    }
   ],
   "source": [
    "a=[]\n",
    "for i in thresholds:\n",
    "    a.append(thresholding(X_test, y_test, i, cb_best.best_estimator_))"
   ]
  },
  {
   "cell_type": "code",
   "execution_count": 136,
   "id": "fbeccd04",
   "metadata": {},
   "outputs": [
    {
     "data": {
      "text/html": [
       "<div>\n",
       "<style scoped>\n",
       "    .dataframe tbody tr th:only-of-type {\n",
       "        vertical-align: middle;\n",
       "    }\n",
       "\n",
       "    .dataframe tbody tr th {\n",
       "        vertical-align: top;\n",
       "    }\n",
       "\n",
       "    .dataframe thead th {\n",
       "        text-align: right;\n",
       "    }\n",
       "</style>\n",
       "<table border=\"1\" class=\"dataframe\">\n",
       "  <thead>\n",
       "    <tr style=\"text-align: right;\">\n",
       "      <th></th>\n",
       "      <th>Threshold</th>\n",
       "      <th>Precision</th>\n",
       "      <th>Recall</th>\n",
       "      <th>F1</th>\n",
       "    </tr>\n",
       "  </thead>\n",
       "  <tbody>\n",
       "    <tr>\n",
       "      <th>14</th>\n",
       "      <td>0.285714</td>\n",
       "      <td>0.403704</td>\n",
       "      <td>0.741497</td>\n",
       "      <td>0.522782</td>\n",
       "    </tr>\n",
       "    <tr>\n",
       "      <th>15</th>\n",
       "      <td>0.306122</td>\n",
       "      <td>0.458763</td>\n",
       "      <td>0.605442</td>\n",
       "      <td>0.521994</td>\n",
       "    </tr>\n",
       "    <tr>\n",
       "      <th>16</th>\n",
       "      <td>0.326531</td>\n",
       "      <td>0.513889</td>\n",
       "      <td>0.503401</td>\n",
       "      <td>0.508591</td>\n",
       "    </tr>\n",
       "    <tr>\n",
       "      <th>13</th>\n",
       "      <td>0.265306</td>\n",
       "      <td>0.360000</td>\n",
       "      <td>0.857143</td>\n",
       "      <td>0.507042</td>\n",
       "    </tr>\n",
       "    <tr>\n",
       "      <th>17</th>\n",
       "      <td>0.346939</td>\n",
       "      <td>0.575472</td>\n",
       "      <td>0.414966</td>\n",
       "      <td>0.482213</td>\n",
       "    </tr>\n",
       "    <tr>\n",
       "      <th>12</th>\n",
       "      <td>0.244898</td>\n",
       "      <td>0.316629</td>\n",
       "      <td>0.945578</td>\n",
       "      <td>0.474403</td>\n",
       "    </tr>\n",
       "    <tr>\n",
       "      <th>18</th>\n",
       "      <td>0.367347</td>\n",
       "      <td>0.623529</td>\n",
       "      <td>0.360544</td>\n",
       "      <td>0.456897</td>\n",
       "    </tr>\n",
       "    <tr>\n",
       "      <th>0</th>\n",
       "      <td>0.000000</td>\n",
       "      <td>0.294000</td>\n",
       "      <td>1.000000</td>\n",
       "      <td>0.454405</td>\n",
       "    </tr>\n",
       "    <tr>\n",
       "      <th>1</th>\n",
       "      <td>0.020408</td>\n",
       "      <td>0.294000</td>\n",
       "      <td>1.000000</td>\n",
       "      <td>0.454405</td>\n",
       "    </tr>\n",
       "    <tr>\n",
       "      <th>2</th>\n",
       "      <td>0.040816</td>\n",
       "      <td>0.294000</td>\n",
       "      <td>1.000000</td>\n",
       "      <td>0.454405</td>\n",
       "    </tr>\n",
       "    <tr>\n",
       "      <th>3</th>\n",
       "      <td>0.061224</td>\n",
       "      <td>0.294000</td>\n",
       "      <td>1.000000</td>\n",
       "      <td>0.454405</td>\n",
       "    </tr>\n",
       "    <tr>\n",
       "      <th>4</th>\n",
       "      <td>0.081633</td>\n",
       "      <td>0.294000</td>\n",
       "      <td>1.000000</td>\n",
       "      <td>0.454405</td>\n",
       "    </tr>\n",
       "    <tr>\n",
       "      <th>5</th>\n",
       "      <td>0.102041</td>\n",
       "      <td>0.294000</td>\n",
       "      <td>1.000000</td>\n",
       "      <td>0.454405</td>\n",
       "    </tr>\n",
       "    <tr>\n",
       "      <th>6</th>\n",
       "      <td>0.122449</td>\n",
       "      <td>0.294000</td>\n",
       "      <td>1.000000</td>\n",
       "      <td>0.454405</td>\n",
       "    </tr>\n",
       "    <tr>\n",
       "      <th>7</th>\n",
       "      <td>0.142857</td>\n",
       "      <td>0.294000</td>\n",
       "      <td>1.000000</td>\n",
       "      <td>0.454405</td>\n",
       "    </tr>\n",
       "    <tr>\n",
       "      <th>8</th>\n",
       "      <td>0.163265</td>\n",
       "      <td>0.294000</td>\n",
       "      <td>1.000000</td>\n",
       "      <td>0.454405</td>\n",
       "    </tr>\n",
       "    <tr>\n",
       "      <th>9</th>\n",
       "      <td>0.183673</td>\n",
       "      <td>0.294000</td>\n",
       "      <td>1.000000</td>\n",
       "      <td>0.454405</td>\n",
       "    </tr>\n",
       "    <tr>\n",
       "      <th>10</th>\n",
       "      <td>0.204082</td>\n",
       "      <td>0.294000</td>\n",
       "      <td>1.000000</td>\n",
       "      <td>0.454405</td>\n",
       "    </tr>\n",
       "    <tr>\n",
       "      <th>11</th>\n",
       "      <td>0.224490</td>\n",
       "      <td>0.294000</td>\n",
       "      <td>1.000000</td>\n",
       "      <td>0.454405</td>\n",
       "    </tr>\n",
       "    <tr>\n",
       "      <th>19</th>\n",
       "      <td>0.387755</td>\n",
       "      <td>0.641791</td>\n",
       "      <td>0.292517</td>\n",
       "      <td>0.401869</td>\n",
       "    </tr>\n",
       "    <tr>\n",
       "      <th>21</th>\n",
       "      <td>0.428571</td>\n",
       "      <td>0.750000</td>\n",
       "      <td>0.244898</td>\n",
       "      <td>0.369231</td>\n",
       "    </tr>\n",
       "    <tr>\n",
       "      <th>20</th>\n",
       "      <td>0.408163</td>\n",
       "      <td>0.720000</td>\n",
       "      <td>0.244898</td>\n",
       "      <td>0.365482</td>\n",
       "    </tr>\n",
       "    <tr>\n",
       "      <th>24</th>\n",
       "      <td>0.489796</td>\n",
       "      <td>0.810811</td>\n",
       "      <td>0.204082</td>\n",
       "      <td>0.326087</td>\n",
       "    </tr>\n",
       "    <tr>\n",
       "      <th>22</th>\n",
       "      <td>0.448980</td>\n",
       "      <td>0.769231</td>\n",
       "      <td>0.204082</td>\n",
       "      <td>0.322581</td>\n",
       "    </tr>\n",
       "    <tr>\n",
       "      <th>23</th>\n",
       "      <td>0.469388</td>\n",
       "      <td>0.769231</td>\n",
       "      <td>0.204082</td>\n",
       "      <td>0.322581</td>\n",
       "    </tr>\n",
       "    <tr>\n",
       "      <th>25</th>\n",
       "      <td>0.510204</td>\n",
       "      <td>0.878788</td>\n",
       "      <td>0.197279</td>\n",
       "      <td>0.322222</td>\n",
       "    </tr>\n",
       "    <tr>\n",
       "      <th>26</th>\n",
       "      <td>0.530612</td>\n",
       "      <td>0.862069</td>\n",
       "      <td>0.170068</td>\n",
       "      <td>0.284091</td>\n",
       "    </tr>\n",
       "    <tr>\n",
       "      <th>27</th>\n",
       "      <td>0.551020</td>\n",
       "      <td>0.857143</td>\n",
       "      <td>0.163265</td>\n",
       "      <td>0.274286</td>\n",
       "    </tr>\n",
       "    <tr>\n",
       "      <th>28</th>\n",
       "      <td>0.571429</td>\n",
       "      <td>0.846154</td>\n",
       "      <td>0.149660</td>\n",
       "      <td>0.254335</td>\n",
       "    </tr>\n",
       "    <tr>\n",
       "      <th>29</th>\n",
       "      <td>0.591837</td>\n",
       "      <td>0.846154</td>\n",
       "      <td>0.149660</td>\n",
       "      <td>0.254335</td>\n",
       "    </tr>\n",
       "    <tr>\n",
       "      <th>30</th>\n",
       "      <td>0.612245</td>\n",
       "      <td>0.875000</td>\n",
       "      <td>0.142857</td>\n",
       "      <td>0.245614</td>\n",
       "    </tr>\n",
       "    <tr>\n",
       "      <th>31</th>\n",
       "      <td>0.632653</td>\n",
       "      <td>0.869565</td>\n",
       "      <td>0.136054</td>\n",
       "      <td>0.235294</td>\n",
       "    </tr>\n",
       "    <tr>\n",
       "      <th>32</th>\n",
       "      <td>0.653061</td>\n",
       "      <td>0.857143</td>\n",
       "      <td>0.122449</td>\n",
       "      <td>0.214286</td>\n",
       "    </tr>\n",
       "    <tr>\n",
       "      <th>33</th>\n",
       "      <td>0.673469</td>\n",
       "      <td>0.850000</td>\n",
       "      <td>0.115646</td>\n",
       "      <td>0.203593</td>\n",
       "    </tr>\n",
       "    <tr>\n",
       "      <th>34</th>\n",
       "      <td>0.693878</td>\n",
       "      <td>0.850000</td>\n",
       "      <td>0.115646</td>\n",
       "      <td>0.203593</td>\n",
       "    </tr>\n",
       "    <tr>\n",
       "      <th>35</th>\n",
       "      <td>0.714286</td>\n",
       "      <td>0.882353</td>\n",
       "      <td>0.102041</td>\n",
       "      <td>0.182927</td>\n",
       "    </tr>\n",
       "    <tr>\n",
       "      <th>36</th>\n",
       "      <td>0.734694</td>\n",
       "      <td>0.866667</td>\n",
       "      <td>0.088435</td>\n",
       "      <td>0.160494</td>\n",
       "    </tr>\n",
       "    <tr>\n",
       "      <th>37</th>\n",
       "      <td>0.755102</td>\n",
       "      <td>0.818182</td>\n",
       "      <td>0.061224</td>\n",
       "      <td>0.113924</td>\n",
       "    </tr>\n",
       "    <tr>\n",
       "      <th>38</th>\n",
       "      <td>0.775510</td>\n",
       "      <td>0.833333</td>\n",
       "      <td>0.034014</td>\n",
       "      <td>0.065359</td>\n",
       "    </tr>\n",
       "    <tr>\n",
       "      <th>40</th>\n",
       "      <td>0.816327</td>\n",
       "      <td>1.000000</td>\n",
       "      <td>0.013605</td>\n",
       "      <td>0.026846</td>\n",
       "    </tr>\n",
       "    <tr>\n",
       "      <th>39</th>\n",
       "      <td>0.795918</td>\n",
       "      <td>0.666667</td>\n",
       "      <td>0.013605</td>\n",
       "      <td>0.026667</td>\n",
       "    </tr>\n",
       "    <tr>\n",
       "      <th>41</th>\n",
       "      <td>0.836735</td>\n",
       "      <td>1.000000</td>\n",
       "      <td>0.006803</td>\n",
       "      <td>0.013514</td>\n",
       "    </tr>\n",
       "    <tr>\n",
       "      <th>42</th>\n",
       "      <td>0.857143</td>\n",
       "      <td>1.000000</td>\n",
       "      <td>0.006803</td>\n",
       "      <td>0.013514</td>\n",
       "    </tr>\n",
       "    <tr>\n",
       "      <th>43</th>\n",
       "      <td>0.877551</td>\n",
       "      <td>0.000000</td>\n",
       "      <td>0.000000</td>\n",
       "      <td>0.000000</td>\n",
       "    </tr>\n",
       "    <tr>\n",
       "      <th>44</th>\n",
       "      <td>0.897959</td>\n",
       "      <td>0.000000</td>\n",
       "      <td>0.000000</td>\n",
       "      <td>0.000000</td>\n",
       "    </tr>\n",
       "    <tr>\n",
       "      <th>45</th>\n",
       "      <td>0.918367</td>\n",
       "      <td>0.000000</td>\n",
       "      <td>0.000000</td>\n",
       "      <td>0.000000</td>\n",
       "    </tr>\n",
       "    <tr>\n",
       "      <th>46</th>\n",
       "      <td>0.938776</td>\n",
       "      <td>0.000000</td>\n",
       "      <td>0.000000</td>\n",
       "      <td>0.000000</td>\n",
       "    </tr>\n",
       "    <tr>\n",
       "      <th>47</th>\n",
       "      <td>0.959184</td>\n",
       "      <td>0.000000</td>\n",
       "      <td>0.000000</td>\n",
       "      <td>0.000000</td>\n",
       "    </tr>\n",
       "    <tr>\n",
       "      <th>48</th>\n",
       "      <td>0.979592</td>\n",
       "      <td>0.000000</td>\n",
       "      <td>0.000000</td>\n",
       "      <td>0.000000</td>\n",
       "    </tr>\n",
       "    <tr>\n",
       "      <th>49</th>\n",
       "      <td>1.000000</td>\n",
       "      <td>0.000000</td>\n",
       "      <td>0.000000</td>\n",
       "      <td>0.000000</td>\n",
       "    </tr>\n",
       "  </tbody>\n",
       "</table>\n",
       "</div>"
      ],
      "text/plain": [
       "    Threshold  Precision    Recall        F1\n",
       "14   0.285714   0.403704  0.741497  0.522782\n",
       "15   0.306122   0.458763  0.605442  0.521994\n",
       "16   0.326531   0.513889  0.503401  0.508591\n",
       "13   0.265306   0.360000  0.857143  0.507042\n",
       "17   0.346939   0.575472  0.414966  0.482213\n",
       "12   0.244898   0.316629  0.945578  0.474403\n",
       "18   0.367347   0.623529  0.360544  0.456897\n",
       "0    0.000000   0.294000  1.000000  0.454405\n",
       "1    0.020408   0.294000  1.000000  0.454405\n",
       "2    0.040816   0.294000  1.000000  0.454405\n",
       "3    0.061224   0.294000  1.000000  0.454405\n",
       "4    0.081633   0.294000  1.000000  0.454405\n",
       "5    0.102041   0.294000  1.000000  0.454405\n",
       "6    0.122449   0.294000  1.000000  0.454405\n",
       "7    0.142857   0.294000  1.000000  0.454405\n",
       "8    0.163265   0.294000  1.000000  0.454405\n",
       "9    0.183673   0.294000  1.000000  0.454405\n",
       "10   0.204082   0.294000  1.000000  0.454405\n",
       "11   0.224490   0.294000  1.000000  0.454405\n",
       "19   0.387755   0.641791  0.292517  0.401869\n",
       "21   0.428571   0.750000  0.244898  0.369231\n",
       "20   0.408163   0.720000  0.244898  0.365482\n",
       "24   0.489796   0.810811  0.204082  0.326087\n",
       "22   0.448980   0.769231  0.204082  0.322581\n",
       "23   0.469388   0.769231  0.204082  0.322581\n",
       "25   0.510204   0.878788  0.197279  0.322222\n",
       "26   0.530612   0.862069  0.170068  0.284091\n",
       "27   0.551020   0.857143  0.163265  0.274286\n",
       "28   0.571429   0.846154  0.149660  0.254335\n",
       "29   0.591837   0.846154  0.149660  0.254335\n",
       "30   0.612245   0.875000  0.142857  0.245614\n",
       "31   0.632653   0.869565  0.136054  0.235294\n",
       "32   0.653061   0.857143  0.122449  0.214286\n",
       "33   0.673469   0.850000  0.115646  0.203593\n",
       "34   0.693878   0.850000  0.115646  0.203593\n",
       "35   0.714286   0.882353  0.102041  0.182927\n",
       "36   0.734694   0.866667  0.088435  0.160494\n",
       "37   0.755102   0.818182  0.061224  0.113924\n",
       "38   0.775510   0.833333  0.034014  0.065359\n",
       "40   0.816327   1.000000  0.013605  0.026846\n",
       "39   0.795918   0.666667  0.013605  0.026667\n",
       "41   0.836735   1.000000  0.006803  0.013514\n",
       "42   0.857143   1.000000  0.006803  0.013514\n",
       "43   0.877551   0.000000  0.000000  0.000000\n",
       "44   0.897959   0.000000  0.000000  0.000000\n",
       "45   0.918367   0.000000  0.000000  0.000000\n",
       "46   0.938776   0.000000  0.000000  0.000000\n",
       "47   0.959184   0.000000  0.000000  0.000000\n",
       "48   0.979592   0.000000  0.000000  0.000000\n",
       "49   1.000000   0.000000  0.000000  0.000000"
      ]
     },
     "execution_count": 136,
     "metadata": {},
     "output_type": "execute_result"
    }
   ],
   "source": [
    "pd.DataFrame(a).sort_values(['F1','Precision'], ascending=[False, False])"
   ]
  },
  {
   "cell_type": "code",
   "execution_count": 56,
   "id": "84cefdaf",
   "metadata": {},
   "outputs": [],
   "source": [
    "cb_best.best_estimator_.set_probability_threshold(0.428571)"
   ]
  },
  {
   "cell_type": "code",
   "execution_count": 70,
   "id": "f3a5514a",
   "metadata": {},
   "outputs": [],
   "source": [
    "y_pred = cb_best.best_estimator_.predict(X_test)"
   ]
  },
  {
   "cell_type": "code",
   "execution_count": 71,
   "id": "f26d7908",
   "metadata": {},
   "outputs": [],
   "source": [
    "cf_mx = confusion_matrix(y_test, y_pred)"
   ]
  },
  {
   "cell_type": "code",
   "execution_count": 72,
   "id": "dab526f2",
   "metadata": {},
   "outputs": [
    {
     "data": {
      "text/plain": [
       "<Axes: >"
      ]
     },
     "execution_count": 72,
     "metadata": {},
     "output_type": "execute_result"
    },
    {
     "data": {
      "image/png": "[encoded data removed]",
      "text/plain": [
       "<Figure size 1000x700 with 2 Axes>"
      ]
     },
     "metadata": {},
     "output_type": "display_data"
    }
   ],
   "source": [
    "sns.heatmap(pd.DataFrame(cf_mx), annot=True)"
   ]
  },
  {
   "cell_type": "code",
   "execution_count": 73,
   "id": "7105173c",
   "metadata": {},
   "outputs": [
    {
     "name": "stdout",
     "output_type": "stream",
     "text": [
      "CatBoost:  \n",
      "    Precision:  0.75 \n",
      "    Recall:  0.24489795918367346 \n",
      "    F1:  0.3692307692307692\n"
     ]
    }
   ],
   "source": [
    "print('CatBoost: ', \n",
    "      '\\n    Precision: ', precision_score(y_test, y_pred), \n",
    "      '\\n    Recall: ', recall_score(y_test, y_pred),\n",
    "      '\\n    F1: ', f1_score(y_test, y_pred))"
   ]
  },
  {
   "cell_type": "code",
   "execution_count": 88,
   "id": "f64041eb",
   "metadata": {},
   "outputs": [],
   "source": [
    "y_pred = [1]*len(y_test)"
   ]
  },
  {
   "cell_type": "code",
   "execution_count": 89,
   "id": "2aba0559",
   "metadata": {},
   "outputs": [
    {
     "name": "stdout",
     "output_type": "stream",
     "text": [
      "Baseline:  \n",
      "    Precision:  0.294 \n",
      "    Recall:  1.0 \n",
      "    F1:  0.4544049459041731\n"
     ]
    }
   ],
   "source": [
    "print('Baseline: ', \n",
    "      '\\n    Precision: ', precision_score(y_test, y_pred), \n",
    "      '\\n    Recall: ', recall_score(y_test, y_pred),\n",
    "      '\\n    F1: ', f1_score(y_test, y_pred))"
   ]
  },
  {
   "cell_type": "code",
   "execution_count": 90,
   "id": "6b03a3d1",
   "metadata": {},
   "outputs": [],
   "source": [
    "cf_mx = confusion_matrix(y_test, y_pred)"
   ]
  },
  {
   "cell_type": "code",
   "execution_count": 91,
   "id": "bbde8e78",
   "metadata": {},
   "outputs": [
    {
     "data": {
      "text/plain": [
       "<Axes: >"
      ]
     },
     "execution_count": 91,
     "metadata": {},
     "output_type": "execute_result"
    },
    {
     "data": {
      "image/png": "[encoded data removed]",
      "text/plain": [
       "<Figure size 1000x700 with 2 Axes>"
      ]
     },
     "metadata": {},
     "output_type": "display_data"
    }
   ],
   "source": [
    "sns.heatmap(pd.DataFrame(cf_mx), annot=True)"
   ]
  },
  {
   "cell_type": "code",
   "execution_count": null,
   "id": "0a656006",
   "metadata": {},
   "outputs": [],
   "source": []
  }
 ],
 "metadata": {
  "kernelspec": {
   "display_name": "Python 3 (ipykernel)",
   "language": "python",
   "name": "python3"
  },
  "language_info": {
   "codemirror_mode": {
    "name": "ipython",
    "version": 3
   },
   "file_extension": ".py",
   "mimetype": "text/x-python",
   "name": "python",
   "nbconvert_exporter": "python",
   "pygments_lexer": "ipython3",
   "version": "3.10.9"
  }
 },
 "nbformat": 4,
 "nbformat_minor": 5
}
